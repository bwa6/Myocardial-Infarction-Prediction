{
 "cells": [
  {
   "cell_type": "markdown",
   "metadata": {},
   "source": [
    "# Predicting Outcomes of Myocardial Infarction (MI)"
   ]
  },
  {
   "cell_type": "markdown",
   "metadata": {},
   "source": [
    "This dataset comes from the UCI Machine Learning Repository called the Myocardial infarction complications data set. My interest in this dataset originates from the research I performed in the first three years of my Ph.D at Duke University.  I studied cardiac tissue engineering where I differentiated human induced pluripotent stem cells into cardiomyocytes and embedded them into a hydrogel to form a contractile cardiac tissue that can be implanted on the epicardium to facilitate recovery from myocardial infarction.  As a result, I was curious if I could use my new skills in machine learning algorithms to analyze this dataset to predict whether a patient will die.  The dataset contains medical information from patients prior to hospital admission and during the first three days at the hospital.  My goal is to develop a ML algorithm using the 112 features to predict whether a patient will die."
   ]
  },
  {
   "cell_type": "code",
   "execution_count": 625,
   "metadata": {},
   "outputs": [],
   "source": [
    "%matplotlib inline\n",
    "import numpy as np\n",
    "import pandas as pd\n",
    "import matplotlib.pyplot as plt\n",
    "\n",
    "from sklearn.model_selection import train_test_split\n",
    "\n",
    "from sklearn.preprocessing import StandardScaler\n",
    "from sklearn.compose import ColumnTransformer\n",
    "from sklearn.preprocessing import OneHotEncoder\n",
    "\n",
    "from sklearn.neighbors import KNeighborsClassifier\n",
    "from sklearn.ensemble import RandomForestClassifier\n",
    "from sklearn.svm import SVC\n",
    "\n",
    "from sklearn.model_selection import GridSearchCV\n",
    "from sklearn.model_selection import cross_val_score\n",
    "from sklearn.model_selection import cross_val_predict\n",
    "from sklearn.metrics import precision_recall_curve\n",
    "from sklearn.metrics import roc_curve\n",
    "from sklearn.metrics import classification_report\n",
    "from sklearn.metrics import plot_confusion_matrix\n",
    "\n"
   ]
  },
  {
   "cell_type": "code",
   "execution_count": 626,
   "metadata": {},
   "outputs": [
    {
     "data": {
      "text/html": [
       "<div>\n",
       "<style scoped>\n",
       "    .dataframe tbody tr th:only-of-type {\n",
       "        vertical-align: middle;\n",
       "    }\n",
       "\n",
       "    .dataframe tbody tr th {\n",
       "        vertical-align: top;\n",
       "    }\n",
       "\n",
       "    .dataframe thead th {\n",
       "        text-align: right;\n",
       "    }\n",
       "</style>\n",
       "<table border=\"1\" class=\"dataframe\">\n",
       "  <thead>\n",
       "    <tr style=\"text-align: right;\">\n",
       "      <th></th>\n",
       "      <th>1</th>\n",
       "      <th>77</th>\n",
       "      <th>1.1</th>\n",
       "      <th>2</th>\n",
       "      <th>1.2</th>\n",
       "      <th>1.3</th>\n",
       "      <th>2.1</th>\n",
       "      <th>?</th>\n",
       "      <th>3</th>\n",
       "      <th>0</th>\n",
       "      <th>...</th>\n",
       "      <th>0.81</th>\n",
       "      <th>0.82</th>\n",
       "      <th>0.83</th>\n",
       "      <th>0.84</th>\n",
       "      <th>0.85</th>\n",
       "      <th>0.86</th>\n",
       "      <th>0.87</th>\n",
       "      <th>0.88</th>\n",
       "      <th>0.89</th>\n",
       "      <th>0.90</th>\n",
       "    </tr>\n",
       "  </thead>\n",
       "  <tbody>\n",
       "    <tr>\n",
       "      <th>0</th>\n",
       "      <td>2</td>\n",
       "      <td>55</td>\n",
       "      <td>1</td>\n",
       "      <td>1</td>\n",
       "      <td>0</td>\n",
       "      <td>0</td>\n",
       "      <td>0</td>\n",
       "      <td>0</td>\n",
       "      <td>0</td>\n",
       "      <td>0</td>\n",
       "      <td>...</td>\n",
       "      <td>0</td>\n",
       "      <td>0</td>\n",
       "      <td>0</td>\n",
       "      <td>0</td>\n",
       "      <td>0</td>\n",
       "      <td>0</td>\n",
       "      <td>0</td>\n",
       "      <td>0</td>\n",
       "      <td>0</td>\n",
       "      <td>0</td>\n",
       "    </tr>\n",
       "    <tr>\n",
       "      <th>1</th>\n",
       "      <td>3</td>\n",
       "      <td>52</td>\n",
       "      <td>1</td>\n",
       "      <td>0</td>\n",
       "      <td>0</td>\n",
       "      <td>0</td>\n",
       "      <td>2</td>\n",
       "      <td>?</td>\n",
       "      <td>2</td>\n",
       "      <td>0</td>\n",
       "      <td>...</td>\n",
       "      <td>0</td>\n",
       "      <td>0</td>\n",
       "      <td>0</td>\n",
       "      <td>0</td>\n",
       "      <td>0</td>\n",
       "      <td>0</td>\n",
       "      <td>0</td>\n",
       "      <td>0</td>\n",
       "      <td>0</td>\n",
       "      <td>0</td>\n",
       "    </tr>\n",
       "    <tr>\n",
       "      <th>2</th>\n",
       "      <td>4</td>\n",
       "      <td>68</td>\n",
       "      <td>0</td>\n",
       "      <td>0</td>\n",
       "      <td>0</td>\n",
       "      <td>0</td>\n",
       "      <td>2</td>\n",
       "      <td>?</td>\n",
       "      <td>2</td>\n",
       "      <td>0</td>\n",
       "      <td>...</td>\n",
       "      <td>0</td>\n",
       "      <td>0</td>\n",
       "      <td>0</td>\n",
       "      <td>0</td>\n",
       "      <td>0</td>\n",
       "      <td>0</td>\n",
       "      <td>1</td>\n",
       "      <td>0</td>\n",
       "      <td>0</td>\n",
       "      <td>0</td>\n",
       "    </tr>\n",
       "    <tr>\n",
       "      <th>3</th>\n",
       "      <td>5</td>\n",
       "      <td>60</td>\n",
       "      <td>1</td>\n",
       "      <td>0</td>\n",
       "      <td>0</td>\n",
       "      <td>0</td>\n",
       "      <td>2</td>\n",
       "      <td>?</td>\n",
       "      <td>3</td>\n",
       "      <td>0</td>\n",
       "      <td>...</td>\n",
       "      <td>0</td>\n",
       "      <td>0</td>\n",
       "      <td>0</td>\n",
       "      <td>0</td>\n",
       "      <td>0</td>\n",
       "      <td>0</td>\n",
       "      <td>0</td>\n",
       "      <td>0</td>\n",
       "      <td>0</td>\n",
       "      <td>0</td>\n",
       "    </tr>\n",
       "    <tr>\n",
       "      <th>4</th>\n",
       "      <td>6</td>\n",
       "      <td>64</td>\n",
       "      <td>1</td>\n",
       "      <td>0</td>\n",
       "      <td>1</td>\n",
       "      <td>2</td>\n",
       "      <td>1</td>\n",
       "      <td>?</td>\n",
       "      <td>0</td>\n",
       "      <td>0</td>\n",
       "      <td>...</td>\n",
       "      <td>0</td>\n",
       "      <td>0</td>\n",
       "      <td>0</td>\n",
       "      <td>0</td>\n",
       "      <td>0</td>\n",
       "      <td>0</td>\n",
       "      <td>0</td>\n",
       "      <td>0</td>\n",
       "      <td>0</td>\n",
       "      <td>0</td>\n",
       "    </tr>\n",
       "  </tbody>\n",
       "</table>\n",
       "<p>5 rows × 124 columns</p>\n",
       "</div>"
      ],
      "text/plain": [
       "   1  77  1.1  2 1.2 1.3 2.1  ?  3  0  ... 0.81 0.82 0.83 0.84 0.85 0.86 0.87  \\\n",
       "0  2  55    1  1   0   0   0  0  0  0  ...    0    0    0    0    0    0    0   \n",
       "1  3  52    1  0   0   0   2  ?  2  0  ...    0    0    0    0    0    0    0   \n",
       "2  4  68    0  0   0   0   2  ?  2  0  ...    0    0    0    0    0    0    1   \n",
       "3  5  60    1  0   0   0   2  ?  3  0  ...    0    0    0    0    0    0    0   \n",
       "4  6  64    1  0   1   2   1  ?  0  0  ...    0    0    0    0    0    0    0   \n",
       "\n",
       "  0.88 0.89 0.90  \n",
       "0    0    0    0  \n",
       "1    0    0    0  \n",
       "2    0    0    0  \n",
       "3    0    0    0  \n",
       "4    0    0    0  \n",
       "\n",
       "[5 rows x 124 columns]"
      ]
     },
     "execution_count": 626,
     "metadata": {},
     "output_type": "execute_result"
    }
   ],
   "source": [
    "address = 'https://archive.ics.uci.edu/ml/machine-learning-databases/00579/MI.data'\n",
    "df = pd.read_csv(address)\n",
    "df.head()"
   ]
  },
  {
   "cell_type": "markdown",
   "metadata": {},
   "source": [
    "The columns have bizarre names so I will change their names based on the information listed for each feature on the UCI Machine Learning Repository website."
   ]
  },
  {
   "cell_type": "code",
   "execution_count": 627,
   "metadata": {},
   "outputs": [],
   "source": [
    "col_names = pd.Series([\n",
    "    'ID',\n",
    "    'AGE',\n",
    "    'SEX',\n",
    "    'INF_ANAM',\n",
    "    'STENOK_AN',\n",
    "    'FK_STENOK',\n",
    "    'IBS_POST',\n",
    "    'IBS_NASL',\n",
    "    'GB',\n",
    "    'SIM_GIPERT',\n",
    "    'DLIT_AG',\n",
    "    'ZSN_A',\n",
    "    'nr11',\n",
    "    'nr01',\n",
    "    'nr02',\n",
    "    'nr03',\n",
    "    'nr04',\n",
    "    'nr07',\n",
    "    'nr08',\n",
    "    'np01',\n",
    "    'np04',\n",
    "    'np05',\n",
    "    'np07',\n",
    "    'np08',\n",
    "    'np09',\n",
    "    'np10',\n",
    "    'endocr_01',\n",
    "    'endocr_02',\n",
    "    'endocr_03',\n",
    "    'zab_leg_01',\n",
    "    'zab_leg_02',\n",
    "    'zab_leg_03',\n",
    "    'zab_leg_04',\n",
    "    'zab_leg_06',\n",
    "    'S_AD_KBRIG',\n",
    "    'D_AD_KBRIG',\n",
    "    'S_AD_ORIT',\n",
    "    'D_AD_ORIT',\n",
    "    'O_L_POST',\n",
    "    'K_SH_POST',\n",
    "    'MP_TP_POST',\n",
    "    'SVT_POST',\n",
    "    'GT_POST',\n",
    "    'FIB_G_POST',\n",
    "    'ant_im',\n",
    "    'lat_im',\n",
    "    'inf_im',\n",
    "    'post_im',\n",
    "    'IM_PG_P',\n",
    "    'ritm_ecg_p_01',\n",
    "    'ritm_ecg_p_02',\n",
    "    'ritm_ecg_p_04',\n",
    "    'ritm_ecg_p_06',\n",
    "    'ritm_ecg_p_07',\n",
    "    'ritm_ecg_p_08',\n",
    "    'n_r_ecg_p_01',\n",
    "    'n_r_ecg_p_02',\n",
    "    'n_r_ecg_p_03',\n",
    "    'n_r_ecg_p_04',\n",
    "    'n_r_ecg_p_05',\n",
    "    'n_r_ecg_p_06',\n",
    "    'n_r_ecg_p_08',\n",
    "    'n_r_ecg_p_09',\n",
    "    'n_r_ecg_p_10',\n",
    "    'n_p_ecg_p_01',\n",
    "    'n_p_ecg_p_03',\n",
    "    'n_p_ecg_p_04',\n",
    "    'n_p_ecg_p_05',\n",
    "    'n_p_ecg_p_06',\n",
    "    'n_p_ecg_p_07',\n",
    "    'n_p_ecg_p_08',\n",
    "    'n_p_ecg_p_09',\n",
    "    'n_p_ecg_p_10',\n",
    "    'n_p_ecg_p_11',\n",
    "    'n_p_ecg_p_12',\n",
    "    'fibr_ter_01',\n",
    "    'fibr_ter_02',\n",
    "    'fibr_ter_03',\n",
    "    'fibr_ter_05',\n",
    "    'fibr_ter_06',\n",
    "    'fibr_ter_07',\n",
    "    'fibr_ter_08',\n",
    "    'GIPO_K',\n",
    "    'K_BLOOD',\n",
    "    'GIPER_Na',\n",
    "    'Na_BLOOD',\n",
    "    'ALT_BLOOD',\n",
    "    'AST_BLOOD',\n",
    "    'KFK_BLOOD',\n",
    "    'L_BLOOD',\n",
    "    'ROE',\n",
    "    'TIME_B_S',\n",
    "    'R_AB_1_n',\n",
    "    'R_AB_2_n',\n",
    "    'R_AB_3_n',\n",
    "    'NA_KB',\n",
    "    'NOT_NA_KB',\n",
    "    'LID_KB',\n",
    "    'NITR_S',\n",
    "    'NA_R_1_n',\n",
    "    'NA_R_2_n',\n",
    "    'NA_R_3_n',\n",
    "    'NOT_NA_1_n',\n",
    "    'NOT_NA_2_n',\n",
    "    'NOT_NA_3_n',\n",
    "    'LID_S_n',\n",
    "    'B_BLOK_S_n',\n",
    "    'ANT_CA_S_n',\n",
    "    'GEPAR_S_n',\n",
    "    'ASP_S_n',\n",
    "    'TIKL_S_n',\n",
    "    'TRENT_S_n',\n",
    "    'FIBR_PREDS',\n",
    "    'PREDS_TAH',\n",
    "    'JELUD_TAH',\n",
    "    'FIBR_JELUD',\n",
    "    'A_V_BLOK',\n",
    "    'OTEK_LANC',\n",
    "    'RAZRIV',\n",
    "    'DRESSLER',\n",
    "    'ZSN',\n",
    "    'REC_IM',\n",
    "    'P_IM_STEN',\n",
    "    'LET_IS'\n",
    "])\n",
    "\n",
    "df.columns = col_names"
   ]
  },
  {
   "cell_type": "markdown",
   "metadata": {},
   "source": [
    "# Data Cleaning"
   ]
  },
  {
   "cell_type": "markdown",
   "metadata": {},
   "source": [
    "Based on looking at the first few rows of the data frame and the information provided on the UCI Machine Learning Repository website, all of the missing data is specified as '?' so I counted the number of times '?' appears in each feature."
   ]
  },
  {
   "cell_type": "code",
   "execution_count": 628,
   "metadata": {},
   "outputs": [
    {
     "data": {
      "text/plain": [
       "KFK_BLOOD     1695\n",
       "IBS_NASL      1627\n",
       "S_AD_KBRIG    1075\n",
       "D_AD_KBRIG    1075\n",
       "NOT_NA_KB      685\n",
       "              ... \n",
       "zab_leg_04       7\n",
       "zab_leg_06       7\n",
       "NA_R_1_n         5\n",
       "INF_ANAM         4\n",
       "IM_PG_P          1\n",
       "Length: 110, dtype: int64"
      ]
     },
     "execution_count": 628,
     "metadata": {},
     "output_type": "execute_result"
    }
   ],
   "source": [
    "df[df=='?'].count().sort_values(ascending=False)[:110]"
   ]
  },
  {
   "cell_type": "markdown",
   "metadata": {},
   "source": [
    "KFK_BLOOD, IBS_NASL, S_AD_KBRIG, D_AD_KBRIG, NOT_NA_KB, LID_KB, and NA_KB are missing signficant data so I will drop these features."
   ]
  },
  {
   "cell_type": "code",
   "execution_count": 629,
   "metadata": {},
   "outputs": [],
   "source": [
    "MI_df = df.drop(columns=['KFK_BLOOD','IBS_NASL','S_AD_KBRIG','D_AD_KBRIG',\n",
    "                        'NOT_NA_KB','LID_KB','NA_KB'], axis=1)"
   ]
  },
  {
   "cell_type": "markdown",
   "metadata": {},
   "source": [
    "Convert all data types to floats to be able to calculate statistics, such as mean, median, etc."
   ]
  },
  {
   "cell_type": "code",
   "execution_count": 630,
   "metadata": {},
   "outputs": [],
   "source": [
    "MI_df = MI_df.replace(to_replace='?',value=np.nan)\n",
    "MI_df = MI_df.astype('float32')"
   ]
  },
  {
   "cell_type": "markdown",
   "metadata": {},
   "source": [
    "One method to fix missing values is to impute the value based on the rest of the data. To start, I will identify features where the most common value occurs over 75% of the time.  In this case, I will guess that missing values in these columns are the value that occurs over 75% of the time."
   ]
  },
  {
   "cell_type": "code",
   "execution_count": 631,
   "metadata": {},
   "outputs": [],
   "source": [
    "# identify which columns have missing values\n",
    "Cols_missing = MI_df.isnull().sum().sort_values(ascending=False)\n",
    "Cols_missing = Cols_missing[Cols_missing != 0]\n",
    "\n",
    "Col_common = []\n",
    "Col_common_max_value = []\n",
    "for i in range(len(Cols_missing)):\n",
    "    if max(MI_df[Cols_missing.index[i]].value_counts())/MI_df[Cols_missing.index[i]].value_counts().sum()>0.75:\n",
    "        Col_common.append(Cols_missing.index[i])\n",
    "        Col_common_max_value.append(max(MI_df[Cols_missing.index[i]])) \n",
    "\n",
    "# replace nan with most common value if that value occurs more than 75% of the time\n",
    "for i in range(len(Col_common)):\n",
    "    MI_df[Col_common[i]].replace(np.nan,Col_common_max_value[i],inplace=True)"
   ]
  },
  {
   "cell_type": "code",
   "execution_count": 632,
   "metadata": {},
   "outputs": [
    {
     "data": {
      "text/plain": [
       "Na_BLOOD         375\n",
       "K_BLOOD          371\n",
       "GIPO_K           369\n",
       "AST_BLOOD        284\n",
       "ALT_BLOOD        283\n",
       "S_AD_ORIT        267\n",
       "D_AD_ORIT        267\n",
       "DLIT_AG          248\n",
       "ROE              203\n",
       "ritm_ecg_p_01    152\n",
       "TIME_B_S         126\n",
       "L_BLOOD          125\n",
       "STENOK_AN        106\n",
       "ant_im            83\n",
       "inf_im            80\n",
       "lat_im            80\n",
       "FK_STENOK         73\n",
       "IBS_POST          51\n",
       "ASP_S_n           17\n",
       "GEPAR_S_n         17\n",
       "ANT_CA_S_n        13\n",
       "NOT_NA_1_n        10\n",
       "LID_S_n           10\n",
       "GB                 9\n",
       "AGE                8\n",
       "NA_R_1_n           5\n",
       "INF_ANAM           4\n",
       "dtype: int64"
      ]
     },
     "execution_count": 632,
     "metadata": {},
     "output_type": "execute_result"
    }
   ],
   "source": [
    "# Identify which columns still have missing values\n",
    "Cols_missing = MI_df.isnull().sum().sort_values(ascending=False)\n",
    "Cols_missing = Cols_missing[Cols_missing != 0]\n",
    "Cols_missing"
   ]
  },
  {
   "cell_type": "markdown",
   "metadata": {},
   "source": [
    "For colums with numeric data, I will impute missing values as the median of the feature.  To do this, I will determine which columns are numeric vs. categorical based on the number of unique values in each column."
   ]
  },
  {
   "cell_type": "code",
   "execution_count": 633,
   "metadata": {},
   "outputs": [],
   "source": [
    "# separate columns with missing data into numeric vs. categorical\n",
    "Cols_num_missing = []\n",
    "Cols_cat_missing = []\n",
    "for i in range(len(Cols_missing)):\n",
    "    if len(MI_df[Cols_missing.index[i]].unique()) > 10:\n",
    "        Cols_num_missing.append(Cols_missing.index[i])\n",
    "    else:\n",
    "        Cols_cat_missing.append(Cols_missing.index[i])"
   ]
  },
  {
   "cell_type": "code",
   "execution_count": 634,
   "metadata": {},
   "outputs": [],
   "source": [
    "# create a function that replaces missing values in columns with numeric data with the median of the available data\n",
    "def use_numeric_average(columns):\n",
    "    for i in range(len(columns)):\n",
    "        median = MI_df[columns[i]].median()\n",
    "        MI_df[columns[i]].replace(np.nan,median,inplace=True)\n",
    "\n",
    "# Try replacing missing values of numeric data with median of available data\n",
    "use_numeric_average(Cols_num_missing)"
   ]
  },
  {
   "cell_type": "markdown",
   "metadata": {},
   "source": [
    "I still need to determine a solution for missing values in the columns containing categorical data. According to the UCI Machine Learning Repository website for this dataset, ritm_ecg_p_01, ritm_ecg_p_07, and ritm_ecg_p_08 are mutually exclusive, i.e. all of these values represent ECG at the time of admission with varying heart rates. ritm_ecg_p_01 has a heart rate of 60-90 bpm. ritm_ecg_p_07 has a heart rate greater than 90 bpm while ritm_ecg_p_08 has a heart rate lower than 60 bpm.  Since I have all of the data for ritm_ecg_p_07 and ritm_ecg_p_08, I can use those columns to determine values for ritm_ecg_p_01."
   ]
  },
  {
   "cell_type": "code",
   "execution_count": 635,
   "metadata": {},
   "outputs": [],
   "source": [
    "# Estimate ritm_ecg_p_01 based on ritm_ecg_p_07 and ritm_ecg_p_08 \n",
    "# ritm_ecg_p_01 must be 0 if either ritm_ecg_p_07 or ritm_ecg_p_08 is 1, and ritm_ecg_p_01 must be 1 they are both 0\n",
    "mask_01_null = MI_df['ritm_ecg_p_01'].isnull()\n",
    "mask_07 = MI_df['ritm_ecg_p_07'] == 0\n",
    "mask_08 = MI_df['ritm_ecg_p_08'] == 0\n",
    "\n",
    "MI_df['ritm_ecg_p_01'] = np.where(mask_01_null & mask_07 & mask_08, 1, MI_df.ritm_ecg_p_01)\n",
    "mask_null = MI_df['ritm_ecg_p_01'].isnull()\n",
    "MI_df['ritm_ecg_p_01'] = np.where(mask_null, 0, MI_df.ritm_ecg_p_01)"
   ]
  },
  {
   "cell_type": "markdown",
   "metadata": {},
   "source": [
    "For the remaining features containing missing values, I use various strategies that make the most sense for each feature."
   ]
  },
  {
   "cell_type": "code",
   "execution_count": 636,
   "metadata": {},
   "outputs": [],
   "source": [
    "# INF_ANAM - only 4 missing values and majority of values are 0\n",
    "MI_df['INF_ANAM'].replace(np.nan,0,inplace=True)\n",
    "\n",
    "# NA_R_1_n/NA_R_2_n represent how many opioids were used in the first/second day at the hospital\n",
    "# Patients with high opioid use on day 2 likely had high use on day 1\n",
    "# Since there is no missing data for NA_R_2_n, I will guess NA_R_1_n to have the same value as NA_R_2_n\n",
    "MI_df['NA_R_1_n'] = np.where(MI_df['NA_R_1_n'].isnull(), MI_df.NA_R_2_n, MI_df.NA_R_1_n)\n",
    "\n",
    "# LID_S_n - over 70% are 0 so set missing values to 0\n",
    "MI_df['LID_S_n'].replace(np.nan,0,inplace=True)\n",
    "\n",
    "# NOT_NA_1_n - over 70% are 0 so set missing values to 0\n",
    "MI_df['NOT_NA_1_n'].replace(np.nan,0,inplace=True)\n",
    "\n",
    "# ANT_CA_S_n - over 65% are 1 so set missing values to 1\n",
    "MI_df['ANT_CA_S_n'].replace(np.nan,1,inplace=True)\n",
    "\n",
    "# ASP_S_n - over 70% are 1 so set missing values to 1\n",
    "MI_df['ASP_S_n'].replace(np.nan,1,inplace=True)\n",
    "\n",
    "# GEPAR_S_n - over 70% are 1 so set missing values to 1\n",
    "MI_df['GEPAR_S_n'].replace(np.nan,1,inplace=True)\n",
    "\n",
    "# The following features represent the presence of myocardial infarction on ECG\n",
    "# Since the values are missing, the hospital likely did not need to perform the test \n",
    "# Therefore, the value is likely 0 (no myocardial infarction on ECG)\n",
    "MI_df['ant_im'].replace(np.nan,0,inplace=True)\n",
    "MI_df['lat_im'].replace(np.nan,0,inplace=True)\n",
    "MI_df['inf_im'].replace(np.nan,0,inplace=True)\n",
    "\n",
    "# GIPO_K refers to the presence of hypokalemia, or low levels of potassium in the plasma\n",
    "# K_BLOOD, which does not have missing data, is the level of potassium in the plasma\n",
    "# Hypokalemia occurs with at a plasma concentration below 4 mmol/L\n",
    "# Therefore, I can use the known K_BLOOD levels to determine missing values of GIPO_K\n",
    "mask_null = MI_df['GIPO_K'].isnull()\n",
    "mask_KBLOOD1 = MI_df['K_BLOOD']<4\n",
    "mask_KBLOOD2 = MI_df['K_BLOOD']>=4\n",
    "MI_df['GIPO_K'] = np.where(mask_null & mask_KBLOOD1, 1, MI_df.GIPO_K)\n",
    "MI_df['GIPO_K'] = np.where(mask_null & mask_KBLOOD2, 0, MI_df.GIPO_K)\n",
    "\n",
    "# GB - only 9 missing values and majority have value 2\n",
    "MI_df['GB'].replace(np.nan,2,inplace=True)\n",
    "\n",
    "# DLIT_AG - represents duration of hypertension - most values are either 0 (no hypertension) or 7 (more than 10 years)\n",
    "# GB, which does not have missing data, represents the presence of hypertension\n",
    "# Therefore, for patients with GB=0, DLIT_AG should be 0\n",
    "# For patients with GB>0, guess DLIT_AG=7, since it is the most common for patients with hypertension\n",
    "mask_null = MI_df['DLIT_AG'].isnull()\n",
    "mask_GB1 = MI_df['GB']==0\n",
    "mask_GB2 = MI_df['GB']>0\n",
    "MI_df['DLIT_AG'] = np.where(mask_null & mask_GB1, 0, MI_df.DLIT_AG)\n",
    "MI_df['DLIT_AG'] = np.where(mask_null & mask_GB2, 7, MI_df.DLIT_AG)\n",
    "\n",
    "# STENOK_AN refers to a patient's history of angina pectoris, which is often associated with myocardial infarction\n",
    "# INF_ANAM, what has no missing data, refers to a patient's history of myocardial infarction\n",
    "# Therefore, if INF_ANAM=0 (0 MI), STENOK_AN is most likely 0\n",
    "# If INF_ANAM>0, STENOK_AN is most commonly a value of 6\n",
    "mask_null = MI_df['STENOK_AN'].isnull()\n",
    "mask_INFANAM1 = MI_df['INF_ANAM']==0\n",
    "mask_INFANAM2 = MI_df['INF_ANAM']>0\n",
    "MI_df['STENOK_AN'] = np.where(mask_null & mask_INFANAM1, 0, MI_df.DLIT_AG)\n",
    "MI_df['STENOK_AN'] = np.where(mask_null & mask_INFANAM2, 6, MI_df.DLIT_AG)\n",
    "\n",
    "# FK_STENOK represents the type of angina pectoris\n",
    "# Therefore, if a patient has STENOK_AN=0, FK_STENOK should be 0\n",
    "# If STENOK_AN>0, majority of FK_STENOK are 2\n",
    "mask_null = MI_df['FK_STENOK'].isnull()\n",
    "mask_STENOKAN1 = MI_df['STENOK_AN']==0\n",
    "mask_STENOKAN2 = MI_df['STENOK_AN']>0\n",
    "MI_df['FK_STENOK'] = np.where(mask_null & mask_STENOKAN1, 0, MI_df.DLIT_AG)\n",
    "MI_df['FK_STENOK'] = np.where(mask_null & mask_STENOKAN2, 2, MI_df.DLIT_AG)\n",
    "\n",
    "# IBS_POST - fairly evenly divided among three categories - guess most common category (2)\n",
    "MI_df['IBS_POST'].replace(np.nan,2,inplace=True)\n",
    "\n",
    "# TIME_B_S - fairly evenly divided among many categories - guess most common category (2)\n",
    "MI_df['TIME_B_S'].replace(np.nan,2,inplace=True)"
   ]
  },
  {
   "cell_type": "markdown",
   "metadata": {},
   "source": [
    "# Separate training and testing data"
   ]
  },
  {
   "cell_type": "markdown",
   "metadata": {},
   "source": [
    "I am interested in predicting whether a patient dies, which is the column labeled 'LET_IS.' This feature has eight possible values due to different causes of death.  I am only interested in whether a patient dies, so I will convert this category into a binary outcome."
   ]
  },
  {
   "cell_type": "code",
   "execution_count": 637,
   "metadata": {},
   "outputs": [],
   "source": [
    "Data_df = MI_df.drop(['ID','FIBR_PREDS','PREDS_TAH','JELUD_TAH','FIBR_JELUD','A_V_BLOK',\n",
    "                      'OTEK_LANC','RAZRIV','DRESSLER','ZSN','REC_IM','P_IM_STEN','LET_IS'],axis=1)\n",
    "\n",
    "Target_df = MI_df['LET_IS']\n",
    "mask = Target_df == 0\n",
    "Target_df = np.where(mask,0,1)\n",
    "\n",
    "X_train, X_test, y_train, y_test = train_test_split(Data_df,Target_df,test_size=0.2)"
   ]
  },
  {
   "cell_type": "markdown",
   "metadata": {},
   "source": [
    "# Scale numeric data and one-hot encode categorical data"
   ]
  },
  {
   "cell_type": "markdown",
   "metadata": {},
   "source": [
    "Before training models on the training data, I need to make sure the numeric data is properly scaled to a mean of 0 and standard deviation of 1. For categorical data, I need to one-hot encode so that the algorithms do not perceive any relationships among the possible values of each category."
   ]
  },
  {
   "cell_type": "code",
   "execution_count": 641,
   "metadata": {},
   "outputs": [],
   "source": [
    "Columns_num = []\n",
    "Columns_cat_one_hot = []\n",
    "for i in range(len(Data_df.columns)):\n",
    "    if len(Data_df[Data_df.columns[i]].value_counts()) > 10:\n",
    "        Columns_num.append(Data_df.columns[i])\n",
    "    elif len(Data_df[Data_df.columns[i]].value_counts()) > 2:\n",
    "        Columns_cat_one_hot.append(Data_df.columns[i])\n",
    "num_attribs = Columns_num\n",
    "cat_attribs = Columns_cat_one_hot\n",
    "\n",
    "full_pipeline = ColumnTransformer([\n",
    "    (\"num\", StandardScaler(), num_attribs), \n",
    "    (\"cat\", OneHotEncoder(), cat_attribs),\n",
    "])\n",
    "X_train_prepared = full_pipeline.fit_transform(X_train)\n",
    "X_test_prepared = full_pipeline.transform(X_test)"
   ]
  },
  {
   "cell_type": "markdown",
   "metadata": {},
   "source": [
    "# Train Models"
   ]
  },
  {
   "cell_type": "markdown",
   "metadata": {},
   "source": [
    "## K-Nearest Neighbors (KNN)"
   ]
  },
  {
   "cell_type": "markdown",
   "metadata": {},
   "source": [
    "The first model I will test is a K-nearest neighbors supervised learning classifier. I will use 10-fold cross-validation to fit the optimal parameters."
   ]
  },
  {
   "cell_type": "code",
   "execution_count": 640,
   "metadata": {},
   "outputs": [
    {
     "data": {
      "text/plain": [
       "0.9117647058823529"
      ]
     },
     "execution_count": 640,
     "metadata": {},
     "output_type": "execute_result"
    }
   ],
   "source": [
    "knn_clf = KNeighborsClassifier() \n",
    "knn_clf.fit(X_train_prepared, y_train)\n",
    "knn_clf.score(X_test_prepared, y_test)"
   ]
  },
  {
   "cell_type": "markdown",
   "metadata": {},
   "source": [
    "This resulted in a seemingly high score but this could be due to a high accuracy of negative results with a low accuracy of positive results, so I need to explore this further.  For now, I will use a grid search with cross-validation to see if I can improve the model further."
   ]
  },
  {
   "cell_type": "code",
   "execution_count": 416,
   "metadata": {},
   "outputs": [
    {
     "name": "stdout",
     "output_type": "stream",
     "text": [
      "[0.80455487 0.68740032 0.72727273 0.76893939 0.82595694 0.81120415\n",
      " 0.73026316 0.81957735 0.7888756  0.83103592]\n"
     ]
    }
   ],
   "source": [
    "print(cross_val_score(knn_clf, X_train_prepared, y_train, scoring=\"roc_auc\", cv=10))"
   ]
  },
  {
   "cell_type": "code",
   "execution_count": 417,
   "metadata": {},
   "outputs": [
    {
     "data": {
      "text/plain": [
       "{'n_neighbors': 3, 'p': 1, 'weights': 'uniform'}"
      ]
     },
     "execution_count": 417,
     "metadata": {},
     "output_type": "execute_result"
    }
   ],
   "source": [
    "param_grid = [\n",
    "    {'n_neighbors': [3, 5, 10, 20, 25, 30], 'weights': ['uniform','distance'], 'p': [1,2]},\n",
    "]\n",
    "\n",
    "knn_clf = KNeighborsClassifier()\n",
    "grid_search = GridSearchCV(knn_clf, param_grid, cv=5, scoring='recall') \n",
    "grid_search.fit(X_train_prepared, y_train)\n",
    "grid_search.best_params_"
   ]
  },
  {
   "cell_type": "code",
   "execution_count": 418,
   "metadata": {},
   "outputs": [
    {
     "data": {
      "text/plain": [
       "<sklearn.metrics._plot.confusion_matrix.ConfusionMatrixDisplay at 0x7f96e5791a60>"
      ]
     },
     "execution_count": 418,
     "metadata": {},
     "output_type": "execute_result"
    },
    {
     "data": {
      "image/png": "[encoded data removed]",
      "text/plain": [
       "<Figure size 432x288 with 2 Axes>"
      ]
     },
     "metadata": {
      "needs_background": "light"
     },
     "output_type": "display_data"
    }
   ],
   "source": [
    "knn_clf = KNeighborsClassifier(n_neighbors=3, p=1, weights='uniform')\n",
    "knn_clf.fit(X_train_prepared,y_train)\n",
    "plot_confusion_matrix(knn_clf, X_test_prepared, y_test, values_format='d', display_labels=['alive', 'dead'])"
   ]
  },
  {
   "cell_type": "code",
   "execution_count": 419,
   "metadata": {},
   "outputs": [
    {
     "name": "stdout",
     "output_type": "stream",
     "text": [
      "              precision    recall  f1-score   support\n",
      "\n",
      "           0       0.91      0.99      0.95      1141\n",
      "           1       0.92      0.47      0.62       218\n",
      "\n",
      "    accuracy                           0.91      1359\n",
      "   macro avg       0.91      0.73      0.78      1359\n",
      "weighted avg       0.91      0.91      0.90      1359\n",
      "\n"
     ]
    }
   ],
   "source": [
    "y_train_pred = cross_val_predict(knn_clf, X_train_prepared, y_train, cv=10)\n",
    "print(classification_report(y_train, y_train_pred))"
   ]
  },
  {
   "cell_type": "markdown",
   "metadata": {},
   "source": [
    "After determining the optimal fit with grid search, I used the optimal hyperparameters to fit the data and tested the fit with the test data.  As suggested earlier, the high score is due to extremely accurate predictions of survivors but low accuracy of people that died.  The recall is 0.45 with approximately only half of the people that died correctly classified."
   ]
  },
  {
   "cell_type": "markdown",
   "metadata": {},
   "source": [
    "## Random Forest"
   ]
  },
  {
   "cell_type": "markdown",
   "metadata": {},
   "source": [
    "To see if I can get a more accurate prediction for people that die, I decided to test a random forest algorithm with optimized hyperparameters using a grid search with cross-validation."
   ]
  },
  {
   "cell_type": "code",
   "execution_count": 420,
   "metadata": {},
   "outputs": [
    {
     "data": {
      "text/plain": [
       "0.9117647058823529"
      ]
     },
     "execution_count": 420,
     "metadata": {},
     "output_type": "execute_result"
    }
   ],
   "source": [
    "forest_clf = RandomForestClassifier()\n",
    "forest_clf.fit(X_train_prepared, y_train)\n",
    "forest_clf.score(X_test_prepared, y_test)"
   ]
  },
  {
   "cell_type": "code",
   "execution_count": 422,
   "metadata": {},
   "outputs": [
    {
     "data": {
      "text/plain": [
       "{'bootstrap': False, 'max_features': 6, 'n_estimators': 100}"
      ]
     },
     "execution_count": 422,
     "metadata": {},
     "output_type": "execute_result"
    }
   ],
   "source": [
    "param_grid = [\n",
    "    {'n_estimators': [50, 100, 150], 'max_features': [10, 15, 20]},\n",
    "    {'bootstrap': [False], 'n_estimators': [50, 100, 150], 'max_features': [3, 6, 10, 15]},\n",
    "]\n",
    "\n",
    "forest_clf = RandomForestClassifier()\n",
    "grid_search = GridSearchCV(forest_clf, param_grid, cv=5, scoring='roc_auc') \n",
    "grid_search.fit(X_train_prepared, y_train)\n",
    "grid_search.best_params_"
   ]
  },
  {
   "cell_type": "code",
   "execution_count": 423,
   "metadata": {},
   "outputs": [
    {
     "data": {
      "text/plain": [
       "<sklearn.metrics._plot.confusion_matrix.ConfusionMatrixDisplay at 0x7f96e7e409d0>"
      ]
     },
     "execution_count": 423,
     "metadata": {},
     "output_type": "execute_result"
    },
    {
     "data": {
      "image/png": "[encoded data removed]",
      "text/plain": [
       "<Figure size 432x288 with 2 Axes>"
      ]
     },
     "metadata": {
      "needs_background": "light"
     },
     "output_type": "display_data"
    }
   ],
   "source": [
    "forest_clf = RandomForestClassifier(n_estimators=100, max_features=6, bootstrap=False)\n",
    "forest_clf.fit(X_train_prepared,y_train)\n",
    "plot_confusion_matrix(forest_clf, X_test_prepared, y_test, values_format='d', display_labels=['alive', 'dead'])"
   ]
  },
  {
   "cell_type": "code",
   "execution_count": 424,
   "metadata": {},
   "outputs": [
    {
     "name": "stdout",
     "output_type": "stream",
     "text": [
      "              precision    recall  f1-score   support\n",
      "\n",
      "           0       0.92      0.99      0.95      1141\n",
      "           1       0.92      0.52      0.66       218\n",
      "\n",
      "    accuracy                           0.92      1359\n",
      "   macro avg       0.92      0.75      0.81      1359\n",
      "weighted avg       0.92      0.92      0.91      1359\n",
      "\n"
     ]
    }
   ],
   "source": [
    "y_train_pred = cross_val_predict(forest_clf, X_train_prepared, y_train, cv=10)\n",
    "print(classification_report(y_train, y_train_pred))"
   ]
  },
  {
   "cell_type": "markdown",
   "metadata": {},
   "source": [
    "The random forest classifier had similar results as KNN but with a slightly improved recall of 0.52"
   ]
  },
  {
   "cell_type": "markdown",
   "metadata": {},
   "source": [
    "## Support Vector Machines (SVM)"
   ]
  },
  {
   "cell_type": "markdown",
   "metadata": {},
   "source": [
    "Finally, I tested a support vector machine algorithm to see if it could more accuratly predict death than KNN and the random forest classifier."
   ]
  },
  {
   "cell_type": "code",
   "execution_count": 639,
   "metadata": {},
   "outputs": [
    {
     "data": {
      "text/plain": [
       "<sklearn.metrics._plot.confusion_matrix.ConfusionMatrixDisplay at 0x7f96f0ed9700>"
      ]
     },
     "execution_count": 639,
     "metadata": {},
     "output_type": "execute_result"
    },
    {
     "data": {
      "image/png": "[encoded data removed]",
      "text/plain": [
       "<Figure size 432x288 with 2 Axes>"
      ]
     },
     "metadata": {
      "needs_background": "light"
     },
     "output_type": "display_data"
    }
   ],
   "source": [
    "svm_clf = SVC()\n",
    "svm_clf.fit(X_train_prepared,y_train)\n",
    "plot_confusion_matrix(svm_clf, X_test_prepared, y_test, values_format='d', display_labels=['alive','dead'])"
   ]
  },
  {
   "cell_type": "code",
   "execution_count": 426,
   "metadata": {},
   "outputs": [
    {
     "data": {
      "text/plain": [
       "{'C': 1, 'gamma': 0.01, 'kernel': 'rbf'}"
      ]
     },
     "execution_count": 426,
     "metadata": {},
     "output_type": "execute_result"
    }
   ],
   "source": [
    "param_grid = [\n",
    "    {'C': [0.5, 1, 10, 100], \n",
    "     'gamma': ['scale', 1, 0.1, 0.01, 0.001, 0.0001], \n",
    "     'kernel': ['rbf']},\n",
    "]\n",
    "\n",
    "svm_clf = SVC()\n",
    "grid_search = GridSearchCV(svm_clf, param_grid, cv=5, scoring='roc_auc') \n",
    "grid_search.fit(X_train_prepared, y_train)\n",
    "grid_search.best_params_"
   ]
  },
  {
   "cell_type": "code",
   "execution_count": 427,
   "metadata": {},
   "outputs": [
    {
     "data": {
      "text/plain": [
       "<sklearn.metrics._plot.confusion_matrix.ConfusionMatrixDisplay at 0x7f96e4eadfd0>"
      ]
     },
     "execution_count": 427,
     "metadata": {},
     "output_type": "execute_result"
    },
    {
     "data": {
      "image/png": "[encoded data removed]",
      "text/plain": [
       "<Figure size 432x288 with 2 Axes>"
      ]
     },
     "metadata": {
      "needs_background": "light"
     },
     "output_type": "display_data"
    }
   ],
   "source": [
    "svm_clf = SVC(C=1, gamma=0.01, kernel='rbf')\n",
    "svm_clf.fit(X_train_prepared,y_train)\n",
    "plot_confusion_matrix(svm_clf, X_test_prepared, y_test, values_format='d', display_labels=['alive', 'dead'])"
   ]
  },
  {
   "cell_type": "code",
   "execution_count": 428,
   "metadata": {},
   "outputs": [
    {
     "name": "stdout",
     "output_type": "stream",
     "text": [
      "              precision    recall  f1-score   support\n",
      "\n",
      "           0       0.91      1.00      0.95      1141\n",
      "           1       0.96      0.47      0.63       218\n",
      "\n",
      "    accuracy                           0.91      1359\n",
      "   macro avg       0.94      0.73      0.79      1359\n",
      "weighted avg       0.92      0.91      0.90      1359\n",
      "\n"
     ]
    }
   ],
   "source": [
    "y_train_pred = cross_val_predict(svm_clf, X_train_prepared, y_train, cv=10)\n",
    "print(classification_report(y_train, y_train_pred))"
   ]
  },
  {
   "cell_type": "markdown",
   "metadata": {},
   "source": [
    "SVM resulted in a slightly better recall than the other algorithms at 0.57 (compared to 0.55 and 0.45).  Fortunately, the algorithms do a near perfect job predicting negatives.  Therefore, we can improve recall by changing the threshold used to classify predictions.  This will result in a lower precision but improved recall.  In the case of predicting death, it is certainly more important to have a higher recall than precision.  It is ok if the algorithm identifies survivors as people that are likely to die as long as it identifies every person who is at risk for death without further medical intervention.  I will plot the ROC curve to determine an optimal threshold for the algorithm."
   ]
  },
  {
   "cell_type": "code",
   "execution_count": 429,
   "metadata": {},
   "outputs": [
    {
     "data": {
      "image/png": "[encoded data removed]",
      "text/plain": [
       "<Figure size 432x288 with 1 Axes>"
      ]
     },
     "metadata": {
      "needs_background": "light"
     },
     "output_type": "display_data"
    }
   ],
   "source": [
    "y_scores = cross_val_predict(svm_clf, X_train_prepared, y_train, cv=5, method=\"decision_function\")\n",
    "precisions, recalls, thresholds = precision_recall_curve(y_train, y_scores)\n",
    "\n",
    "def plot_precision_recall_vs_threshold(precisions, recalls, thresholds): \n",
    "    plt.plot(thresholds, precisions[:-1], \"b--\", label=\"Precision\") \n",
    "    plt.plot(thresholds, recalls[:-1], \"g-\", label=\"Recall\")\n",
    "    plt.legend()\n",
    "    \n",
    "plot_precision_recall_vs_threshold(precisions, recalls, thresholds) \n",
    "plt.show()  "
   ]
  },
  {
   "cell_type": "code",
   "execution_count": 430,
   "metadata": {},
   "outputs": [
    {
     "data": {
      "image/png": "[encoded data removed]",
      "text/plain": [
       "<Figure size 432x288 with 1 Axes>"
      ]
     },
     "metadata": {
      "needs_background": "light"
     },
     "output_type": "display_data"
    }
   ],
   "source": [
    "fpr, tpr, thresholds = roc_curve(y_train, y_scores)\n",
    "def plot_roc_curve(fpr, tpr, label=None): \n",
    "    plt.plot(fpr, tpr, linewidth=2, label=label) \n",
    "    plt.plot([0, 1], [0, 1], 'k--')\n",
    "    plt.xlabel('False Positive Rate')\n",
    "    plt.ylabel('True Positive Rate (Recall)')\n",
    "plot_roc_curve(fpr, tpr) \n",
    "plt.show() "
   ]
  },
  {
   "cell_type": "markdown",
   "metadata": {},
   "source": [
    "According to the ROC curve, the threshold can be adjusted to achieve a recall of about 0.72 with a false positive rate around 0.20"
   ]
  },
  {
   "cell_type": "code",
   "execution_count": 436,
   "metadata": {},
   "outputs": [
    {
     "name": "stdout",
     "output_type": "stream",
     "text": [
      "recall =  0.7169811320754716\n",
      "False Positive Rate =  0.20209059233449478\n"
     ]
    }
   ],
   "source": [
    "Adjusted_theshold = -1\n",
    "y_scores = svm_clf.decision_function(X_test_prepared)\n",
    "y_scores_adjusted = np.where(y_scores > Adjusted_theshold, 1, 0)\n",
    "cm = confusion_matrix(y_test, y_scores_adjusted)\n",
    "recall = cm[1,1]/(cm[1,1]+cm[1,0])\n",
    "print('recall = ', recall)\n",
    "fpr = cm[0,1]/(cm[0,1]+cm[0,0])\n",
    "print('False Positive Rate = ', fpr)"
   ]
  },
  {
   "cell_type": "markdown",
   "metadata": {},
   "source": [
    "# Feature Selection"
   ]
  },
  {
   "cell_type": "markdown",
   "metadata": {},
   "source": [
    "I will perform backward selection to remove features that do not contribute to the model prediction based on the AUC of the ROC curve to maximize the recall while minimizing the false positive rate."
   ]
  },
  {
   "cell_type": "code",
   "execution_count": 156,
   "metadata": {},
   "outputs": [
    {
     "name": "stdout",
     "output_type": "stream",
     "text": [
      "103 ROE 0.9026897094782214\n",
      "102 K_BLOOD 0.9048116374487132\n",
      "101 D_AD_ORIT 0.9071117742136019\n",
      "100 S_AD_ORIT 0.9110903891582743\n",
      "99 GB 0.9122964068133781\n",
      "98 NA_R_1_n 0.9134153922665673\n",
      "97 Na_BLOOD 0.9151477475237265\n",
      "96 NA_R_2_n 0.9162294334618093\n",
      "95 NA_R_3_n 0.9174022959923743\n",
      "94 R_AB_2_n 0.9184218160719466\n",
      "93 NOT_NA_3_n 0.9195035020100295\n",
      "92 NOT_NA_2_n 0.9234945501264039\n",
      "91 SEX 0.9234945501264039\n",
      "90 SIM_GIPERT 0.9234945501264039\n",
      "89 nr11 0.9234945501264039\n",
      "88 nr01 0.9234945501264039\n",
      "87 nr02 0.9234945501264039\n",
      "86 nr03 0.9234945501264039\n",
      "85 nr04 0.9234945501264039\n",
      "84 nr07 0.9234945501264039\n",
      "83 nr08 0.9234945501264039\n",
      "82 np01 0.9234945501264039\n",
      "81 np04 0.9234945501264039\n",
      "80 np05 0.9234945501264039\n",
      "79 np07 0.9234945501264039\n",
      "78 np08 0.9234945501264039\n",
      "77 np09 0.9234945501264039\n",
      "76 np10 0.9234945501264039\n",
      "75 endocr_01 0.9234945501264039\n",
      "74 endocr_02 0.9234945501264039\n",
      "73 endocr_03 0.9234945501264039\n",
      "72 zab_leg_01 0.9234945501264039\n",
      "71 zab_leg_02 0.9234945501264039\n",
      "70 zab_leg_03 0.9234945501264039\n",
      "69 zab_leg_04 0.9234945501264039\n",
      "68 zab_leg_06 0.9234945501264039\n",
      "67 O_L_POST 0.9234945501264039\n",
      "66 K_SH_POST 0.9234945501264039\n",
      "65 MP_TP_POST 0.9234945501264039\n",
      "64 SVT_POST 0.9234945501264039\n",
      "63 GT_POST 0.9234945501264039\n",
      "62 FIB_G_POST 0.9234945501264039\n",
      "61 IM_PG_P 0.9234945501264039\n",
      "60 ritm_ecg_p_01 0.9234945501264039\n",
      "59 ritm_ecg_p_02 0.9234945501264039\n",
      "58 ritm_ecg_p_04 0.9234945501264039\n",
      "57 ritm_ecg_p_06 0.9234945501264039\n",
      "56 ritm_ecg_p_07 0.9234945501264039\n",
      "55 ritm_ecg_p_08 0.9234945501264039\n",
      "54 n_r_ecg_p_01 0.9234945501264039\n",
      "53 n_r_ecg_p_02 0.9234945501264039\n",
      "52 n_r_ecg_p_03 0.9234945501264039\n",
      "51 n_r_ecg_p_04 0.9234945501264039\n",
      "50 n_r_ecg_p_05 0.9234945501264039\n",
      "49 n_r_ecg_p_06 0.9234945501264039\n",
      "48 n_r_ecg_p_08 0.9234945501264039\n",
      "47 n_r_ecg_p_09 0.9234945501264039\n",
      "46 n_r_ecg_p_10 0.9234945501264039\n",
      "45 n_p_ecg_p_01 0.9234945501264039\n",
      "44 n_p_ecg_p_03 0.9234945501264039\n",
      "43 n_p_ecg_p_04 0.9234945501264039\n",
      "42 n_p_ecg_p_05 0.9234945501264039\n",
      "41 n_p_ecg_p_06 0.9234945501264039\n",
      "40 n_p_ecg_p_07 0.9234945501264039\n",
      "39 n_p_ecg_p_08 0.9234945501264039\n",
      "38 n_p_ecg_p_09 0.9234945501264039\n",
      "37 n_p_ecg_p_10 0.9234945501264039\n",
      "36 n_p_ecg_p_11 0.9234945501264039\n",
      "35 n_p_ecg_p_12 0.9234945501264039\n",
      "34 fibr_ter_01 0.9234945501264039\n",
      "33 fibr_ter_02 0.9234945501264039\n",
      "32 fibr_ter_03 0.9234945501264039\n",
      "31 fibr_ter_05 0.9234945501264039\n",
      "30 fibr_ter_06 0.9234945501264039\n",
      "29 fibr_ter_07 0.9234945501264039\n",
      "28 fibr_ter_08 0.9234945501264039\n",
      "27 GIPO_K 0.9234945501264039\n",
      "26 GIPER_Na 0.9234945501264039\n",
      "25 NITR_S 0.9234945501264039\n",
      "24 LID_S_n 0.9234945501264039\n",
      "23 B_BLOK_S_n 0.9234945501264039\n",
      "22 ANT_CA_S_n 0.9234945501264039\n",
      "21 GEPAR_S_n 0.9234945501264039\n",
      "20 ASP_S_n 0.9234945501264039\n",
      "19 TIKL_S_n 0.9234945501264039\n",
      "18 TRENT_S_n 0.9234945501264039\n",
      "17 ALT_BLOOD 0.9232375979112272\n",
      "16 NOT_NA_1_n 0.9238592564963322\n",
      "15 DLIT_AG 0.9231547100998798\n",
      "14 lat_im 0.9219321148825066\n",
      "13 inf_im 0.9209747606614447\n",
      "12 FK_STENOK 0.9197853205686103\n",
      "11 INF_ANAM 0.9148369182311742\n",
      "10 STENOK_AN 0.9121554975340876\n"
     ]
    }
   ],
   "source": [
    "def PreProcess(X):\n",
    "    Columns_num = []\n",
    "    Columns_cat_one_hot = []\n",
    "    for i in range(len(X.columns)):\n",
    "        if len(Data_df[X.columns[i]].value_counts()) > 10:\n",
    "            Columns_num.append(X.columns[i])\n",
    "        elif len(Data_df[X.columns[i]].value_counts()) > 2:\n",
    "            Columns_cat_one_hot.append(X.columns[i])\n",
    "    full_pipeline = ColumnTransformer([\n",
    "        (\"num\", StandardScaler(), Columns_num), \n",
    "        (\"cat\", OneHotEncoder(), Columns_cat_one_hot),\n",
    "    ])\n",
    "    return full_pipeline.fit_transform(X)\n",
    "\n",
    "X_bs = X_train\n",
    "AUC_max = np.array([])\n",
    "Cols_bs = np.array([])\n",
    "while len(X_bs.columns) > 10:\n",
    "    AUCs = np.zeros(len(X_bs.columns))\n",
    "    for i in range(len(X_bs.columns)):\n",
    "        X_bs_drop = X_bs.drop(columns=X_bs.columns[i])\n",
    "        X_bs_drop_prepared = PreProcess(X_bs_drop)\n",
    "        svm_clf = SVC()\n",
    "        svm_clf.fit(X_bs_drop_prepared, y_train)    \n",
    "        y_scores = cross_val_predict(svm_clf, X_bs_drop_prepared, y_train, cv=5, method=\"decision_function\")\n",
    "        AUC = roc_auc_score(y_train, y_scores)\n",
    "        AUCs[i] = AUC\n",
    "    \n",
    "    idx = np.argmax(AUCs)\n",
    "    AUC_max = np.append(AUC_max, AUCs[idx])\n",
    "    Cols_bs = np.append(Cols_bs, X_bs.columns[idx])\n",
    "    print(len(X_bs.columns)-1, X_bs.columns[idx], AUCs[idx])\n",
    "    X_bs = X_bs.drop(columns=X_bs.columns[idx])"
   ]
  },
  {
   "cell_type": "code",
   "execution_count": 157,
   "metadata": {},
   "outputs": [
    {
     "data": {
      "text/plain": [
       "[<matplotlib.lines.Line2D at 0x7f97019a3f40>]"
      ]
     },
     "execution_count": 157,
     "metadata": {},
     "output_type": "execute_result"
    },
    {
     "data": {
      "image/png": "[encoded data removed]",
      "text/plain": [
       "<Figure size 432x288 with 1 Axes>"
      ]
     },
     "metadata": {
      "needs_background": "light"
     },
     "output_type": "display_data"
    }
   ],
   "source": [
    "Num_Features = np.linspace(103,10,num=len(AUC_max))\n",
    "plt.plot(Num_Features, AUC_max)"
   ]
  },
  {
   "cell_type": "markdown",
   "metadata": {},
   "source": [
    "The plot above shows that removing several features improves the AUC, and the majority of the features do not contribute to the AUC.  Only 16 features are needed to get maximal AUC!"
   ]
  },
  {
   "cell_type": "code",
   "execution_count": 647,
   "metadata": {},
   "outputs": [
    {
     "data": {
      "text/plain": [
       "array(['AGE', 'IBS_POST', 'ZSN_A', 'ant_im', 'post_im', 'AST_BLOOD',\n",
       "       'L_BLOOD', 'TIME_B_S', 'R_AB_1_n', 'R_AB_3_n', 'STENOK_AN',\n",
       "       'INF_ANAM', 'FK_STENOK', 'inf_im', 'lat_im', 'DLIT_AG'],\n",
       "      dtype=object)"
      ]
     },
     "execution_count": 647,
     "metadata": {},
     "output_type": "execute_result"
    }
   ],
   "source": [
    "Columns_best = X_bs.columns\n",
    "Columns_best = np.append(Columns_best, ['STENOK_AN', 'INF_ANAM', 'FK_STENOK', 'inf_im', 'lat_im', 'DLIT_AG'])\n",
    "Columns_best"
   ]
  },
  {
   "cell_type": "markdown",
   "metadata": {},
   "source": [
    "The following features are important to predictions:\n",
    "- AGE: it makes sense that older patients would be more likely to die\n",
    "- IBS_POST (coronary heart disease (CHD) in patient history): patients with a history of CHD are more likely to die\n",
    "- ZSN_A (heart failure in patienty history): patients with a history of heart failure are more likely to die\n",
    "- ant_im (presence of anterior MI in left ventricle according to ECG): the left ventricle is the largest chamber of the heart so it makes sense that MI in this location could predict death\n",
    "- post_im (presence of posterior MI in left ventricle according to ECG): the left ventricle is the largest chamber of the heart so it makes sense that MI in this location could predict death\n",
    "- AST_BLOOD (aspartate transaminase blood levels): Usually an indicator of liver health - it is interesting that potassium and sodium levels (which are important in cardiac electrophysiology) were not important for predictions but this was. NA_BLOOD and K_BLOOD were missing significant amounts of data which could explain why it wasn't helpful.\n",
    "- L_BLOOD (white blood cell count): sign of inflammation that could be elevated in patients at risk of death\n",
    "- TIME_B_S (time elapsed between onset of MI and getting to hospital): it makes sense that taking longer to get to the hospital might increase the risk of death\n",
    "- R_AB_1_n (relapse of the pain in the first hours at hospital): patients that continue feeling pain at the hospital are more likely to die.\n",
    "- R_AB_3_n (relapse of the pain on the third day): patients that continue to feel pain after multiple days at the hospital are more likely to die\n",
    "- STENOK_AN (exertional angina pectoris in the patient's history): it makes sense that patients who have experienced chest pain previously are more likely to die\n",
    "- INF_ANAM (quantity of MI's in patient's history): it definitely makes senes that patients with a prior history of MI are more likely to die since their hearts are already damaged\n",
    "- FK_STENOK (functional class of angina pectoris in the last year): it makes sense that patients who have experienced chest pain previously are more likely to die\n",
    "- inf_im (presence of inferior MI in left ventricle according to ECG): the left ventricle is the largest chamber of the heart so it makes sense that MI in this location could predict death\n",
    "- lat_im (presence of lateral MI in left ventricle according to ECG): the left ventricle is the largest chamber of the heart so it makes sense that MI in this location could predict death\n",
    "- DLIT_AG (duration of arterial hypertension): it makes sense that patients with a long history of hypertension are at greater risk of death<br>\n",
    "##### Overall, the most important risk factors for death generally appear to be a presence of MI in the left ventricle according to ECG and a patient's history of heart-related health problems."
   ]
  },
  {
   "cell_type": "code",
   "execution_count": 648,
   "metadata": {},
   "outputs": [],
   "source": [
    "X_train_best = X_train[Columns_best]\n",
    "X_test_best = X_test[Columns_best]\n",
    "\n",
    "Columns_num = []\n",
    "Columns_cat_one_hot = []\n",
    "for i in range(len(X_train_best.columns)):\n",
    "    if len(Data_df[X_train_best.columns[i]].value_counts()) > 10:\n",
    "        Columns_num.append(X_train_best.columns[i])\n",
    "    elif len(Data_df[X_train_best.columns[i]].value_counts()) > 2:\n",
    "        Columns_cat_one_hot.append(X_train_best.columns[i])\n",
    "full_pipeline = ColumnTransformer([\n",
    "    (\"num\", StandardScaler(), Columns_num), \n",
    "    (\"cat\", OneHotEncoder(), Columns_cat_one_hot),\n",
    "])\n",
    "\n",
    "X_train_best_prepared = full_pipeline.fit_transform(X_train_best)\n",
    "X_test_best_prepared = full_pipeline.transform(X_test_best)"
   ]
  },
  {
   "cell_type": "markdown",
   "metadata": {},
   "source": [
    "# SVM"
   ]
  },
  {
   "cell_type": "code",
   "execution_count": 438,
   "metadata": {},
   "outputs": [
    {
     "data": {
      "text/plain": [
       "<sklearn.metrics._plot.confusion_matrix.ConfusionMatrixDisplay at 0x7f96e9645f40>"
      ]
     },
     "execution_count": 438,
     "metadata": {},
     "output_type": "execute_result"
    },
    {
     "data": {
      "image/png": "[encoded data removed]",
      "text/plain": [
       "<Figure size 432x288 with 2 Axes>"
      ]
     },
     "metadata": {
      "needs_background": "light"
     },
     "output_type": "display_data"
    }
   ],
   "source": [
    "svm_clf = SVC()\n",
    "svm_clf.fit(X_train_best_prepared, y_train)\n",
    "plot_confusion_matrix(svm_clf, X_test_best_prepared, y_test, values_format='d', display_labels=['alive','dead'])"
   ]
  },
  {
   "cell_type": "code",
   "execution_count": 720,
   "metadata": {},
   "outputs": [
    {
     "data": {
      "text/plain": [
       "{'C': 0.5, 'gamma': 0.01, 'kernel': 'rbf'}"
      ]
     },
     "execution_count": 720,
     "metadata": {},
     "output_type": "execute_result"
    }
   ],
   "source": [
    "param_grid = [\n",
    "    {'C': [0.1, 0.5, 1, 10, 100, 500], \n",
    "     'gamma': ['scale', 1, 0.1, 0.01, 0.001], \n",
    "     'kernel': ['rbf']},\n",
    "]\n",
    "\n",
    "svm_clf = SVC()\n",
    "grid_search = GridSearchCV(svm_clf, param_grid, cv=5, scoring='roc_auc') \n",
    "grid_search.fit(X_train_best_prepared, y_train)\n",
    "grid_search.best_params_"
   ]
  },
  {
   "cell_type": "code",
   "execution_count": 731,
   "metadata": {},
   "outputs": [
    {
     "data": {
      "text/plain": [
       "<sklearn.metrics._plot.confusion_matrix.ConfusionMatrixDisplay at 0x7f96d251b400>"
      ]
     },
     "execution_count": 731,
     "metadata": {},
     "output_type": "execute_result"
    },
    {
     "data": {
      "image/png": "[encoded data removed]",
      "text/plain": [
       "<Figure size 432x288 with 2 Axes>"
      ]
     },
     "metadata": {
      "needs_background": "light"
     },
     "output_type": "display_data"
    }
   ],
   "source": [
    "svm_clf = SVC(C=0.5, gamma=0.01, kernel='rbf')\n",
    "svm_clf.fit(X_train_best_prepared, y_train)\n",
    "plot_confusion_matrix(svm_clf, X_test_best_prepared, y_test, values_format='d', display_labels=['alive','dead'])"
   ]
  },
  {
   "cell_type": "code",
   "execution_count": 442,
   "metadata": {},
   "outputs": [
    {
     "data": {
      "image/png": "[encoded data removed]",
      "text/plain": [
       "<Figure size 432x288 with 1 Axes>"
      ]
     },
     "metadata": {
      "needs_background": "light"
     },
     "output_type": "display_data"
    }
   ],
   "source": [
    "y_scores = cross_val_predict(svm_clf, X_train_best_prepared, y_train, cv=5, method=\"decision_function\")\n",
    "fpr, tpr, thresholds = roc_curve(y_train, y_scores)\n",
    "plot_roc_curve(fpr, tpr) "
   ]
  },
  {
   "cell_type": "code",
   "execution_count": 732,
   "metadata": {},
   "outputs": [
    {
     "name": "stdout",
     "output_type": "stream",
     "text": [
      "recall =  0.8113207547169812\n",
      "False Positive Rate =  0.07665505226480836\n"
     ]
    }
   ],
   "source": [
    "Adjusted_theshold = -0.9\n",
    "y_scores = svm_clf.decision_function(X_test_best_prepared)\n",
    "y_scores_adjusted = np.where(y_scores > Adjusted_theshold, 1, 0)\n",
    "cm = confusion_matrix(y_test, y_scores_adjusted)\n",
    "recall = cm[1,1]/(cm[1,1]+cm[1,0])\n",
    "print('recall = ', recall)\n",
    "fpr = cm[0,1]/(cm[0,1]+cm[0,0])\n",
    "print('False Positive Rate = ', fpr)"
   ]
  },
  {
   "cell_type": "markdown",
   "metadata": {},
   "source": [
    "Following feature selection, I retrained the SVM model and adjusted the threshold of the decision function to achieve a recall of 81% with a false positive rate of 7.7%. Importantly, this is a significant improvement over the SVM classifier prior to feature selection.  Not only did reducing the number of features improve interpretability, but it also improved predictions!"
   ]
  },
  {
   "cell_type": "markdown",
   "metadata": {},
   "source": [
    "# Random Forest"
   ]
  },
  {
   "cell_type": "code",
   "execution_count": 452,
   "metadata": {},
   "outputs": [
    {
     "data": {
      "text/plain": [
       "<sklearn.metrics._plot.roc_curve.RocCurveDisplay at 0x7f96e5084040>"
      ]
     },
     "execution_count": 452,
     "metadata": {},
     "output_type": "execute_result"
    },
    {
     "data": {
      "image/png": "[encoded data removed]",
      "text/plain": [
       "<Figure size 432x288 with 1 Axes>"
      ]
     },
     "metadata": {
      "needs_background": "light"
     },
     "output_type": "display_data"
    }
   ],
   "source": [
    "from sklearn.metrics import plot_roc_curve\n",
    "forest_clf = RandomForestClassifier(random_state=42)\n",
    "forest_clf.fit(X_train_best_prepared, y_train)\n",
    "plot_roc_curve(forest_clf, X_test_best_prepared, y_test)"
   ]
  },
  {
   "cell_type": "code",
   "execution_count": 453,
   "metadata": {},
   "outputs": [
    {
     "data": {
      "text/plain": [
       "{'max_features': 15, 'n_estimators': 100}"
      ]
     },
     "execution_count": 453,
     "metadata": {},
     "output_type": "execute_result"
    }
   ],
   "source": [
    "param_grid = [\n",
    "    {'n_estimators': [50, 100, 150], 'max_features': [10, 15, 20]},\n",
    "    {'bootstrap': [False], 'n_estimators': [50, 100, 150], 'max_features': [3, 6, 10, 15]},\n",
    "]\n",
    "\n",
    "forest_clf = RandomForestClassifier()\n",
    "grid_search = GridSearchCV(forest_clf, param_grid, cv=5, scoring='roc_auc') \n",
    "grid_search.fit(X_train_prepared, y_train)\n",
    "grid_search.best_params_"
   ]
  },
  {
   "cell_type": "code",
   "execution_count": 827,
   "metadata": {},
   "outputs": [
    {
     "data": {
      "text/plain": [
       "<sklearn.metrics._plot.confusion_matrix.ConfusionMatrixDisplay at 0x7f96f099c3d0>"
      ]
     },
     "execution_count": 827,
     "metadata": {},
     "output_type": "execute_result"
    },
    {
     "data": {
      "image/png": "[encoded data removed]",
      "text/plain": [
       "<Figure size 432x288 with 2 Axes>"
      ]
     },
     "metadata": {
      "needs_background": "light"
     },
     "output_type": "display_data"
    }
   ],
   "source": [
    "forest_clf = RandomForestClassifier(n_estimators=100, max_features=15)\n",
    "forest_clf.fit(X_train_best_prepared, y_train)\n",
    "plot_confusion_matrix(forest_clf, X_test_best_prepared, y_test, values_format='d', display_labels=['alive', 'dead'])"
   ]
  },
  {
   "cell_type": "code",
   "execution_count": 828,
   "metadata": {},
   "outputs": [
    {
     "data": {
      "text/plain": [
       "<sklearn.metrics._plot.roc_curve.RocCurveDisplay at 0x7f96d3f1c8b0>"
      ]
     },
     "execution_count": 828,
     "metadata": {},
     "output_type": "execute_result"
    },
    {
     "data": {
      "image/png": "[encoded data removed]",
      "text/plain": [
       "<Figure size 432x288 with 1 Axes>"
      ]
     },
     "metadata": {
      "needs_background": "light"
     },
     "output_type": "display_data"
    }
   ],
   "source": [
    "plot_roc_curve(forest_clf, X_test_best_prepared, y_test)"
   ]
  },
  {
   "cell_type": "code",
   "execution_count": 829,
   "metadata": {},
   "outputs": [
    {
     "name": "stdout",
     "output_type": "stream",
     "text": [
      "recall =  0.8113207547169812\n",
      "False Positive Rate =  0.06968641114982578\n"
     ]
    }
   ],
   "source": [
    "y_prob = forest_clf.predict_proba(X_test_best_prepared)\n",
    "y_prob = y_prob[:,1]\n",
    "\n",
    "Threshold = 0.26\n",
    "y_pred = np.where(y_prob > Threshold, 1, 0)\n",
    "\n",
    "cm = confusion_matrix(y_test, y_pred)\n",
    "recall = cm[1,1]/(cm[1,1]+cm[1,0])\n",
    "print('recall = ', recall)\n",
    "fpr = cm[0,1]/(cm[0,1]+cm[0,0])\n",
    "print('False Positive Rate = ', fpr)"
   ]
  },
  {
   "cell_type": "markdown",
   "metadata": {},
   "source": [
    "The random forest classifier has the same recall (81%) but slightly lower false positive rate (7%) than the SVM classifier. I will check another ensemble method to see if I can get any further improvements before finalizing my model."
   ]
  },
  {
   "cell_type": "markdown",
   "metadata": {},
   "source": [
    "# Adaboost"
   ]
  },
  {
   "cell_type": "code",
   "execution_count": 472,
   "metadata": {},
   "outputs": [
    {
     "data": {
      "text/plain": [
       "<sklearn.metrics._plot.roc_curve.RocCurveDisplay at 0x7f96e4d74d90>"
      ]
     },
     "execution_count": 472,
     "metadata": {},
     "output_type": "execute_result"
    },
    {
     "data": {
      "image/png": "[encoded data removed]",
      "text/plain": [
       "<Figure size 432x288 with 1 Axes>"
      ]
     },
     "metadata": {
      "needs_background": "light"
     },
     "output_type": "display_data"
    }
   ],
   "source": [
    "from sklearn.ensemble import AdaBoostClassifier\n",
    "ada_clf = AdaBoostClassifier()\n",
    "ada_clf.fit(X_train_best_prepared, y_train)\n",
    "plot_roc_curve(ada_clf, X_test_best_prepared, y_test)"
   ]
  },
  {
   "cell_type": "code",
   "execution_count": 796,
   "metadata": {},
   "outputs": [
    {
     "data": {
      "text/plain": [
       "{'learning_rate': 0.1, 'n_estimators': 150}"
      ]
     },
     "execution_count": 796,
     "metadata": {},
     "output_type": "execute_result"
    }
   ],
   "source": [
    "param_grid = [\n",
    "    {'n_estimators': [100, 150, 200, 250], 'learning_rate': [0.05, 0.1, 0.5, 1]},\n",
    "]\n",
    "\n",
    "ada_clf = AdaBoostClassifier()\n",
    "grid_search = GridSearchCV(ada_clf, param_grid, cv=10, scoring='roc_auc') \n",
    "grid_search.fit(X_train_best_prepared, y_train)\n",
    "grid_search.best_params_"
   ]
  },
  {
   "cell_type": "code",
   "execution_count": 804,
   "metadata": {},
   "outputs": [
    {
     "data": {
      "text/plain": [
       "<sklearn.metrics._plot.roc_curve.RocCurveDisplay at 0x7f96d39cfeb0>"
      ]
     },
     "execution_count": 804,
     "metadata": {},
     "output_type": "execute_result"
    },
    {
     "data": {
      "image/png": "[encoded data removed]",
      "text/plain": [
       "<Figure size 432x288 with 1 Axes>"
      ]
     },
     "metadata": {
      "needs_background": "light"
     },
     "output_type": "display_data"
    }
   ],
   "source": [
    "ada_clf = AdaBoostClassifier(n_estimators=150, learning_rate=0.1)\n",
    "ada_clf.fit(X_train_best_prepared, y_train)\n",
    "plot_roc_curve(ada_clf, X_test_best_prepared, y_test)"
   ]
  },
  {
   "cell_type": "code",
   "execution_count": 809,
   "metadata": {},
   "outputs": [
    {
     "name": "stdout",
     "output_type": "stream",
     "text": [
      "recall =  0.8113207547169812\n",
      "False Positive Rate =  0.05226480836236934\n"
     ]
    }
   ],
   "source": [
    "y_prob = ada_clf.predict_proba(X_test_best_prepared)\n",
    "y_prob = y_prob[:,1]\n",
    "\n",
    "Threshold = 0.475\n",
    "y_pred = np.where(y_prob > Threshold, 1, 0)\n",
    "\n",
    "cm = confusion_matrix(y_test, y_pred)\n",
    "recall = cm[1,1]/(cm[1,1]+cm[1,0])\n",
    "print('recall = ', recall)\n",
    "fpr = cm[0,1]/(cm[0,1]+cm[0,0])\n",
    "print('False Positive Rate = ', fpr)"
   ]
  },
  {
   "cell_type": "markdown",
   "metadata": {},
   "source": [
    "The adaboost ensemble method results in the best recall (81%) with a much lower false positive rate (5.2%) than the other methods. This will be the final model for predicting death in patients following MI.\n",
    "<br>\n",
    "# Conclusion\n",
    "I explored an interesting dataset on myocardial infarction using my medical knowledge from graduate school.  I identified methods to remove some missing data and impute other ones based on known data. I used several classification algorithms to find an optimal model with a recall of 81% and false positive rate of 5.2%. I used backward selection to considerably reduce the number of features without compromising accuracy.  This was extremely useful not only to make predictions but to determine the subset of features that are actually important in predicting death to increase the interpretability of the model."
   ]
  }
 ],
 "metadata": {
  "kernelspec": {
   "display_name": "Python 3",
   "language": "python",
   "name": "python3"
  },
  "language_info": {
   "codemirror_mode": {
    "name": "ipython",
    "version": 3
   },
   "file_extension": ".py",
   "mimetype": "text/x-python",
   "name": "python",
   "nbconvert_exporter": "python",
   "pygments_lexer": "ipython3",
   "version": "3.8.5"
  }
 },
 "nbformat": 4,
 "nbformat_minor": 4
}
