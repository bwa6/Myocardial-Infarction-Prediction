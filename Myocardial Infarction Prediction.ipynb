{
 "cells": [
  {
   "cell_type": "markdown",
   "metadata": {},
   "source": [
    "# Predicting Outcomes of Myocardial Infarction (MI)"
   ]
  },
  {
   "cell_type": "markdown",
   "metadata": {},
   "source": [
    "This dataset comes from the UCI Machine Learning Repository called the Myocardial infarction complications data set. My interest in this dataset originates from the research I performed in the first three years of my Ph.D at Duke University.  I studied cardiac tissue engineering where I differentiated human induced pluripotent stem cells into cardiomyocytes and embedded them into a hydrogel to form a contractile cardiac tissue that can be implanted on the epicardium to facilitate recovery from myocardial infarction.  As a result, I was curious if I could use my new skills in machine learning algorithms to analyze this dataset to predict whether a patient will die.  The dataset contains medical information from patients prior to hospital admission and during the first three days at the hospital.  My goal is to develop a ML algorithm using the 112 features to predict whether a patient will die."
   ]
  },
  {
   "cell_type": "code",
   "execution_count": 897,
   "metadata": {},
   "outputs": [],
   "source": [
    "%matplotlib inline\n",
    "import numpy as np\n",
    "import pandas as pd\n",
    "import matplotlib.pyplot as plt\n",
    "\n",
    "from sklearn.model_selection import train_test_split\n",
    "\n",
    "from sklearn.preprocessing import StandardScaler\n",
    "from sklearn.compose import ColumnTransformer\n",
    "from sklearn.preprocessing import OneHotEncoder\n",
    "\n",
    "from sklearn.neighbors import KNeighborsClassifier\n",
    "from sklearn.ensemble import RandomForestClassifier\n",
    "from sklearn.svm import SVC\n",
    "\n",
    "from sklearn.model_selection import GridSearchCV\n",
    "from sklearn.model_selection import cross_val_score\n",
    "from sklearn.model_selection import cross_val_predict\n",
    "from sklearn.metrics import precision_recall_curve\n",
    "from sklearn.metrics import roc_curve\n",
    "from sklearn.metrics import classification_report\n",
    "from sklearn.metrics import plot_confusion_matrix\n",
    "\n"
   ]
  },
  {
   "cell_type": "code",
   "execution_count": 898,
   "metadata": {},
   "outputs": [
    {
     "data": {
      "text/html": [
       "<div>\n",
       "<style scoped>\n",
       "    .dataframe tbody tr th:only-of-type {\n",
       "        vertical-align: middle;\n",
       "    }\n",
       "\n",
       "    .dataframe tbody tr th {\n",
       "        vertical-align: top;\n",
       "    }\n",
       "\n",
       "    .dataframe thead th {\n",
       "        text-align: right;\n",
       "    }\n",
       "</style>\n",
       "<table border=\"1\" class=\"dataframe\">\n",
       "  <thead>\n",
       "    <tr style=\"text-align: right;\">\n",
       "      <th></th>\n",
       "      <th>1</th>\n",
       "      <th>77</th>\n",
       "      <th>1.1</th>\n",
       "      <th>2</th>\n",
       "      <th>1.2</th>\n",
       "      <th>1.3</th>\n",
       "      <th>2.1</th>\n",
       "      <th>?</th>\n",
       "      <th>3</th>\n",
       "      <th>0</th>\n",
       "      <th>...</th>\n",
       "      <th>0.81</th>\n",
       "      <th>0.82</th>\n",
       "      <th>0.83</th>\n",
       "      <th>0.84</th>\n",
       "      <th>0.85</th>\n",
       "      <th>0.86</th>\n",
       "      <th>0.87</th>\n",
       "      <th>0.88</th>\n",
       "      <th>0.89</th>\n",
       "      <th>0.90</th>\n",
       "    </tr>\n",
       "  </thead>\n",
       "  <tbody>\n",
       "    <tr>\n",
       "      <th>0</th>\n",
       "      <td>2</td>\n",
       "      <td>55</td>\n",
       "      <td>1</td>\n",
       "      <td>1</td>\n",
       "      <td>0</td>\n",
       "      <td>0</td>\n",
       "      <td>0</td>\n",
       "      <td>0</td>\n",
       "      <td>0</td>\n",
       "      <td>0</td>\n",
       "      <td>...</td>\n",
       "      <td>0</td>\n",
       "      <td>0</td>\n",
       "      <td>0</td>\n",
       "      <td>0</td>\n",
       "      <td>0</td>\n",
       "      <td>0</td>\n",
       "      <td>0</td>\n",
       "      <td>0</td>\n",
       "      <td>0</td>\n",
       "      <td>0</td>\n",
       "    </tr>\n",
       "    <tr>\n",
       "      <th>1</th>\n",
       "      <td>3</td>\n",
       "      <td>52</td>\n",
       "      <td>1</td>\n",
       "      <td>0</td>\n",
       "      <td>0</td>\n",
       "      <td>0</td>\n",
       "      <td>2</td>\n",
       "      <td>?</td>\n",
       "      <td>2</td>\n",
       "      <td>0</td>\n",
       "      <td>...</td>\n",
       "      <td>0</td>\n",
       "      <td>0</td>\n",
       "      <td>0</td>\n",
       "      <td>0</td>\n",
       "      <td>0</td>\n",
       "      <td>0</td>\n",
       "      <td>0</td>\n",
       "      <td>0</td>\n",
       "      <td>0</td>\n",
       "      <td>0</td>\n",
       "    </tr>\n",
       "    <tr>\n",
       "      <th>2</th>\n",
       "      <td>4</td>\n",
       "      <td>68</td>\n",
       "      <td>0</td>\n",
       "      <td>0</td>\n",
       "      <td>0</td>\n",
       "      <td>0</td>\n",
       "      <td>2</td>\n",
       "      <td>?</td>\n",
       "      <td>2</td>\n",
       "      <td>0</td>\n",
       "      <td>...</td>\n",
       "      <td>0</td>\n",
       "      <td>0</td>\n",
       "      <td>0</td>\n",
       "      <td>0</td>\n",
       "      <td>0</td>\n",
       "      <td>0</td>\n",
       "      <td>1</td>\n",
       "      <td>0</td>\n",
       "      <td>0</td>\n",
       "      <td>0</td>\n",
       "    </tr>\n",
       "    <tr>\n",
       "      <th>3</th>\n",
       "      <td>5</td>\n",
       "      <td>60</td>\n",
       "      <td>1</td>\n",
       "      <td>0</td>\n",
       "      <td>0</td>\n",
       "      <td>0</td>\n",
       "      <td>2</td>\n",
       "      <td>?</td>\n",
       "      <td>3</td>\n",
       "      <td>0</td>\n",
       "      <td>...</td>\n",
       "      <td>0</td>\n",
       "      <td>0</td>\n",
       "      <td>0</td>\n",
       "      <td>0</td>\n",
       "      <td>0</td>\n",
       "      <td>0</td>\n",
       "      <td>0</td>\n",
       "      <td>0</td>\n",
       "      <td>0</td>\n",
       "      <td>0</td>\n",
       "    </tr>\n",
       "    <tr>\n",
       "      <th>4</th>\n",
       "      <td>6</td>\n",
       "      <td>64</td>\n",
       "      <td>1</td>\n",
       "      <td>0</td>\n",
       "      <td>1</td>\n",
       "      <td>2</td>\n",
       "      <td>1</td>\n",
       "      <td>?</td>\n",
       "      <td>0</td>\n",
       "      <td>0</td>\n",
       "      <td>...</td>\n",
       "      <td>0</td>\n",
       "      <td>0</td>\n",
       "      <td>0</td>\n",
       "      <td>0</td>\n",
       "      <td>0</td>\n",
       "      <td>0</td>\n",
       "      <td>0</td>\n",
       "      <td>0</td>\n",
       "      <td>0</td>\n",
       "      <td>0</td>\n",
       "    </tr>\n",
       "  </tbody>\n",
       "</table>\n",
       "<p>5 rows × 124 columns</p>\n",
       "</div>"
      ],
      "text/plain": [
       "   1  77  1.1  2 1.2 1.3 2.1  ?  3  0  ... 0.81 0.82 0.83 0.84 0.85 0.86 0.87  \\\n",
       "0  2  55    1  1   0   0   0  0  0  0  ...    0    0    0    0    0    0    0   \n",
       "1  3  52    1  0   0   0   2  ?  2  0  ...    0    0    0    0    0    0    0   \n",
       "2  4  68    0  0   0   0   2  ?  2  0  ...    0    0    0    0    0    0    1   \n",
       "3  5  60    1  0   0   0   2  ?  3  0  ...    0    0    0    0    0    0    0   \n",
       "4  6  64    1  0   1   2   1  ?  0  0  ...    0    0    0    0    0    0    0   \n",
       "\n",
       "  0.88 0.89 0.90  \n",
       "0    0    0    0  \n",
       "1    0    0    0  \n",
       "2    0    0    0  \n",
       "3    0    0    0  \n",
       "4    0    0    0  \n",
       "\n",
       "[5 rows x 124 columns]"
      ]
     },
     "execution_count": 898,
     "metadata": {},
     "output_type": "execute_result"
    }
   ],
   "source": [
    "address = 'https://archive.ics.uci.edu/ml/machine-learning-databases/00579/MI.data'\n",
    "df = pd.read_csv(address)\n",
    "df.head()"
   ]
  },
  {
   "cell_type": "markdown",
   "metadata": {},
   "source": [
    "The columns have bizarre names so I will change their names based on the information listed for each feature on the UCI Machine Learning Repository website."
   ]
  },
  {
   "cell_type": "code",
   "execution_count": 899,
   "metadata": {},
   "outputs": [],
   "source": [
    "col_names = pd.Series([\n",
    "    'ID',\n",
    "    'AGE',\n",
    "    'SEX',\n",
    "    'INF_ANAM',\n",
    "    'STENOK_AN',\n",
    "    'FK_STENOK',\n",
    "    'IBS_POST',\n",
    "    'IBS_NASL',\n",
    "    'GB',\n",
    "    'SIM_GIPERT',\n",
    "    'DLIT_AG',\n",
    "    'ZSN_A',\n",
    "    'nr11',\n",
    "    'nr01',\n",
    "    'nr02',\n",
    "    'nr03',\n",
    "    'nr04',\n",
    "    'nr07',\n",
    "    'nr08',\n",
    "    'np01',\n",
    "    'np04',\n",
    "    'np05',\n",
    "    'np07',\n",
    "    'np08',\n",
    "    'np09',\n",
    "    'np10',\n",
    "    'endocr_01',\n",
    "    'endocr_02',\n",
    "    'endocr_03',\n",
    "    'zab_leg_01',\n",
    "    'zab_leg_02',\n",
    "    'zab_leg_03',\n",
    "    'zab_leg_04',\n",
    "    'zab_leg_06',\n",
    "    'S_AD_KBRIG',\n",
    "    'D_AD_KBRIG',\n",
    "    'S_AD_ORIT',\n",
    "    'D_AD_ORIT',\n",
    "    'O_L_POST',\n",
    "    'K_SH_POST',\n",
    "    'MP_TP_POST',\n",
    "    'SVT_POST',\n",
    "    'GT_POST',\n",
    "    'FIB_G_POST',\n",
    "    'ant_im',\n",
    "    'lat_im',\n",
    "    'inf_im',\n",
    "    'post_im',\n",
    "    'IM_PG_P',\n",
    "    'ritm_ecg_p_01',\n",
    "    'ritm_ecg_p_02',\n",
    "    'ritm_ecg_p_04',\n",
    "    'ritm_ecg_p_06',\n",
    "    'ritm_ecg_p_07',\n",
    "    'ritm_ecg_p_08',\n",
    "    'n_r_ecg_p_01',\n",
    "    'n_r_ecg_p_02',\n",
    "    'n_r_ecg_p_03',\n",
    "    'n_r_ecg_p_04',\n",
    "    'n_r_ecg_p_05',\n",
    "    'n_r_ecg_p_06',\n",
    "    'n_r_ecg_p_08',\n",
    "    'n_r_ecg_p_09',\n",
    "    'n_r_ecg_p_10',\n",
    "    'n_p_ecg_p_01',\n",
    "    'n_p_ecg_p_03',\n",
    "    'n_p_ecg_p_04',\n",
    "    'n_p_ecg_p_05',\n",
    "    'n_p_ecg_p_06',\n",
    "    'n_p_ecg_p_07',\n",
    "    'n_p_ecg_p_08',\n",
    "    'n_p_ecg_p_09',\n",
    "    'n_p_ecg_p_10',\n",
    "    'n_p_ecg_p_11',\n",
    "    'n_p_ecg_p_12',\n",
    "    'fibr_ter_01',\n",
    "    'fibr_ter_02',\n",
    "    'fibr_ter_03',\n",
    "    'fibr_ter_05',\n",
    "    'fibr_ter_06',\n",
    "    'fibr_ter_07',\n",
    "    'fibr_ter_08',\n",
    "    'GIPO_K',\n",
    "    'K_BLOOD',\n",
    "    'GIPER_Na',\n",
    "    'Na_BLOOD',\n",
    "    'ALT_BLOOD',\n",
    "    'AST_BLOOD',\n",
    "    'KFK_BLOOD',\n",
    "    'L_BLOOD',\n",
    "    'ROE',\n",
    "    'TIME_B_S',\n",
    "    'R_AB_1_n',\n",
    "    'R_AB_2_n',\n",
    "    'R_AB_3_n',\n",
    "    'NA_KB',\n",
    "    'NOT_NA_KB',\n",
    "    'LID_KB',\n",
    "    'NITR_S',\n",
    "    'NA_R_1_n',\n",
    "    'NA_R_2_n',\n",
    "    'NA_R_3_n',\n",
    "    'NOT_NA_1_n',\n",
    "    'NOT_NA_2_n',\n",
    "    'NOT_NA_3_n',\n",
    "    'LID_S_n',\n",
    "    'B_BLOK_S_n',\n",
    "    'ANT_CA_S_n',\n",
    "    'GEPAR_S_n',\n",
    "    'ASP_S_n',\n",
    "    'TIKL_S_n',\n",
    "    'TRENT_S_n',\n",
    "    'FIBR_PREDS',\n",
    "    'PREDS_TAH',\n",
    "    'JELUD_TAH',\n",
    "    'FIBR_JELUD',\n",
    "    'A_V_BLOK',\n",
    "    'OTEK_LANC',\n",
    "    'RAZRIV',\n",
    "    'DRESSLER',\n",
    "    'ZSN',\n",
    "    'REC_IM',\n",
    "    'P_IM_STEN',\n",
    "    'LET_IS'\n",
    "])\n",
    "\n",
    "df.columns = col_names"
   ]
  },
  {
   "cell_type": "markdown",
   "metadata": {},
   "source": [
    "# Data Cleaning"
   ]
  },
  {
   "cell_type": "markdown",
   "metadata": {},
   "source": [
    "Based on looking at the first few rows of the data frame and the information provided on the UCI Machine Learning Repository website, all of the missing data is specified as '?' so I counted the number of times '?' appears in each feature."
   ]
  },
  {
   "cell_type": "code",
   "execution_count": 900,
   "metadata": {},
   "outputs": [
    {
     "data": {
      "text/plain": [
       "KFK_BLOOD     1695\n",
       "IBS_NASL      1627\n",
       "S_AD_KBRIG    1075\n",
       "D_AD_KBRIG    1075\n",
       "NOT_NA_KB      685\n",
       "LID_KB         676\n",
       "NA_KB          656\n",
       "Na_BLOOD       375\n",
       "GIPER_Na       375\n",
       "K_BLOOD        371\n",
       "dtype: int64"
      ]
     },
     "execution_count": 900,
     "metadata": {},
     "output_type": "execute_result"
    }
   ],
   "source": [
    "df[df=='?'].count().sort_values(ascending=False)[:10]"
   ]
  },
  {
   "cell_type": "markdown",
   "metadata": {},
   "source": [
    "KFK_BLOOD, IBS_NASL, S_AD_KBRIG, D_AD_KBRIG, NOT_NA_KB, LID_KB, and NA_KB are missing signficant data so I will drop these features."
   ]
  },
  {
   "cell_type": "code",
   "execution_count": 901,
   "metadata": {},
   "outputs": [],
   "source": [
    "MI_df = df.drop(columns=['KFK_BLOOD','IBS_NASL','S_AD_KBRIG','D_AD_KBRIG',\n",
    "                        'NOT_NA_KB','LID_KB','NA_KB'], axis=1)"
   ]
  },
  {
   "cell_type": "markdown",
   "metadata": {},
   "source": [
    "Convert all data types to floats to be able to calculate statistics, such as mean, median, etc."
   ]
  },
  {
   "cell_type": "code",
   "execution_count": 902,
   "metadata": {},
   "outputs": [],
   "source": [
    "MI_df = MI_df.replace(to_replace='?',value=np.nan)\n",
    "MI_df = MI_df.astype('float32')"
   ]
  },
  {
   "cell_type": "markdown",
   "metadata": {},
   "source": [
    "One method to fix missing values is to impute the value based on the rest of the data. To start, I will identify features where the most common value occurs over 75% of the time.  In this case, I will guess that missing values in these columns are the value that occurs over 75% of the time."
   ]
  },
  {
   "cell_type": "code",
   "execution_count": 903,
   "metadata": {},
   "outputs": [],
   "source": [
    "# identify which columns have missing values\n",
    "Cols_missing = MI_df.isnull().sum().sort_values(ascending=False)\n",
    "Cols_missing = Cols_missing[Cols_missing != 0]\n",
    "\n",
    "Col_common = []\n",
    "Col_common_max_value = []\n",
    "for i in range(len(Cols_missing)):\n",
    "    if max(MI_df[Cols_missing.index[i]].value_counts())/MI_df[Cols_missing.index[i]].value_counts().sum()>0.75:\n",
    "        Col_common.append(Cols_missing.index[i])\n",
    "        Col_common_max_value.append(max(MI_df[Cols_missing.index[i]])) \n",
    "\n",
    "# replace nan with most common value if that value occurs more than 75% of the time\n",
    "for i in range(len(Col_common)):\n",
    "    MI_df[Col_common[i]].replace(np.nan,Col_common_max_value[i],inplace=True)"
   ]
  },
  {
   "cell_type": "code",
   "execution_count": 904,
   "metadata": {},
   "outputs": [
    {
     "data": {
      "text/plain": [
       "Na_BLOOD         375\n",
       "K_BLOOD          371\n",
       "GIPO_K           369\n",
       "AST_BLOOD        284\n",
       "ALT_BLOOD        283\n",
       "S_AD_ORIT        267\n",
       "D_AD_ORIT        267\n",
       "DLIT_AG          248\n",
       "ROE              203\n",
       "ritm_ecg_p_01    152\n",
       "TIME_B_S         126\n",
       "L_BLOOD          125\n",
       "STENOK_AN        106\n",
       "ant_im            83\n",
       "inf_im            80\n",
       "lat_im            80\n",
       "FK_STENOK         73\n",
       "IBS_POST          51\n",
       "ASP_S_n           17\n",
       "GEPAR_S_n         17\n",
       "ANT_CA_S_n        13\n",
       "NOT_NA_1_n        10\n",
       "LID_S_n           10\n",
       "GB                 9\n",
       "AGE                8\n",
       "NA_R_1_n           5\n",
       "INF_ANAM           4\n",
       "dtype: int64"
      ]
     },
     "execution_count": 904,
     "metadata": {},
     "output_type": "execute_result"
    }
   ],
   "source": [
    "# Identify which columns still have missing values\n",
    "Cols_missing = MI_df.isnull().sum().sort_values(ascending=False)\n",
    "Cols_missing = Cols_missing[Cols_missing != 0]\n",
    "Cols_missing"
   ]
  },
  {
   "cell_type": "markdown",
   "metadata": {},
   "source": [
    "For colums with numeric data, I will impute missing values as the median of the feature.  To do this, I will determine which columns are numeric vs. categorical based on the number of unique values in each column."
   ]
  },
  {
   "cell_type": "code",
   "execution_count": 905,
   "metadata": {},
   "outputs": [],
   "source": [
    "# separate columns with missing data into numeric vs. categorical\n",
    "Cols_num_missing = []\n",
    "Cols_cat_missing = []\n",
    "for i in range(len(Cols_missing)):\n",
    "    if len(MI_df[Cols_missing.index[i]].unique()) > 10:\n",
    "        Cols_num_missing.append(Cols_missing.index[i])\n",
    "    else:\n",
    "        Cols_cat_missing.append(Cols_missing.index[i])"
   ]
  },
  {
   "cell_type": "code",
   "execution_count": 906,
   "metadata": {},
   "outputs": [],
   "source": [
    "# create a function that replaces missing values in columns with numeric data with the median of the available data\n",
    "def use_numeric_average(columns):\n",
    "    for i in range(len(columns)):\n",
    "        median = MI_df[columns[i]].median()\n",
    "        MI_df[columns[i]].replace(np.nan,median,inplace=True)\n",
    "\n",
    "# Try replacing missing values of numeric data with median of available data\n",
    "use_numeric_average(Cols_num_missing)"
   ]
  },
  {
   "cell_type": "markdown",
   "metadata": {},
   "source": [
    "I still need to determine a solution for missing values in the columns containing categorical data. According to the UCI Machine Learning Repository website for this dataset, ritm_ecg_p_01, ritm_ecg_p_07, and ritm_ecg_p_08 are mutually exclusive, i.e. all of these values represent ECG at the time of admission with varying heart rates. ritm_ecg_p_01 has a heart rate of 60-90 bpm. ritm_ecg_p_07 has a heart rate greater than 90 bpm while ritm_ecg_p_08 has a heart rate lower than 60 bpm.  Since I have all of the data for ritm_ecg_p_07 and ritm_ecg_p_08, I can use those columns to determine values for ritm_ecg_p_01."
   ]
  },
  {
   "cell_type": "code",
   "execution_count": 907,
   "metadata": {},
   "outputs": [],
   "source": [
    "# Estimate ritm_ecg_p_01 based on ritm_ecg_p_07 and ritm_ecg_p_08 \n",
    "# ritm_ecg_p_01 must be 0 if either ritm_ecg_p_07 or ritm_ecg_p_08 is 1, and ritm_ecg_p_01 must be 1 they are both 0\n",
    "mask_01_null = MI_df['ritm_ecg_p_01'].isnull()\n",
    "mask_07 = MI_df['ritm_ecg_p_07'] == 0\n",
    "mask_08 = MI_df['ritm_ecg_p_08'] == 0\n",
    "\n",
    "MI_df['ritm_ecg_p_01'] = np.where(mask_01_null & mask_07 & mask_08, 1, MI_df.ritm_ecg_p_01)\n",
    "mask_null = MI_df['ritm_ecg_p_01'].isnull()\n",
    "MI_df['ritm_ecg_p_01'] = np.where(mask_null, 0, MI_df.ritm_ecg_p_01)"
   ]
  },
  {
   "cell_type": "markdown",
   "metadata": {},
   "source": [
    "For the remaining features containing missing values, I use various strategies that make the most sense for each feature."
   ]
  },
  {
   "cell_type": "code",
   "execution_count": 908,
   "metadata": {},
   "outputs": [],
   "source": [
    "# INF_ANAM - only 4 missing values and majority of values are 0\n",
    "MI_df['INF_ANAM'].replace(np.nan,0,inplace=True)\n",
    "\n",
    "# NA_R_1_n/NA_R_2_n represent how many opioids were used in the first/second day at the hospital\n",
    "# Patients with high opioid use on day 2 likely had high use on day 1\n",
    "# Since there is no missing data for NA_R_2_n, I will guess NA_R_1_n to have the same value as NA_R_2_n\n",
    "MI_df['NA_R_1_n'] = np.where(MI_df['NA_R_1_n'].isnull(), MI_df.NA_R_2_n, MI_df.NA_R_1_n)\n",
    "\n",
    "# LID_S_n - over 70% are 0 so set missing values to 0\n",
    "MI_df['LID_S_n'].replace(np.nan,0,inplace=True)\n",
    "\n",
    "# NOT_NA_1_n - over 70% are 0 so set missing values to 0\n",
    "MI_df['NOT_NA_1_n'].replace(np.nan,0,inplace=True)\n",
    "\n",
    "# ANT_CA_S_n - over 65% are 1 so set missing values to 1\n",
    "MI_df['ANT_CA_S_n'].replace(np.nan,1,inplace=True)\n",
    "\n",
    "# ASP_S_n - over 70% are 1 so set missing values to 1\n",
    "MI_df['ASP_S_n'].replace(np.nan,1,inplace=True)\n",
    "\n",
    "# GEPAR_S_n - over 70% are 1 so set missing values to 1\n",
    "MI_df['GEPAR_S_n'].replace(np.nan,1,inplace=True)\n",
    "\n",
    "# The following features represent the presence of myocardial infarction on ECG\n",
    "# Since the values are missing, the hospital likely did not need to perform the test \n",
    "# Therefore, the value is likely 0 (no myocardial infarction on ECG)\n",
    "MI_df['ant_im'].replace(np.nan,0,inplace=True)\n",
    "MI_df['lat_im'].replace(np.nan,0,inplace=True)\n",
    "MI_df['inf_im'].replace(np.nan,0,inplace=True)\n",
    "\n",
    "# GIPO_K refers to the presence of hypokalemia, or low levels of potassium in the plasma\n",
    "# K_BLOOD, which does not have missing data, is the level of potassium in the plasma\n",
    "# Hypokalemia occurs with at a plasma concentration below 4 mmol/L\n",
    "# Therefore, I can use the known K_BLOOD levels to determine missing values of GIPO_K\n",
    "mask_null = MI_df['GIPO_K'].isnull()\n",
    "mask_KBLOOD1 = MI_df['K_BLOOD']<4\n",
    "mask_KBLOOD2 = MI_df['K_BLOOD']>=4\n",
    "MI_df['GIPO_K'] = np.where(mask_null & mask_KBLOOD1, 1, MI_df.GIPO_K)\n",
    "MI_df['GIPO_K'] = np.where(mask_null & mask_KBLOOD2, 0, MI_df.GIPO_K)\n",
    "\n",
    "# GB - only 9 missing values and majority have value 2\n",
    "MI_df['GB'].replace(np.nan,2,inplace=True)\n",
    "\n",
    "# DLIT_AG - represents duration of hypertension - most values are either 0 (no hypertension) or 7 (more than 10 years)\n",
    "# GB, which does not have missing data, represents the presence of hypertension\n",
    "# Therefore, for patients with GB=0, DLIT_AG should be 0\n",
    "# For patients with GB>0, guess DLIT_AG=7, since it is the most common for patients with hypertension\n",
    "mask_null = MI_df['DLIT_AG'].isnull()\n",
    "mask_GB1 = MI_df['GB']==0\n",
    "mask_GB2 = MI_df['GB']>0\n",
    "MI_df['DLIT_AG'] = np.where(mask_null & mask_GB1, 0, MI_df.DLIT_AG)\n",
    "MI_df['DLIT_AG'] = np.where(mask_null & mask_GB2, 7, MI_df.DLIT_AG)\n",
    "\n",
    "# STENOK_AN refers to a patient's history of angina pectoris, which is often associated with myocardial infarction\n",
    "# INF_ANAM, what has no missing data, refers to a patient's history of myocardial infarction\n",
    "# Therefore, if INF_ANAM=0 (0 MI), STENOK_AN is most likely 0\n",
    "# If INF_ANAM>0, STENOK_AN is most commonly a value of 6\n",
    "mask_null = MI_df['STENOK_AN'].isnull()\n",
    "mask_INFANAM1 = MI_df['INF_ANAM']==0\n",
    "mask_INFANAM2 = MI_df['INF_ANAM']>0\n",
    "MI_df['STENOK_AN'] = np.where(mask_null & mask_INFANAM1, 0, MI_df.DLIT_AG)\n",
    "MI_df['STENOK_AN'] = np.where(mask_null & mask_INFANAM2, 6, MI_df.DLIT_AG)\n",
    "\n",
    "# FK_STENOK represents the type of angina pectoris\n",
    "# Therefore, if a patient has STENOK_AN=0, FK_STENOK should be 0\n",
    "# If STENOK_AN>0, majority of FK_STENOK are 2\n",
    "mask_null = MI_df['FK_STENOK'].isnull()\n",
    "mask_STENOKAN1 = MI_df['STENOK_AN']==0\n",
    "mask_STENOKAN2 = MI_df['STENOK_AN']>0\n",
    "MI_df['FK_STENOK'] = np.where(mask_null & mask_STENOKAN1, 0, MI_df.DLIT_AG)\n",
    "MI_df['FK_STENOK'] = np.where(mask_null & mask_STENOKAN2, 2, MI_df.DLIT_AG)\n",
    "\n",
    "# IBS_POST - fairly evenly divided among three categories - guess most common category (2)\n",
    "MI_df['IBS_POST'].replace(np.nan,2,inplace=True)\n",
    "\n",
    "# TIME_B_S - fairly evenly divided among many categories - guess most common category (2)\n",
    "MI_df['TIME_B_S'].replace(np.nan,2,inplace=True)"
   ]
  },
  {
   "cell_type": "markdown",
   "metadata": {},
   "source": [
    "# Separate training and testing data"
   ]
  },
  {
   "cell_type": "markdown",
   "metadata": {},
   "source": [
    "I am interested in predicting whether a patient dies, which is the column labeled 'LET_IS.' This feature has eight possible values due to different causes of death.  I am only interested in whether a patient dies, so I will convert this category into a binary outcome."
   ]
  },
  {
   "cell_type": "code",
   "execution_count": 1511,
   "metadata": {},
   "outputs": [],
   "source": [
    "Data_df = MI_df.drop(['ID','FIBR_PREDS','PREDS_TAH','JELUD_TAH','FIBR_JELUD','A_V_BLOK',\n",
    "                      'OTEK_LANC','RAZRIV','DRESSLER','ZSN','REC_IM','P_IM_STEN','LET_IS'],axis=1)\n",
    "\n",
    "Target_df = MI_df['LET_IS']\n",
    "mask = Target_df == 0\n",
    "Target_df = np.where(mask,0,1)\n",
    "\n",
    "X_train, X_test, y_train, y_test = train_test_split(Data_df,Target_df, test_size=0.2, random_state=1)"
   ]
  },
  {
   "cell_type": "markdown",
   "metadata": {},
   "source": [
    "# Scale numeric data and one-hot encode categorical data"
   ]
  },
  {
   "cell_type": "markdown",
   "metadata": {},
   "source": [
    "Before training models on the training data, I need to make sure the numeric data is properly scaled to a mean of 0 and standard deviation of 1. For categorical data, I need to one-hot encode so that the algorithms do not perceive any relationships among the possible values of each category."
   ]
  },
  {
   "cell_type": "code",
   "execution_count": 1512,
   "metadata": {},
   "outputs": [],
   "source": [
    "Columns_num = []\n",
    "Columns_cat_one_hot = []\n",
    "for i in range(len(Data_df.columns)):\n",
    "    if len(Data_df[Data_df.columns[i]].value_counts()) > 10:\n",
    "        Columns_num.append(Data_df.columns[i])\n",
    "    elif len(Data_df[Data_df.columns[i]].value_counts()) > 2:\n",
    "        Columns_cat_one_hot.append(Data_df.columns[i])\n",
    "num_attribs = Columns_num\n",
    "cat_attribs = Columns_cat_one_hot\n",
    "\n",
    "full_pipeline = ColumnTransformer([\n",
    "    (\"num\", StandardScaler(), num_attribs), \n",
    "    (\"cat\", OneHotEncoder(), cat_attribs),\n",
    "])\n",
    "X_train_prepared = full_pipeline.fit_transform(X_train)\n",
    "X_test_prepared = full_pipeline.transform(X_test)"
   ]
  },
  {
   "cell_type": "markdown",
   "metadata": {},
   "source": [
    "# Train Models"
   ]
  },
  {
   "cell_type": "markdown",
   "metadata": {},
   "source": [
    "## Random Forest"
   ]
  },
  {
   "cell_type": "markdown",
   "metadata": {},
   "source": [
    "I tested a random forest algorithm with optimized hyperparameters using a grid search with cross-validation."
   ]
  },
  {
   "cell_type": "code",
   "execution_count": 1515,
   "metadata": {},
   "outputs": [
    {
     "data": {
      "text/plain": [
       "{'bootstrap': False, 'max_depth': 6, 'max_features': 15, 'n_estimators': 50}"
      ]
     },
     "execution_count": 1515,
     "metadata": {},
     "output_type": "execute_result"
    }
   ],
   "source": [
    "param_grid = [\n",
    "    {'n_estimators': [50, 100, 150], 'max_features': [10, 15, 20], 'bootstrap': [True, False], 'max_depth': [5,6,7,8]}\n",
    "]\n",
    "\n",
    "forest_clf = RandomForestClassifier()\n",
    "grid_search = GridSearchCV(forest_clf, param_grid, cv=5, scoring='roc_auc') \n",
    "grid_search.fit(X_train_prepared, y_train)\n",
    "grid_search.best_params_"
   ]
  },
  {
   "cell_type": "code",
   "execution_count": 1516,
   "metadata": {},
   "outputs": [
    {
     "data": {
      "text/plain": [
       "<sklearn.metrics._plot.confusion_matrix.ConfusionMatrixDisplay at 0x7f96da5ca9a0>"
      ]
     },
     "execution_count": 1516,
     "metadata": {},
     "output_type": "execute_result"
    },
    {
     "data": {
      "image/png": "[encoded data removed]",
      "text/plain": [
       "<Figure size 432x288 with 2 Axes>"
      ]
     },
     "metadata": {
      "needs_background": "light"
     },
     "output_type": "display_data"
    }
   ],
   "source": [
    "forest_clf = RandomForestClassifier(n_estimators=50, max_features=15, max_depth=6, bootstrap=False)\n",
    "forest_clf.fit(X_train_prepared,y_train)\n",
    "plot_confusion_matrix(forest_clf, X_test_prepared, y_test, values_format='d', display_labels=['alive', 'dead'])"
   ]
  },
  {
   "cell_type": "code",
   "execution_count": 1517,
   "metadata": {},
   "outputs": [
    {
     "name": "stdout",
     "output_type": "stream",
     "text": [
      "              precision    recall  f1-score   support\n",
      "\n",
      "           0       0.91      0.99      0.95      1130\n",
      "           1       0.92      0.51      0.65       229\n",
      "\n",
      "    accuracy                           0.91      1359\n",
      "   macro avg       0.91      0.75      0.80      1359\n",
      "weighted avg       0.91      0.91      0.90      1359\n",
      "\n"
     ]
    }
   ],
   "source": [
    "y_train_pred = cross_val_predict(forest_clf, X_train_prepared, y_train, cv=10)\n",
    "print(classification_report(y_train, y_train_pred))"
   ]
  },
  {
   "cell_type": "code",
   "execution_count": 1520,
   "metadata": {},
   "outputs": [
    {
     "data": {
      "text/plain": [
       "0.9018056887184404"
      ]
     },
     "execution_count": 1520,
     "metadata": {},
     "output_type": "execute_result"
    },
    {
     "data": {
      "image/png": "[encoded data removed]",
      "text/plain": [
       "<Figure size 432x288 with 1 Axes>"
      ]
     },
     "metadata": {
      "needs_background": "light"
     },
     "output_type": "display_data"
    }
   ],
   "source": [
    "y_prob = forest_clf.predict_proba(X_test_prepared)\n",
    "y_prob = y_prob[:,1]\n",
    "fpr, tpr, thresholds = roc_curve(y_test, y_prob)\n",
    "def plot_my_roc_curve(fpr, tpr, label=None): \n",
    "    plt.plot(fpr, tpr, linewidth=2, label=label) \n",
    "    plt.plot([0, 1], [0, 1], 'k--')\n",
    "    plt.xlabel('False Positive Rate')\n",
    "    plt.ylabel('True Positive Rate (Recall)')\n",
    "plot_my_roc_curve(fpr, tpr) \n",
    "roc_auc_score(y_test, y_prob)"
   ]
  },
  {
   "cell_type": "code",
   "execution_count": 1522,
   "metadata": {},
   "outputs": [
    {
     "data": {
      "text/plain": [
       "0.8892202129023984"
      ]
     },
     "execution_count": 1522,
     "metadata": {},
     "output_type": "execute_result"
    }
   ],
   "source": [
    "np.mean(cross_val_score(forest_clf, X_train_prepared, y_train, cv=5, scoring=\"roc_auc\"))"
   ]
  },
  {
   "cell_type": "markdown",
   "metadata": {},
   "source": [
    "I will optimize the threshold using Youden's J Statistic"
   ]
  },
  {
   "cell_type": "code",
   "execution_count": 1521,
   "metadata": {},
   "outputs": [
    {
     "name": "stdout",
     "output_type": "stream",
     "text": [
      "recall =  0.7619047619047619\n",
      "False Positive Rate =  0.09060402684563758\n"
     ]
    }
   ],
   "source": [
    "J = thresholds[np.argmax(tpr-fpr)]\n",
    "y_prob_adjusted = np.where(y_prob > J, 1, 0)\n",
    "cm = confusion_matrix(y_test, y_prob_adjusted)\n",
    "recall = cm[1,1]/(cm[1,1]+cm[1,0])\n",
    "print('recall = ', recall)\n",
    "fpr = cm[0,1]/(cm[0,1]+cm[0,0])\n",
    "print('False Positive Rate = ', fpr)"
   ]
  },
  {
   "cell_type": "markdown",
   "metadata": {},
   "source": [
    "The optimized random forest classifier had a recall of 76.2% and false positive rate of 9.1%.  I will test other algorithms for better performance."
   ]
  },
  {
   "cell_type": "markdown",
   "metadata": {},
   "source": [
    "## Support Vector Machines (SVM)"
   ]
  },
  {
   "cell_type": "code",
   "execution_count": 1524,
   "metadata": {},
   "outputs": [
    {
     "data": {
      "text/plain": [
       "{'C': 500, 'gamma': 0.0001, 'kernel': 'rbf'}"
      ]
     },
     "execution_count": 1524,
     "metadata": {},
     "output_type": "execute_result"
    }
   ],
   "source": [
    "param_grid = [\n",
    "    {'C': [0.01, 0.1, 0.5, 1, 10, 100, 500, 1000], \n",
    "     'gamma': ['scale', 1, 0.1, 0.01, 0.001, 0.0001, 0.00001], \n",
    "     'kernel': ['rbf']},\n",
    "]\n",
    "\n",
    "svm_clf = SVC()\n",
    "grid_search = GridSearchCV(svm_clf, param_grid, cv=5, scoring='roc_auc') \n",
    "grid_search.fit(X_train_prepared, y_train)\n",
    "grid_search.best_params_"
   ]
  },
  {
   "cell_type": "code",
   "execution_count": 1525,
   "metadata": {},
   "outputs": [
    {
     "data": {
      "text/plain": [
       "<sklearn.metrics._plot.confusion_matrix.ConfusionMatrixDisplay at 0x7f96e055d2e0>"
      ]
     },
     "execution_count": 1525,
     "metadata": {},
     "output_type": "execute_result"
    },
    {
     "data": {
      "image/png": "[encoded data removed]",
      "text/plain": [
       "<Figure size 432x288 with 2 Axes>"
      ]
     },
     "metadata": {
      "needs_background": "light"
     },
     "output_type": "display_data"
    }
   ],
   "source": [
    "svm_clf = SVC(C=500, gamma=0.0001, kernel='rbf')\n",
    "svm_clf.fit(X_train_prepared,y_train)\n",
    "plot_confusion_matrix(svm_clf, X_test_prepared, y_test, values_format='d', display_labels=['alive', 'dead'])"
   ]
  },
  {
   "cell_type": "code",
   "execution_count": 1526,
   "metadata": {},
   "outputs": [
    {
     "name": "stdout",
     "output_type": "stream",
     "text": [
      "              precision    recall  f1-score   support\n",
      "\n",
      "           0       0.92      0.99      0.95      1130\n",
      "           1       0.92      0.58      0.71       229\n",
      "\n",
      "    accuracy                           0.92      1359\n",
      "   macro avg       0.92      0.78      0.83      1359\n",
      "weighted avg       0.92      0.92      0.91      1359\n",
      "\n"
     ]
    }
   ],
   "source": [
    "y_train_pred = cross_val_predict(svm_clf, X_train_prepared, y_train, cv=10)\n",
    "print(classification_report(y_train, y_train_pred))"
   ]
  },
  {
   "cell_type": "code",
   "execution_count": 1527,
   "metadata": {},
   "outputs": [
    {
     "data": {
      "image/png": "[encoded data removed]",
      "text/plain": [
       "<Figure size 432x288 with 1 Axes>"
      ]
     },
     "metadata": {
      "needs_background": "light"
     },
     "output_type": "display_data"
    },
    {
     "data": {
      "text/plain": [
       "0.9275327580696708"
      ]
     },
     "execution_count": 1527,
     "metadata": {},
     "output_type": "execute_result"
    }
   ],
   "source": [
    "y_scores = svm_clf.decision_function(X_test_prepared)\n",
    "fpr, tpr, thresholds = roc_curve(y_test, y_scores)\n",
    "plot_my_roc_curve(fpr, tpr) \n",
    "plt.show() \n",
    "roc_auc_score(y_test, y_scores)"
   ]
  },
  {
   "cell_type": "code",
   "execution_count": 1528,
   "metadata": {},
   "outputs": [
    {
     "data": {
      "text/plain": [
       "0.8937061262878887"
      ]
     },
     "execution_count": 1528,
     "metadata": {},
     "output_type": "execute_result"
    }
   ],
   "source": [
    "np.mean(cross_val_score(svm_clf, X_train_prepared, y_train, cv=5, scoring=\"roc_auc\"))"
   ]
  },
  {
   "cell_type": "code",
   "execution_count": 1529,
   "metadata": {},
   "outputs": [
    {
     "name": "stdout",
     "output_type": "stream",
     "text": [
      "recall =  0.7619047619047619\n",
      "False Positive Rate =  0.03691275167785235\n"
     ]
    }
   ],
   "source": [
    "J = thresholds[np.argmax(tpr-fpr)]\n",
    "y_scores_adjusted = np.where(y_scores > J, 1, 0)\n",
    "cm = confusion_matrix(y_test, y_scores_adjusted)\n",
    "recall = cm[1,1]/(cm[1,1]+cm[1,0])\n",
    "print('recall = ', recall)\n",
    "fpr = cm[0,1]/(cm[0,1]+cm[0,0])\n",
    "print('False Positive Rate = ', fpr)"
   ]
  },
  {
   "cell_type": "markdown",
   "metadata": {},
   "source": [
    "The optimized SVM model has a lower false positive rate for the same recall as the random forest classifier."
   ]
  },
  {
   "cell_type": "markdown",
   "metadata": {},
   "source": [
    "# Logistic Regression"
   ]
  },
  {
   "cell_type": "code",
   "execution_count": 1530,
   "metadata": {},
   "outputs": [
    {
     "data": {
      "text/plain": [
       "{'C': 0.5, 'class_weight': None}"
      ]
     },
     "execution_count": 1530,
     "metadata": {},
     "output_type": "execute_result"
    }
   ],
   "source": [
    "from sklearn.linear_model import LogisticRegression\n",
    "\n",
    "param_grid = [\n",
    "    {'C': [0.01, 0.1, 0.5, 1, 10, 100, 500, 1000],\n",
    "    'class_weight': [None, 'balanced']}\n",
    "]\n",
    "\n",
    "log_clf = LogisticRegression(max_iter=1000)\n",
    "grid_search = GridSearchCV(log_clf, param_grid, cv=5, scoring='roc_auc') \n",
    "grid_search.fit(X_train_prepared, y_train)\n",
    "grid_search.best_params_"
   ]
  },
  {
   "cell_type": "code",
   "execution_count": 1531,
   "metadata": {},
   "outputs": [
    {
     "data": {
      "image/png": "[encoded data removed]",
      "text/plain": [
       "<Figure size 432x288 with 1 Axes>"
      ]
     },
     "metadata": {
      "needs_background": "light"
     },
     "output_type": "display_data"
    },
    {
     "data": {
      "text/plain": [
       "0.9282518376478108"
      ]
     },
     "execution_count": 1531,
     "metadata": {},
     "output_type": "execute_result"
    }
   ],
   "source": [
    "log_clf = LogisticRegression(max_iter=1000, C=0.5)\n",
    "log_clf.fit(X_train_prepared,y_train)\n",
    "y_scores = log_clf.decision_function(X_test_prepared)\n",
    "fpr, tpr, thresholds = roc_curve(y_test, y_scores)\n",
    "plot_my_roc_curve(fpr, tpr) \n",
    "plt.show() \n",
    "roc_auc_score(y_test, y_scores)"
   ]
  },
  {
   "cell_type": "code",
   "execution_count": 1532,
   "metadata": {},
   "outputs": [
    {
     "data": {
      "text/plain": [
       "0.8940293275191312"
      ]
     },
     "execution_count": 1532,
     "metadata": {},
     "output_type": "execute_result"
    }
   ],
   "source": [
    "np.mean(cross_val_score(log_clf, X_train_prepared, y_train, cv=5, scoring=\"roc_auc\"))"
   ]
  },
  {
   "cell_type": "code",
   "execution_count": 1533,
   "metadata": {},
   "outputs": [
    {
     "name": "stdout",
     "output_type": "stream",
     "text": [
      "recall =  0.7142857142857143\n",
      "False Positive Rate =  0.030201342281879196\n"
     ]
    }
   ],
   "source": [
    "J = thresholds[np.argmax(tpr-fpr)]\n",
    "y_scores_adjusted = np.where(y_scores > J, 1, 0)\n",
    "cm = confusion_matrix(y_test, y_scores_adjusted)\n",
    "recall = cm[1,1]/(cm[1,1]+cm[1,0])\n",
    "print('recall = ', recall)\n",
    "fpr = cm[0,1]/(cm[0,1]+cm[0,0])\n",
    "print('False Positive Rate = ', fpr)"
   ]
  },
  {
   "cell_type": "markdown",
   "metadata": {},
   "source": [
    "Logistic regression has a lower false positive rate but at the cost of a lower recall."
   ]
  },
  {
   "cell_type": "markdown",
   "metadata": {},
   "source": [
    "# AdaBoost"
   ]
  },
  {
   "cell_type": "code",
   "execution_count": 1581,
   "metadata": {},
   "outputs": [
    {
     "data": {
      "text/plain": [
       "{'learning_rate': 0.05, 'n_estimators': 400}"
      ]
     },
     "execution_count": 1581,
     "metadata": {},
     "output_type": "execute_result"
    }
   ],
   "source": [
    "param_grid = [\n",
    "    {'n_estimators': [300, 400, 500, 600], 'learning_rate': [0.01, 0.05, 0.1, 0.5]},\n",
    "]\n",
    "\n",
    "ada_clf = AdaBoostClassifier()\n",
    "grid_search = GridSearchCV(ada_clf, param_grid, cv=5, scoring='roc_auc') \n",
    "grid_search.fit(X_train_prepared, y_train)\n",
    "grid_search.best_params_"
   ]
  },
  {
   "cell_type": "code",
   "execution_count": 1589,
   "metadata": {},
   "outputs": [
    {
     "data": {
      "text/plain": [
       "0.9042026206455737"
      ]
     },
     "execution_count": 1589,
     "metadata": {},
     "output_type": "execute_result"
    },
    {
     "data": {
      "image/png": "[encoded data removed]",
      "text/plain": [
       "<Figure size 432x288 with 1 Axes>"
      ]
     },
     "metadata": {
      "needs_background": "light"
     },
     "output_type": "display_data"
    }
   ],
   "source": [
    "ada_clf = AdaBoostClassifier(n_estimators=400, learning_rate=0.05)\n",
    "ada_clf.fit(X_train_prepared, y_train)\n",
    "\n",
    "y_prob = ada_clf.predict_proba(X_test_prepared)\n",
    "y_prob = y_prob[:,1]\n",
    "fpr, tpr, thresholds = roc_curve(y_test, y_prob)\n",
    "plot_my_roc_curve(fpr, tpr) \n",
    "roc_auc_score(y_test, y_prob)"
   ]
  },
  {
   "cell_type": "code",
   "execution_count": 1583,
   "metadata": {},
   "outputs": [
    {
     "data": {
      "text/plain": [
       "0.8963178145440555"
      ]
     },
     "execution_count": 1583,
     "metadata": {},
     "output_type": "execute_result"
    }
   ],
   "source": [
    "np.mean(cross_val_score(ada_clf, X_train_prepared, y_train, cv=5, scoring=\"roc_auc\"))"
   ]
  },
  {
   "cell_type": "code",
   "execution_count": 1590,
   "metadata": {},
   "outputs": [
    {
     "name": "stdout",
     "output_type": "stream",
     "text": [
      "recall =  0.7619047619047619\n",
      "False Positive Rate =  0.06711409395973154\n"
     ]
    }
   ],
   "source": [
    "J = thresholds[np.argmax(tpr-fpr)]\n",
    "y_prob_adjusted = np.where(y_prob > J, 1, 0)\n",
    "cm = confusion_matrix(y_test, y_prob_adjusted)\n",
    "recall = cm[1,1]/(cm[1,1]+cm[1,0])\n",
    "print('recall = ', recall)\n",
    "fpr = cm[0,1]/(cm[0,1]+cm[0,0])\n",
    "print('False Positive Rate = ', fpr)"
   ]
  },
  {
   "cell_type": "markdown",
   "metadata": {},
   "source": [
    "The best performing model is the SVM.  However, I want to see if I can improve accuracy and interpretability by eliminating irrelant features."
   ]
  },
  {
   "cell_type": "markdown",
   "metadata": {},
   "source": [
    "# Feature Selection"
   ]
  },
  {
   "cell_type": "markdown",
   "metadata": {},
   "source": [
    "I will perform backward selection to remove features that do not contribute to the SVM model prediction based on the AUC of the ROC curve to maximize the recall while minimizing the false positive rate."
   ]
  },
  {
   "cell_type": "code",
   "execution_count": 1538,
   "metadata": {},
   "outputs": [
    {
     "name": "stdout",
     "output_type": "stream",
     "text": [
      "103 NA_R_3_n 0.8949018853405155\n",
      "102 GB 0.897027916720106\n",
      "101 ALT_BLOOD 0.8993647129237742\n",
      "100 STENOK_AN 0.9012979351032449\n",
      "99 D_AD_ORIT 0.9026664101577531\n",
      "98 INF_ANAM 0.9029378820914026\n",
      "97 Na_BLOOD 0.9038651618143732\n",
      "96 NOT_NA_2_n 0.9050489504510282\n",
      "95 SEX 0.9050489504510282\n",
      "94 SIM_GIPERT 0.9050489504510282\n",
      "93 nr11 0.9050489504510282\n",
      "92 nr01 0.9050489504510282\n",
      "91 nr02 0.9050489504510282\n",
      "90 nr03 0.9050489504510282\n",
      "89 nr04 0.9050489504510282\n",
      "88 nr07 0.9050489504510282\n",
      "87 nr08 0.9050489504510282\n",
      "86 np01 0.9050489504510282\n",
      "85 np04 0.9050489504510282\n",
      "84 np05 0.9050489504510282\n",
      "83 np07 0.9050489504510282\n",
      "82 np08 0.9050489504510282\n",
      "81 np09 0.9050489504510282\n",
      "80 np10 0.9050489504510282\n",
      "79 endocr_01 0.9050489504510282\n",
      "78 endocr_02 0.9050489504510282\n",
      "77 endocr_03 0.9050489504510282\n",
      "76 zab_leg_01 0.9050489504510282\n",
      "75 zab_leg_02 0.9050489504510282\n",
      "74 zab_leg_03 0.9050489504510282\n",
      "73 zab_leg_04 0.9050489504510282\n",
      "72 zab_leg_06 0.9050489504510282\n",
      "71 O_L_POST 0.9050489504510282\n",
      "70 K_SH_POST 0.9050489504510282\n",
      "69 MP_TP_POST 0.9050489504510282\n",
      "68 SVT_POST 0.9050489504510282\n",
      "67 GT_POST 0.9050489504510282\n",
      "66 FIB_G_POST 0.9050489504510282\n",
      "65 IM_PG_P 0.9050489504510282\n",
      "64 ritm_ecg_p_01 0.9050489504510282\n",
      "63 ritm_ecg_p_02 0.9050489504510282\n",
      "62 ritm_ecg_p_04 0.9050489504510282\n",
      "61 ritm_ecg_p_06 0.9050489504510282\n",
      "60 ritm_ecg_p_07 0.9050489504510282\n",
      "59 ritm_ecg_p_08 0.9050489504510282\n",
      "58 n_r_ecg_p_01 0.9050489504510282\n",
      "57 n_r_ecg_p_02 0.9050489504510282\n",
      "56 n_r_ecg_p_03 0.9050489504510282\n",
      "55 n_r_ecg_p_04 0.9050489504510282\n",
      "54 n_r_ecg_p_05 0.9050489504510282\n",
      "53 n_r_ecg_p_06 0.9050489504510282\n",
      "52 n_r_ecg_p_08 0.9050489504510282\n",
      "51 n_r_ecg_p_09 0.9050489504510282\n",
      "50 n_r_ecg_p_10 0.9050489504510282\n",
      "49 n_p_ecg_p_01 0.9050489504510282\n",
      "48 n_p_ecg_p_03 0.9050489504510282\n",
      "47 n_p_ecg_p_04 0.9050489504510282\n",
      "46 n_p_ecg_p_05 0.9050489504510282\n",
      "45 n_p_ecg_p_06 0.9050489504510282\n",
      "44 n_p_ecg_p_07 0.9050489504510282\n",
      "43 n_p_ecg_p_08 0.9050489504510282\n",
      "42 n_p_ecg_p_09 0.9050489504510282\n",
      "41 n_p_ecg_p_10 0.9050489504510282\n",
      "40 n_p_ecg_p_11 0.9050489504510282\n",
      "39 n_p_ecg_p_12 0.9050489504510282\n",
      "38 fibr_ter_01 0.9050489504510282\n",
      "37 fibr_ter_02 0.9050489504510282\n",
      "36 fibr_ter_03 0.9050489504510282\n",
      "35 fibr_ter_05 0.9050489504510282\n",
      "34 fibr_ter_06 0.9050489504510282\n",
      "33 fibr_ter_07 0.9050489504510282\n",
      "32 fibr_ter_08 0.9050489504510282\n",
      "31 GIPO_K 0.9050489504510282\n",
      "30 GIPER_Na 0.9050489504510282\n",
      "29 NITR_S 0.9050489504510282\n",
      "28 LID_S_n 0.9050489504510282\n",
      "27 B_BLOK_S_n 0.9050489504510282\n",
      "26 ANT_CA_S_n 0.9050489504510282\n",
      "25 GEPAR_S_n 0.9050489504510282\n",
      "24 ASP_S_n 0.9050489504510282\n",
      "23 TIKL_S_n 0.9050489504510282\n",
      "22 TRENT_S_n 0.9050489504510282\n",
      "21 NA_R_1_n 0.9038232653584712\n",
      "20 R_AB_2_n 0.9036039502372709\n",
      "19 NOT_NA_1_n 0.9044512846821426\n",
      "18 K_BLOOD 0.9031892608268137\n",
      "17 NA_R_2_n 0.9041477491342824\n",
      "16 AST_BLOOD 0.9022329100936257\n",
      "15 NOT_NA_3_n 0.9033807874823649\n",
      "14 S_AD_ORIT 0.9026540122269248\n",
      "13 FK_STENOK 0.903707836347313\n",
      "12 R_AB_1_n 0.901561711769484\n",
      "11 lat_im 0.8986751314608183\n",
      "10 IBS_POST 0.8967380616476422\n"
     ]
    }
   ],
   "source": [
    "def PreProcess(X):\n",
    "    Columns_num = []\n",
    "    Columns_cat_one_hot = []\n",
    "    for i in range(len(X.columns)):\n",
    "        if len(Data_df[X.columns[i]].value_counts()) > 10:\n",
    "            Columns_num.append(X.columns[i])\n",
    "        elif len(Data_df[X.columns[i]].value_counts()) > 2:\n",
    "            Columns_cat_one_hot.append(X.columns[i])\n",
    "    full_pipeline = ColumnTransformer([\n",
    "        (\"num\", StandardScaler(), Columns_num), \n",
    "        (\"cat\", OneHotEncoder(), Columns_cat_one_hot),\n",
    "    ])\n",
    "    return full_pipeline.fit_transform(X)\n",
    "\n",
    "X_bs = X_train\n",
    "AUC_max = np.array([])\n",
    "Cols_bs = np.array([])\n",
    "while len(X_bs.columns) > 10:\n",
    "    AUCs = np.zeros(len(X_bs.columns))\n",
    "    for i in range(len(X_bs.columns)):\n",
    "        X_bs_drop = X_bs.drop(columns=X_bs.columns[i])\n",
    "        X_bs_drop_prepared = PreProcess(X_bs_drop)\n",
    "        svm_clf = SVC(C=500, gamma=0.0001, kernel='rbf')\n",
    "        y_scores = cross_val_score(svm_clf, X_bs_drop_prepared, y_train, cv=5, scoring=\"roc_auc\")\n",
    "        AUC = np.mean(y_scores)\n",
    "        AUCs[i] = AUC\n",
    "        \n",
    "        if len(X_bs.columns) < 95:\n",
    "            if AUC == AUC_max[-1]:\n",
    "                break\n",
    "    \n",
    "    idx = np.argmax(AUCs)\n",
    "    AUC_max = np.append(AUC_max, AUCs[idx])\n",
    "    Cols_bs = np.append(Cols_bs, X_bs.columns[idx])\n",
    "    print(len(X_bs.columns)-1, X_bs.columns[idx], AUCs[idx])\n",
    "    X_bs = X_bs.drop(columns=X_bs.columns[idx])"
   ]
  },
  {
   "cell_type": "code",
   "execution_count": 1539,
   "metadata": {},
   "outputs": [
    {
     "data": {
      "text/plain": [
       "[<matplotlib.lines.Line2D at 0x7f96de546a00>]"
      ]
     },
     "execution_count": 1539,
     "metadata": {},
     "output_type": "execute_result"
    },
    {
     "data": {
      "image/png": "[encoded data removed]",
      "text/plain": [
       "<Figure size 432x288 with 1 Axes>"
      ]
     },
     "metadata": {
      "needs_background": "light"
     },
     "output_type": "display_data"
    }
   ],
   "source": [
    "Num_Features = np.linspace(103,10,num=len(AUC_max))\n",
    "plt.plot(Num_Features, AUC_max)"
   ]
  },
  {
   "cell_type": "markdown",
   "metadata": {},
   "source": [
    "The plot above shows that removing several features improves the AUC, and the majority of the features do not contribute to the AUC.  Only 21 features are needed to get maximal AUC!"
   ]
  },
  {
   "cell_type": "code",
   "execution_count": 1542,
   "metadata": {},
   "outputs": [
    {
     "data": {
      "text/plain": [
       "array(['AGE', 'DLIT_AG', 'ZSN_A', 'ant_im', 'inf_im', 'post_im',\n",
       "       'L_BLOOD', 'ROE', 'TIME_B_S', 'R_AB_3_n', 'NA_R_1_n', 'R_AB_2_n',\n",
       "       'NOT_NA_1_n', 'K_BLOOD', 'NA_R_2_n', 'AST_BLOOD', 'NOT_NA_3_n',\n",
       "       'S_AD_ORIT', 'FK_STENOK', 'R_AB_1_n', 'lat_im', 'IBS_POST'],\n",
       "      dtype=object)"
      ]
     },
     "execution_count": 1542,
     "metadata": {},
     "output_type": "execute_result"
    }
   ],
   "source": [
    "Columns_best = X_bs.columns\n",
    "Columns_best = np.append(Columns_best, ['NA_R_1_n', 'R_AB_2_n', 'NOT_NA_1_n', 'K_BLOOD', 'NA_R_2_n',\n",
    "                                       'AST_BLOOD', 'NOT_NA_3_n', 'S_AD_ORIT', 'FK_STENOK', 'R_AB_1_n',\n",
    "                                       'lat_im', 'IBS_POST'])\n",
    "Columns_best"
   ]
  },
  {
   "cell_type": "markdown",
   "metadata": {},
   "source": [
    "# Predictive Features\n",
    "#### Patient history\n",
    "- DLIT_AG (duration of arterial hypertension in patient history): it makes sense that patients with a long history of hypertension are at greater risk of death\n",
    "- ZSN_A (heart failure in patienty history): patients with a history of heart failure are more likely to die\n",
    "- FK_STENOK (functional class of angina pectoris in the last year): it makes sense that patients who have experienced chest pain previously are more likely to die\n",
    "- IBS_POST (coronary heart disease (CHD) in patient history): patients with a history of CHD are more likely to die\n",
    "\n",
    "#### Presence of MI in left ventricle (ECG\n",
    "- ant_im (presence of anterior MI in left ventricle according to ECG): the left ventricle is the largest chamber of the heart so it makes sense that MI in this location could predict death\n",
    "- inf_im (presence of inferior MI in left ventricle according to ECG): the left ventricle is the largest chamber of the heart so it makes sense that MI in this location could predict death\n",
    "- post_im (presence of posterior MI in left ventricle according to ECG): the left ventricle is the largest chamber of the heart so it makes sense that MI in this location could predict death\n",
    "- lat_im (presence of lateral MI in left ventricle according to ECG): the left ventricle is the largest chamber of the heart so it makes sense that MI in this location could predict death\n",
    "\n",
    "#### Blood work\n",
    "- L_BLOOD (white blood cell count): sign of inflammation that could be elevated in patients at risk of death\n",
    "- K_BLOOD (potassium levels in blood): increased potassium levels is an indicator of heart failure\n",
    "- K_BLOOD (potassium levels in blood): increased potassium levels is an indicator of heart failure\n",
    "- ROE (Erythrocyte sedimentation rate): another sign of inflammation that could be elevated in patients at risk of death\n",
    "\n",
    "#### Use of opioids/NSAIDs\n",
    "- TIME_B_S (time elapsed between onset of MI and getting to hospital): it makes sense that taking longer to get to the hospital might increase the risk of death\n",
    "- R_AB_1_n (relapse of the pain in the first hours at hospital): patients that continue feeling pain at the hospital are more likely to die.\n",
    "- R_AB_2_n (relapse of the pain in the second at hospital): patients that continue feeling pain at the hospital are more likely to die.\n",
    "- R_AB_3_n (relapse of the pain on the third day): patients that continue to feel pain after multiple days at the hospital are more likely to die\n",
    "- NA_R_1_n (use of opiods in first hours at hospital): patients that need more opioids initially may have a more severe MI, leading to greater risk of death\n",
    "- NA_R_2_n (use of opiods in second day at hospital): patients that continue to need opioids may have a more severe MI, leading to greater risk of death\n",
    "- NOT_NA_1_n (use of NSAIDs in first hours at hospital): patients that need more NSAIDs initially may have a more severe MI, leading to greater risk of death\n",
    "- NOT_NA_3_n (use of NSAIDs in third day at hospital): patients that continue to need NSAIDs may have a more severe MI, leading to greater risk of death\n",
    "\n",
    "#### Misc.\n",
    "- AGE: it makes sense that older patients would be more likely to die\n",
    "- S_AD_ORIT (systolic blood pressure) - a low systolic blood pressure is a strong indicator of heart failure\n",
    "\n",
    "\n",
    "##### Overall, the most important risk factors for death generally appear to be:\n",
    "- Presence of MI in the left ventricle according to ECG\n",
    "- Patient's history of heart-related problems\n",
    "- Blood work\n",
    "- Opioid/NSAID use\n",
    "- Age\n",
    "- Blood pressure"
   ]
  },
  {
   "cell_type": "code",
   "execution_count": 1543,
   "metadata": {},
   "outputs": [],
   "source": [
    "X_train_best = X_train[Columns_best]\n",
    "X_test_best = X_test[Columns_best]\n",
    "\n",
    "Columns_num = []\n",
    "Columns_cat_one_hot = []\n",
    "for i in range(len(X_train_best.columns)):\n",
    "    if len(Data_df[X_train_best.columns[i]].value_counts()) > 10:\n",
    "        Columns_num.append(X_train_best.columns[i])\n",
    "    elif len(Data_df[X_train_best.columns[i]].value_counts()) > 2:\n",
    "        Columns_cat_one_hot.append(X_train_best.columns[i])\n",
    "full_pipeline = ColumnTransformer([\n",
    "    (\"num\", StandardScaler(), Columns_num), \n",
    "    (\"cat\", OneHotEncoder(), Columns_cat_one_hot),\n",
    "])\n",
    "\n",
    "X_train_best_prepared = full_pipeline.fit_transform(X_train_best)\n",
    "X_test_best_prepared = full_pipeline.transform(X_test_best)"
   ]
  },
  {
   "cell_type": "markdown",
   "metadata": {},
   "source": [
    "# SVM"
   ]
  },
  {
   "cell_type": "code",
   "execution_count": 438,
   "metadata": {},
   "outputs": [
    {
     "data": {
      "text/plain": [
       "<sklearn.metrics._plot.confusion_matrix.ConfusionMatrixDisplay at 0x7f96e9645f40>"
      ]
     },
     "execution_count": 438,
     "metadata": {},
     "output_type": "execute_result"
    },
    {
     "data": {
      "image/png": "[encoded data removed]",
      "text/plain": [
       "<Figure size 432x288 with 2 Axes>"
      ]
     },
     "metadata": {
      "needs_background": "light"
     },
     "output_type": "display_data"
    }
   ],
   "source": [
    "svm_clf = SVC()\n",
    "svm_clf.fit(X_train_best_prepared, y_train)\n",
    "plot_confusion_matrix(svm_clf, X_test_best_prepared, y_test, values_format='d', display_labels=['alive','dead'])"
   ]
  },
  {
   "cell_type": "code",
   "execution_count": 1544,
   "metadata": {},
   "outputs": [
    {
     "data": {
      "text/plain": [
       "{'C': 100, 'gamma': 0.001, 'kernel': 'rbf'}"
      ]
     },
     "execution_count": 1544,
     "metadata": {},
     "output_type": "execute_result"
    }
   ],
   "source": [
    "param_grid = [\n",
    "    {'C': [0.1, 0.5, 1, 10, 100, 500], \n",
    "     'gamma': ['scale', 1, 0.1, 0.01, 0.001], \n",
    "     'kernel': ['rbf']},\n",
    "]\n",
    "\n",
    "svm_clf = SVC()\n",
    "grid_search = GridSearchCV(svm_clf, param_grid, cv=5, scoring='roc_auc') \n",
    "grid_search.fit(X_train_best_prepared, y_train)\n",
    "grid_search.best_params_"
   ]
  },
  {
   "cell_type": "code",
   "execution_count": 1548,
   "metadata": {},
   "outputs": [
    {
     "data": {
      "text/plain": [
       "<sklearn.metrics._plot.confusion_matrix.ConfusionMatrixDisplay at 0x7f96dea7f850>"
      ]
     },
     "execution_count": 1548,
     "metadata": {},
     "output_type": "execute_result"
    },
    {
     "data": {
      "image/png": "[encoded data removed]",
      "text/plain": [
       "<Figure size 432x288 with 2 Axes>"
      ]
     },
     "metadata": {
      "needs_background": "light"
     },
     "output_type": "display_data"
    }
   ],
   "source": [
    "svm_clf = SVC(C=500, gamma=0.0001, kernel='rbf')\n",
    "svm_clf.fit(X_train_best_prepared, y_train)\n",
    "plot_confusion_matrix(svm_clf, X_test_best_prepared, y_test, values_format='d', display_labels=['alive','dead'])"
   ]
  },
  {
   "cell_type": "code",
   "execution_count": 1549,
   "metadata": {},
   "outputs": [
    {
     "data": {
      "text/plain": [
       "0.9294503036113775"
      ]
     },
     "execution_count": 1549,
     "metadata": {},
     "output_type": "execute_result"
    },
    {
     "data": {
      "image/png": "[encoded data removed]",
      "text/plain": [
       "<Figure size 432x288 with 1 Axes>"
      ]
     },
     "metadata": {
      "needs_background": "light"
     },
     "output_type": "display_data"
    }
   ],
   "source": [
    "y_scores = svm_clf.decision_function(X_test_best_prepared)\n",
    "fpr, tpr, thresholds = roc_curve(y_test, y_scores)\n",
    "plot_my_roc_curve(fpr, tpr) \n",
    "roc_auc_score(y_test, y_scores)"
   ]
  },
  {
   "cell_type": "code",
   "execution_count": 1550,
   "metadata": {},
   "outputs": [
    {
     "data": {
      "text/plain": [
       "0.9050489504510282"
      ]
     },
     "execution_count": 1550,
     "metadata": {},
     "output_type": "execute_result"
    }
   ],
   "source": [
    "np.mean(cross_val_score(svm_clf, X_train_best_prepared, y_train, cv=5, scoring=\"roc_auc\"))"
   ]
  },
  {
   "cell_type": "code",
   "execution_count": 1551,
   "metadata": {},
   "outputs": [
    {
     "name": "stdout",
     "output_type": "stream",
     "text": [
      "recall =  0.7619047619047619\n",
      "False Positive Rate =  0.03355704697986577\n"
     ]
    }
   ],
   "source": [
    "J = thresholds[np.argmax(tpr-fpr)]\n",
    "y_scores_adjusted = np.where(y_scores > J, 1, 0)\n",
    "cm = confusion_matrix(y_test, y_scores_adjusted)\n",
    "recall = cm[1,1]/(cm[1,1]+cm[1,0])\n",
    "print('recall = ', recall)\n",
    "fpr = cm[0,1]/(cm[0,1]+cm[0,0])\n",
    "print('False Positive Rate = ', fpr)"
   ]
  },
  {
   "cell_type": "markdown",
   "metadata": {},
   "source": [
    "Following feature selection, the SVM algorithm had the same recall but a slightly lower false positive rate.  Not only did reducing the number of features improve interpretability, but it also improved predictions!"
   ]
  },
  {
   "cell_type": "markdown",
   "metadata": {},
   "source": [
    "# Random Forest"
   ]
  },
  {
   "cell_type": "code",
   "execution_count": 1273,
   "metadata": {},
   "outputs": [
    {
     "data": {
      "text/plain": [
       "<sklearn.metrics._plot.roc_curve.RocCurveDisplay at 0x7f96dc3bfa00>"
      ]
     },
     "execution_count": 1273,
     "metadata": {},
     "output_type": "execute_result"
    },
    {
     "data": {
      "image/png": "[encoded data removed]",
      "text/plain": [
       "<Figure size 432x288 with 1 Axes>"
      ]
     },
     "metadata": {
      "needs_background": "light"
     },
     "output_type": "display_data"
    }
   ],
   "source": [
    "from sklearn.metrics import plot_roc_curve\n",
    "forest_clf = RandomForestClassifier(random_state=42)\n",
    "forest_clf.fit(X_train_best_prepared, y_train)\n",
    "plot_roc_curve(forest_clf, X_train_best_prepared, y_train)"
   ]
  },
  {
   "cell_type": "code",
   "execution_count": 1554,
   "metadata": {},
   "outputs": [
    {
     "data": {
      "text/plain": [
       "{'bootstrap': False, 'max_depth': 4, 'max_features': 10, 'n_estimators': 75}"
      ]
     },
     "execution_count": 1554,
     "metadata": {},
     "output_type": "execute_result"
    }
   ],
   "source": [
    "param_grid = [\n",
    "    {'n_estimators': [25, 50, 75], 'max_features': [5, 10, 15], 'bootstrap': [True, False], 'max_depth': [4,5,6]}\n",
    "]\n",
    "\n",
    "forest_clf = RandomForestClassifier()\n",
    "grid_search = GridSearchCV(forest_clf, param_grid, cv=5, scoring='roc_auc') \n",
    "grid_search.fit(X_train_prepared, y_train)\n",
    "grid_search.best_params_"
   ]
  },
  {
   "cell_type": "code",
   "execution_count": 1561,
   "metadata": {},
   "outputs": [
    {
     "data": {
      "text/plain": [
       "<sklearn.metrics._plot.confusion_matrix.ConfusionMatrixDisplay at 0x7f96d7d092e0>"
      ]
     },
     "execution_count": 1561,
     "metadata": {},
     "output_type": "execute_result"
    },
    {
     "data": {
      "image/png": "[encoded data removed]",
      "text/plain": [
       "<Figure size 432x288 with 2 Axes>"
      ]
     },
     "metadata": {
      "needs_background": "light"
     },
     "output_type": "display_data"
    }
   ],
   "source": [
    "forest_clf = RandomForestClassifier(n_estimators=50, max_features=15, max_depth=6, bootstrap=False)\n",
    "forest_clf.fit(X_train_best_prepared, y_train)\n",
    "plot_confusion_matrix(forest_clf, X_test_best_prepared, y_test, values_format='d', display_labels=['alive', 'dead'])"
   ]
  },
  {
   "cell_type": "code",
   "execution_count": 1562,
   "metadata": {},
   "outputs": [
    {
     "data": {
      "text/plain": [
       "0.929370405880473"
      ]
     },
     "execution_count": 1562,
     "metadata": {},
     "output_type": "execute_result"
    },
    {
     "data": {
      "image/png": "[encoded data removed]",
      "text/plain": [
       "<Figure size 432x288 with 1 Axes>"
      ]
     },
     "metadata": {
      "needs_background": "light"
     },
     "output_type": "display_data"
    }
   ],
   "source": [
    "y_prob = forest_clf.predict_proba(X_test_best_prepared)\n",
    "y_prob = y_prob[:,1]\n",
    "fpr, tpr, thresholds = roc_curve(y_test, y_prob)\n",
    "plot_my_roc_curve(fpr, tpr) \n",
    "roc_auc_score(y_test, y_prob)"
   ]
  },
  {
   "cell_type": "code",
   "execution_count": 1563,
   "metadata": {},
   "outputs": [
    {
     "data": {
      "text/plain": [
       "0.8929477149330939"
      ]
     },
     "execution_count": 1563,
     "metadata": {},
     "output_type": "execute_result"
    }
   ],
   "source": [
    "np.mean(cross_val_score(forest_clf, X_train_best_prepared, y_train, cv=5, scoring=\"roc_auc\"))"
   ]
  },
  {
   "cell_type": "code",
   "execution_count": 1564,
   "metadata": {},
   "outputs": [
    {
     "name": "stdout",
     "output_type": "stream",
     "text": [
      "recall =  0.7857142857142857\n",
      "False Positive Rate =  0.06040268456375839\n"
     ]
    }
   ],
   "source": [
    "J = thresholds[np.argmax(tpr-fpr)]\n",
    "y_prob_adjusted = np.where(y_prob > J, 1, 0)\n",
    "cm = confusion_matrix(y_test, y_prob_adjusted)\n",
    "recall = cm[1,1]/(cm[1,1]+cm[1,0])\n",
    "print('recall = ', recall)\n",
    "fpr = cm[0,1]/(cm[0,1]+cm[0,0])\n",
    "print('False Positive Rate = ', fpr)"
   ]
  },
  {
   "cell_type": "markdown",
   "metadata": {},
   "source": [
    "The random forest classifier improved the recall and reduced the false positive rate compared to the random forest classifier prior to feature selection.  Depending on how many false positives the hospital can support financially, this model could be better than the SVM classifier due to the higher recall (but also higher false positive rate)."
   ]
  },
  {
   "cell_type": "markdown",
   "metadata": {},
   "source": [
    "# Logistic Regression"
   ]
  },
  {
   "cell_type": "code",
   "execution_count": 1508,
   "metadata": {},
   "outputs": [
    {
     "data": {
      "text/plain": [
       "{'C': 0.1, 'class_weight': None}"
      ]
     },
     "execution_count": 1508,
     "metadata": {},
     "output_type": "execute_result"
    }
   ],
   "source": [
    "param_grid = [\n",
    "    {'C': [0.01, 0.1, 0.5, 1, 10, 100, 500, 1000],\n",
    "    'class_weight': [None, 'balanced']}\n",
    "]\n",
    "\n",
    "log_clf = LogisticRegression(max_iter=1000)\n",
    "grid_search = GridSearchCV(log_clf, param_grid, cv=5, scoring='roc_auc') \n",
    "grid_search.fit(X_train_best_prepared, y_train)\n",
    "grid_search.best_params_"
   ]
  },
  {
   "cell_type": "code",
   "execution_count": 1566,
   "metadata": {},
   "outputs": [
    {
     "data": {
      "text/plain": [
       "0.9336049856184084"
      ]
     },
     "execution_count": 1566,
     "metadata": {},
     "output_type": "execute_result"
    },
    {
     "data": {
      "image/png": "[encoded data removed]",
      "text/plain": [
       "<Figure size 432x288 with 1 Axes>"
      ]
     },
     "metadata": {
      "needs_background": "light"
     },
     "output_type": "display_data"
    }
   ],
   "source": [
    "log_clf = LogisticRegression(max_iter=1000, C=0.5)\n",
    "log_clf.fit(X_train_best_prepared,y_train)\n",
    "y_scores = log_clf.decision_function(X_test_best_prepared)\n",
    "fpr, tpr, thresholds = roc_curve(y_test, y_scores)\n",
    "plot_my_roc_curve(fpr, tpr)  \n",
    "roc_auc_score(y_test, y_scores)"
   ]
  },
  {
   "cell_type": "code",
   "execution_count": 1567,
   "metadata": {},
   "outputs": [
    {
     "data": {
      "text/plain": [
       "0.9032375700055576"
      ]
     },
     "execution_count": 1567,
     "metadata": {},
     "output_type": "execute_result"
    }
   ],
   "source": [
    "np.mean(cross_val_score(log_clf, X_train_best_prepared, y_train, cv=5, scoring=\"roc_auc\"))"
   ]
  },
  {
   "cell_type": "code",
   "execution_count": 1568,
   "metadata": {},
   "outputs": [
    {
     "name": "stdout",
     "output_type": "stream",
     "text": [
      "recall =  0.7142857142857143\n",
      "False Positive Rate =  0.02348993288590604\n"
     ]
    }
   ],
   "source": [
    "J = thresholds[np.argmax(tpr-fpr)]\n",
    "y_scores_adjusted = np.where(y_scores > J, 1, 0)\n",
    "cm = confusion_matrix(y_test, y_scores_adjusted)\n",
    "recall = cm[1,1]/(cm[1,1]+cm[1,0])\n",
    "print('recall = ', recall)\n",
    "fpr = cm[0,1]/(cm[0,1]+cm[0,0])\n",
    "print('False Positive Rate = ', fpr)"
   ]
  },
  {
   "cell_type": "markdown",
   "metadata": {},
   "source": [
    "Logistic regression has a much lower false positive rate but also lower recall so it does not perform as well as the SVM or random forest classifiers."
   ]
  },
  {
   "cell_type": "markdown",
   "metadata": {},
   "source": [
    "# Adaboost"
   ]
  },
  {
   "cell_type": "code",
   "execution_count": 1044,
   "metadata": {},
   "outputs": [
    {
     "data": {
      "text/plain": [
       "<sklearn.metrics._plot.roc_curve.RocCurveDisplay at 0x7f96d8c6c6a0>"
      ]
     },
     "execution_count": 1044,
     "metadata": {},
     "output_type": "execute_result"
    },
    {
     "data": {
      "image/png": "[encoded data removed]",
      "text/plain": [
       "<Figure size 432x288 with 1 Axes>"
      ]
     },
     "metadata": {
      "needs_background": "light"
     },
     "output_type": "display_data"
    }
   ],
   "source": [
    "from sklearn.ensemble import AdaBoostClassifier\n",
    "ada_clf = AdaBoostClassifier()\n",
    "ada_clf.fit(X_train_best_prepared, y_train)\n",
    "plot_roc_curve(ada_clf, X_test_best_prepared, y_test)"
   ]
  },
  {
   "cell_type": "code",
   "execution_count": 1571,
   "metadata": {},
   "outputs": [
    {
     "data": {
      "text/plain": [
       "{'learning_rate': 0.05, 'n_estimators': 300}"
      ]
     },
     "execution_count": 1571,
     "metadata": {},
     "output_type": "execute_result"
    }
   ],
   "source": [
    "param_grid = [\n",
    "    {'n_estimators': [150, 200, 250, 300, 400], 'learning_rate': [0.01, 0.05, 0.1, 0.5]},\n",
    "]\n",
    "\n",
    "ada_clf = AdaBoostClassifier()\n",
    "grid_search = GridSearchCV(ada_clf, param_grid, cv=5, scoring='roc_auc') \n",
    "grid_search.fit(X_train_best_prepared, y_train)\n",
    "grid_search.best_params_"
   ]
  },
  {
   "cell_type": "code",
   "execution_count": 1591,
   "metadata": {},
   "outputs": [
    {
     "data": {
      "text/plain": [
       "0.9031639501438159"
      ]
     },
     "execution_count": 1591,
     "metadata": {},
     "output_type": "execute_result"
    },
    {
     "data": {
      "image/png": "[encoded data removed]",
      "text/plain": [
       "<Figure size 432x288 with 1 Axes>"
      ]
     },
     "metadata": {
      "needs_background": "light"
     },
     "output_type": "display_data"
    }
   ],
   "source": [
    "ada_clf = AdaBoostClassifier(n_estimators=400, learning_rate=0.05)\n",
    "ada_clf.fit(X_train_best_prepared, y_train)\n",
    "\n",
    "y_prob = ada_clf.predict_proba(X_test_best_prepared)\n",
    "y_prob = y_prob[:,1]\n",
    "fpr, tpr, thresholds = roc_curve(y_test, y_prob)\n",
    "plot_my_roc_curve(fpr, tpr) \n",
    "roc_auc_score(y_test, y_prob)"
   ]
  },
  {
   "cell_type": "code",
   "execution_count": 1592,
   "metadata": {},
   "outputs": [
    {
     "data": {
      "text/plain": [
       "0.8944288401521951"
      ]
     },
     "execution_count": 1592,
     "metadata": {},
     "output_type": "execute_result"
    }
   ],
   "source": [
    "np.mean(cross_val_score(ada_clf, X_train_best_prepared, y_train, cv=5, scoring=\"roc_auc\"))"
   ]
  },
  {
   "cell_type": "code",
   "execution_count": 1593,
   "metadata": {},
   "outputs": [
    {
     "name": "stdout",
     "output_type": "stream",
     "text": [
      "recall =  0.7619047619047619\n",
      "False Positive Rate =  0.05704697986577181\n"
     ]
    }
   ],
   "source": [
    "J = thresholds[np.argmax(tpr-fpr)]\n",
    "y_prob_adjusted = np.where(y_prob > J, 1, 0)\n",
    "cm = confusion_matrix(y_test, y_prob_adjusted)\n",
    "recall = cm[1,1]/(cm[1,1]+cm[1,0])\n",
    "print('recall = ', recall)\n",
    "fpr = cm[0,1]/(cm[0,1]+cm[0,0])\n",
    "print('False Positive Rate = ', fpr)"
   ]
  },
  {
   "cell_type": "markdown",
   "metadata": {},
   "source": [
    "The adaboost ensemble method has the same recall as the SVM classifier but higher false positive rate.  Therefore the SVM classifier (recall: 76.2%, false positive rate: 3.4%) with feature selection will be the final model for predicting death in patients following MI.\n",
    "<br>\n",
    "# Conclusion\n",
    "I explored an interesting dataset on myocardial infarction using my medical knowledge from graduate school.  I identified methods to remove some missing data and impute other ones based on known data. I used several classification algorithms to find an optimal model with a recall of 76.2% and false positive rate of 3.4%. I used backward selection to considerably reduce the number of features without compromising accuracy.  This was extremely useful not only to make predictions but to determine the subset of features that are critical in predicting death to increase the interpretability of the model."
   ]
  },
  {
   "cell_type": "code",
   "execution_count": null,
   "metadata": {},
   "outputs": [],
   "source": []
  }
 ],
 "metadata": {
  "kernelspec": {
   "display_name": "Python 3",
   "language": "python",
   "name": "python3"
  },
  "language_info": {
   "codemirror_mode": {
    "name": "ipython",
    "version": 3
   },
   "file_extension": ".py",
   "mimetype": "text/x-python",
   "name": "python",
   "nbconvert_exporter": "python",
   "pygments_lexer": "ipython3",
   "version": "3.8.5"
  }
 },
 "nbformat": 4,
 "nbformat_minor": 4
}
