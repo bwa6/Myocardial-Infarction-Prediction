{
 "cells": [
  {
   "cell_type": "markdown",
   "metadata": {},
   "source": [
    "# Predicting Outcomes of Myocardial Infarction (MI)"
   ]
  },
  {
   "cell_type": "markdown",
   "metadata": {},
   "source": [
    "This dataset comes from the UCI Machine Learning Repository called the Myocardial infarction complications data set. My interest in this dataset originates from the research I performed in the first three years of my Ph.D at Duke University.  I studied cardiac tissue engineering where I differentiated human induced pluripotent stem cells into cardiomyocytes and embedded them into a hydrogel to form a contractile cardiac tissue that can be implanted on the epicardium to facilitate recovery from myocardial infarction.  As a result, I was curious if I could use my new skills in machine learning algorithms to analyze this dataset to predict whether a patient will die.  The dataset contains medical information from patients prior to hospital admission and during the first three days at the hospital.  My goal is to develop a ML algorithm using the 112 features to predict whether a patient will die."
   ]
  },
  {
   "cell_type": "code",
   "execution_count": 83,
   "metadata": {},
   "outputs": [],
   "source": [
    "%matplotlib inline\n",
    "import numpy as np\n",
    "import pandas as pd\n",
    "import matplotlib.pyplot as plt\n",
    "\n",
    "from sklearn.model_selection import train_test_split\n",
    "\n",
    "from sklearn.preprocessing import StandardScaler\n",
    "from sklearn.compose import ColumnTransformer\n",
    "from sklearn.preprocessing import OneHotEncoder\n",
    "\n",
    "from sklearn.neighbors import KNeighborsClassifier\n",
    "from sklearn.ensemble import RandomForestClassifier\n",
    "from sklearn.svm import SVC\n",
    "\n",
    "from sklearn.model_selection import GridSearchCV\n",
    "from sklearn.model_selection import cross_val_score\n",
    "from sklearn.model_selection import cross_val_predict\n",
    "from sklearn.metrics import precision_recall_curve\n",
    "from sklearn.metrics import roc_curve\n",
    "from sklearn.metrics import classification_report\n",
    "from sklearn.metrics import plot_confusion_matrix\n",
    "\n"
   ]
  },
  {
   "cell_type": "code",
   "execution_count": 84,
   "metadata": {},
   "outputs": [
    {
     "data": {
      "text/html": [
       "<div>\n",
       "<style scoped>\n",
       "    .dataframe tbody tr th:only-of-type {\n",
       "        vertical-align: middle;\n",
       "    }\n",
       "\n",
       "    .dataframe tbody tr th {\n",
       "        vertical-align: top;\n",
       "    }\n",
       "\n",
       "    .dataframe thead th {\n",
       "        text-align: right;\n",
       "    }\n",
       "</style>\n",
       "<table border=\"1\" class=\"dataframe\">\n",
       "  <thead>\n",
       "    <tr style=\"text-align: right;\">\n",
       "      <th></th>\n",
       "      <th>1</th>\n",
       "      <th>77</th>\n",
       "      <th>1.1</th>\n",
       "      <th>2</th>\n",
       "      <th>1.2</th>\n",
       "      <th>1.3</th>\n",
       "      <th>2.1</th>\n",
       "      <th>?</th>\n",
       "      <th>3</th>\n",
       "      <th>0</th>\n",
       "      <th>...</th>\n",
       "      <th>0.81</th>\n",
       "      <th>0.82</th>\n",
       "      <th>0.83</th>\n",
       "      <th>0.84</th>\n",
       "      <th>0.85</th>\n",
       "      <th>0.86</th>\n",
       "      <th>0.87</th>\n",
       "      <th>0.88</th>\n",
       "      <th>0.89</th>\n",
       "      <th>0.90</th>\n",
       "    </tr>\n",
       "  </thead>\n",
       "  <tbody>\n",
       "    <tr>\n",
       "      <th>0</th>\n",
       "      <td>2</td>\n",
       "      <td>55</td>\n",
       "      <td>1</td>\n",
       "      <td>1</td>\n",
       "      <td>0</td>\n",
       "      <td>0</td>\n",
       "      <td>0</td>\n",
       "      <td>0</td>\n",
       "      <td>0</td>\n",
       "      <td>0</td>\n",
       "      <td>...</td>\n",
       "      <td>0</td>\n",
       "      <td>0</td>\n",
       "      <td>0</td>\n",
       "      <td>0</td>\n",
       "      <td>0</td>\n",
       "      <td>0</td>\n",
       "      <td>0</td>\n",
       "      <td>0</td>\n",
       "      <td>0</td>\n",
       "      <td>0</td>\n",
       "    </tr>\n",
       "    <tr>\n",
       "      <th>1</th>\n",
       "      <td>3</td>\n",
       "      <td>52</td>\n",
       "      <td>1</td>\n",
       "      <td>0</td>\n",
       "      <td>0</td>\n",
       "      <td>0</td>\n",
       "      <td>2</td>\n",
       "      <td>?</td>\n",
       "      <td>2</td>\n",
       "      <td>0</td>\n",
       "      <td>...</td>\n",
       "      <td>0</td>\n",
       "      <td>0</td>\n",
       "      <td>0</td>\n",
       "      <td>0</td>\n",
       "      <td>0</td>\n",
       "      <td>0</td>\n",
       "      <td>0</td>\n",
       "      <td>0</td>\n",
       "      <td>0</td>\n",
       "      <td>0</td>\n",
       "    </tr>\n",
       "    <tr>\n",
       "      <th>2</th>\n",
       "      <td>4</td>\n",
       "      <td>68</td>\n",
       "      <td>0</td>\n",
       "      <td>0</td>\n",
       "      <td>0</td>\n",
       "      <td>0</td>\n",
       "      <td>2</td>\n",
       "      <td>?</td>\n",
       "      <td>2</td>\n",
       "      <td>0</td>\n",
       "      <td>...</td>\n",
       "      <td>0</td>\n",
       "      <td>0</td>\n",
       "      <td>0</td>\n",
       "      <td>0</td>\n",
       "      <td>0</td>\n",
       "      <td>0</td>\n",
       "      <td>1</td>\n",
       "      <td>0</td>\n",
       "      <td>0</td>\n",
       "      <td>0</td>\n",
       "    </tr>\n",
       "    <tr>\n",
       "      <th>3</th>\n",
       "      <td>5</td>\n",
       "      <td>60</td>\n",
       "      <td>1</td>\n",
       "      <td>0</td>\n",
       "      <td>0</td>\n",
       "      <td>0</td>\n",
       "      <td>2</td>\n",
       "      <td>?</td>\n",
       "      <td>3</td>\n",
       "      <td>0</td>\n",
       "      <td>...</td>\n",
       "      <td>0</td>\n",
       "      <td>0</td>\n",
       "      <td>0</td>\n",
       "      <td>0</td>\n",
       "      <td>0</td>\n",
       "      <td>0</td>\n",
       "      <td>0</td>\n",
       "      <td>0</td>\n",
       "      <td>0</td>\n",
       "      <td>0</td>\n",
       "    </tr>\n",
       "    <tr>\n",
       "      <th>4</th>\n",
       "      <td>6</td>\n",
       "      <td>64</td>\n",
       "      <td>1</td>\n",
       "      <td>0</td>\n",
       "      <td>1</td>\n",
       "      <td>2</td>\n",
       "      <td>1</td>\n",
       "      <td>?</td>\n",
       "      <td>0</td>\n",
       "      <td>0</td>\n",
       "      <td>...</td>\n",
       "      <td>0</td>\n",
       "      <td>0</td>\n",
       "      <td>0</td>\n",
       "      <td>0</td>\n",
       "      <td>0</td>\n",
       "      <td>0</td>\n",
       "      <td>0</td>\n",
       "      <td>0</td>\n",
       "      <td>0</td>\n",
       "      <td>0</td>\n",
       "    </tr>\n",
       "  </tbody>\n",
       "</table>\n",
       "<p>5 rows × 124 columns</p>\n",
       "</div>"
      ],
      "text/plain": [
       "   1  77  1.1  2 1.2 1.3 2.1  ?  3  0  ... 0.81 0.82 0.83 0.84 0.85 0.86 0.87  \\\n",
       "0  2  55    1  1   0   0   0  0  0  0  ...    0    0    0    0    0    0    0   \n",
       "1  3  52    1  0   0   0   2  ?  2  0  ...    0    0    0    0    0    0    0   \n",
       "2  4  68    0  0   0   0   2  ?  2  0  ...    0    0    0    0    0    0    1   \n",
       "3  5  60    1  0   0   0   2  ?  3  0  ...    0    0    0    0    0    0    0   \n",
       "4  6  64    1  0   1   2   1  ?  0  0  ...    0    0    0    0    0    0    0   \n",
       "\n",
       "  0.88 0.89 0.90  \n",
       "0    0    0    0  \n",
       "1    0    0    0  \n",
       "2    0    0    0  \n",
       "3    0    0    0  \n",
       "4    0    0    0  \n",
       "\n",
       "[5 rows x 124 columns]"
      ]
     },
     "execution_count": 84,
     "metadata": {},
     "output_type": "execute_result"
    }
   ],
   "source": [
    "address = 'https://archive.ics.uci.edu/ml/machine-learning-databases/00579/MI.data'\n",
    "df = pd.read_csv(address)\n",
    "df.head()"
   ]
  },
  {
   "cell_type": "markdown",
   "metadata": {},
   "source": [
    "The columns have bizarre names so I will change their names based on the information listed for each feature on the UCI Machine Learning Repository website."
   ]
  },
  {
   "cell_type": "code",
   "execution_count": 85,
   "metadata": {},
   "outputs": [],
   "source": [
    "col_names = pd.Series([\n",
    "    'ID',\n",
    "    'AGE',\n",
    "    'SEX',\n",
    "    'INF_ANAM',\n",
    "    'STENOK_AN',\n",
    "    'FK_STENOK',\n",
    "    'IBS_POST',\n",
    "    'IBS_NASL',\n",
    "    'GB',\n",
    "    'SIM_GIPERT',\n",
    "    'DLIT_AG',\n",
    "    'ZSN_A',\n",
    "    'nr11',\n",
    "    'nr01',\n",
    "    'nr02',\n",
    "    'nr03',\n",
    "    'nr04',\n",
    "    'nr07',\n",
    "    'nr08',\n",
    "    'np01',\n",
    "    'np04',\n",
    "    'np05',\n",
    "    'np07',\n",
    "    'np08',\n",
    "    'np09',\n",
    "    'np10',\n",
    "    'endocr_01',\n",
    "    'endocr_02',\n",
    "    'endocr_03',\n",
    "    'zab_leg_01',\n",
    "    'zab_leg_02',\n",
    "    'zab_leg_03',\n",
    "    'zab_leg_04',\n",
    "    'zab_leg_06',\n",
    "    'S_AD_KBRIG',\n",
    "    'D_AD_KBRIG',\n",
    "    'S_AD_ORIT',\n",
    "    'D_AD_ORIT',\n",
    "    'O_L_POST',\n",
    "    'K_SH_POST',\n",
    "    'MP_TP_POST',\n",
    "    'SVT_POST',\n",
    "    'GT_POST',\n",
    "    'FIB_G_POST',\n",
    "    'ant_im',\n",
    "    'lat_im',\n",
    "    'inf_im',\n",
    "    'post_im',\n",
    "    'IM_PG_P',\n",
    "    'ritm_ecg_p_01',\n",
    "    'ritm_ecg_p_02',\n",
    "    'ritm_ecg_p_04',\n",
    "    'ritm_ecg_p_06',\n",
    "    'ritm_ecg_p_07',\n",
    "    'ritm_ecg_p_08',\n",
    "    'n_r_ecg_p_01',\n",
    "    'n_r_ecg_p_02',\n",
    "    'n_r_ecg_p_03',\n",
    "    'n_r_ecg_p_04',\n",
    "    'n_r_ecg_p_05',\n",
    "    'n_r_ecg_p_06',\n",
    "    'n_r_ecg_p_08',\n",
    "    'n_r_ecg_p_09',\n",
    "    'n_r_ecg_p_10',\n",
    "    'n_p_ecg_p_01',\n",
    "    'n_p_ecg_p_03',\n",
    "    'n_p_ecg_p_04',\n",
    "    'n_p_ecg_p_05',\n",
    "    'n_p_ecg_p_06',\n",
    "    'n_p_ecg_p_07',\n",
    "    'n_p_ecg_p_08',\n",
    "    'n_p_ecg_p_09',\n",
    "    'n_p_ecg_p_10',\n",
    "    'n_p_ecg_p_11',\n",
    "    'n_p_ecg_p_12',\n",
    "    'fibr_ter_01',\n",
    "    'fibr_ter_02',\n",
    "    'fibr_ter_03',\n",
    "    'fibr_ter_05',\n",
    "    'fibr_ter_06',\n",
    "    'fibr_ter_07',\n",
    "    'fibr_ter_08',\n",
    "    'GIPO_K',\n",
    "    'K_BLOOD',\n",
    "    'GIPER_Na',\n",
    "    'Na_BLOOD',\n",
    "    'ALT_BLOOD',\n",
    "    'AST_BLOOD',\n",
    "    'KFK_BLOOD',\n",
    "    'L_BLOOD',\n",
    "    'ROE',\n",
    "    'TIME_B_S',\n",
    "    'R_AB_1_n',\n",
    "    'R_AB_2_n',\n",
    "    'R_AB_3_n',\n",
    "    'NA_KB',\n",
    "    'NOT_NA_KB',\n",
    "    'LID_KB',\n",
    "    'NITR_S',\n",
    "    'NA_R_1_n',\n",
    "    'NA_R_2_n',\n",
    "    'NA_R_3_n',\n",
    "    'NOT_NA_1_n',\n",
    "    'NOT_NA_2_n',\n",
    "    'NOT_NA_3_n',\n",
    "    'LID_S_n',\n",
    "    'B_BLOK_S_n',\n",
    "    'ANT_CA_S_n',\n",
    "    'GEPAR_S_n',\n",
    "    'ASP_S_n',\n",
    "    'TIKL_S_n',\n",
    "    'TRENT_S_n',\n",
    "    'FIBR_PREDS',\n",
    "    'PREDS_TAH',\n",
    "    'JELUD_TAH',\n",
    "    'FIBR_JELUD',\n",
    "    'A_V_BLOK',\n",
    "    'OTEK_LANC',\n",
    "    'RAZRIV',\n",
    "    'DRESSLER',\n",
    "    'ZSN',\n",
    "    'REC_IM',\n",
    "    'P_IM_STEN',\n",
    "    'LET_IS'\n",
    "])\n",
    "\n",
    "df.columns = col_names"
   ]
  },
  {
   "cell_type": "markdown",
   "metadata": {},
   "source": [
    "# Data Cleaning"
   ]
  },
  {
   "cell_type": "markdown",
   "metadata": {},
   "source": [
    "Based on looking at the first few rows of the data frame and the information provided on the UCI Machine Learning Repository website, all of the missing data is specified as '?' so I counted the number of times '?' appears in each feature."
   ]
  },
  {
   "cell_type": "code",
   "execution_count": 86,
   "metadata": {},
   "outputs": [
    {
     "data": {
      "text/plain": [
       "KFK_BLOOD     1695\n",
       "IBS_NASL      1627\n",
       "S_AD_KBRIG    1075\n",
       "D_AD_KBRIG    1075\n",
       "NOT_NA_KB      685\n",
       "              ... \n",
       "zab_leg_04       7\n",
       "zab_leg_06       7\n",
       "NA_R_1_n         5\n",
       "INF_ANAM         4\n",
       "IM_PG_P          1\n",
       "Length: 110, dtype: int64"
      ]
     },
     "execution_count": 86,
     "metadata": {},
     "output_type": "execute_result"
    }
   ],
   "source": [
    "df[df=='?'].count().sort_values(ascending=False)[:110]"
   ]
  },
  {
   "cell_type": "markdown",
   "metadata": {},
   "source": [
    "KFK_BLOOD, IBS_NASL, S_AD_KBRIG, D_AD_KBRIG, NOT_NA_KB, LID_KB, and NA_KB are missing signficant data so I will drop these features."
   ]
  },
  {
   "cell_type": "code",
   "execution_count": 87,
   "metadata": {},
   "outputs": [],
   "source": [
    "MI_df = df.drop(columns=['KFK_BLOOD','IBS_NASL','S_AD_KBRIG','D_AD_KBRIG',\n",
    "                        'NOT_NA_KB','LID_KB','NA_KB'], axis=1)"
   ]
  },
  {
   "cell_type": "markdown",
   "metadata": {},
   "source": [
    "Convert all data types to floats to be able to calculate statistics, such as mean, median, etc."
   ]
  },
  {
   "cell_type": "code",
   "execution_count": 88,
   "metadata": {},
   "outputs": [],
   "source": [
    "MI_df = MI_df.replace(to_replace='?',value=np.nan)\n",
    "MI_df = MI_df.astype('float32')"
   ]
  },
  {
   "cell_type": "markdown",
   "metadata": {},
   "source": [
    "One method to fix missing values is to impute the value based on the rest of the data. To start, I will identify features where the most common value occurs over 75% of the time.  In this case, I will guess that missing values in these columns are the value that occurs over 75% of the time."
   ]
  },
  {
   "cell_type": "code",
   "execution_count": 89,
   "metadata": {},
   "outputs": [],
   "source": [
    "# identify which columns have missing values\n",
    "Cols_missing = MI_df.isnull().sum().sort_values(ascending=False)\n",
    "Cols_missing = Cols_missing[Cols_missing != 0]\n",
    "\n",
    "Col_common = []\n",
    "Col_common_max_value = []\n",
    "for i in range(len(Cols_missing)):\n",
    "    if max(MI_df[Cols_missing.index[i]].value_counts())/MI_df[Cols_missing.index[i]].value_counts().sum()>0.75:\n",
    "        Col_common.append(Cols_missing.index[i])\n",
    "        Col_common_max_value.append(max(MI_df[Cols_missing.index[i]])) \n",
    "\n",
    "# replace nan with most common value if that value occurs more than 75% of the time\n",
    "for i in range(len(Col_common)):\n",
    "    MI_df[Col_common[i]].replace(np.nan,Col_common_max_value[i],inplace=True)"
   ]
  },
  {
   "cell_type": "code",
   "execution_count": 90,
   "metadata": {},
   "outputs": [
    {
     "data": {
      "text/plain": [
       "Na_BLOOD         375\n",
       "K_BLOOD          371\n",
       "GIPO_K           369\n",
       "AST_BLOOD        284\n",
       "ALT_BLOOD        283\n",
       "S_AD_ORIT        267\n",
       "D_AD_ORIT        267\n",
       "DLIT_AG          248\n",
       "ROE              203\n",
       "ritm_ecg_p_01    152\n",
       "TIME_B_S         126\n",
       "L_BLOOD          125\n",
       "STENOK_AN        106\n",
       "ant_im            83\n",
       "inf_im            80\n",
       "lat_im            80\n",
       "FK_STENOK         73\n",
       "IBS_POST          51\n",
       "ASP_S_n           17\n",
       "GEPAR_S_n         17\n",
       "ANT_CA_S_n        13\n",
       "NOT_NA_1_n        10\n",
       "LID_S_n           10\n",
       "GB                 9\n",
       "AGE                8\n",
       "NA_R_1_n           5\n",
       "INF_ANAM           4\n",
       "dtype: int64"
      ]
     },
     "execution_count": 90,
     "metadata": {},
     "output_type": "execute_result"
    }
   ],
   "source": [
    "# Identify which columns still have missing values\n",
    "Cols_missing = MI_df.isnull().sum().sort_values(ascending=False)\n",
    "Cols_missing = Cols_missing[Cols_missing != 0]\n",
    "Cols_missing"
   ]
  },
  {
   "cell_type": "markdown",
   "metadata": {},
   "source": [
    "For colums with numeric data, I will impute missing values as the median of the feature.  To do this, I will determine which columns are numeric vs. categorical based on the number of unique values in each column."
   ]
  },
  {
   "cell_type": "code",
   "execution_count": 91,
   "metadata": {},
   "outputs": [],
   "source": [
    "# separate columns with missing data into numeric vs. categorical\n",
    "Cols_num_missing = []\n",
    "Cols_cat_missing = []\n",
    "for i in range(len(Cols_missing)):\n",
    "    if len(MI_df[Cols_missing.index[i]].unique()) > 10:\n",
    "        Cols_num_missing.append(Cols_missing.index[i])\n",
    "    else:\n",
    "        Cols_cat_missing.append(Cols_missing.index[i])"
   ]
  },
  {
   "cell_type": "code",
   "execution_count": 92,
   "metadata": {},
   "outputs": [],
   "source": [
    "# create a function that replaces missing values in columns with numeric data with the median of the available data\n",
    "def use_numeric_average(columns):\n",
    "    for i in range(len(columns)):\n",
    "        avg = MI_df[columns[i]].median()\n",
    "        MI_df[columns[i]].replace(np.nan,avg,inplace=True)\n",
    "\n",
    "# Try replacing missing values of numeric data with median of available data\n",
    "use_numeric_average(Cols_num_missing)"
   ]
  },
  {
   "cell_type": "markdown",
   "metadata": {},
   "source": [
    "I still need to determine a solution for missing values in the columns containing categorical data. According to the UCI Machine Learning Repository website for this dataset, ritm_ecg_p_01, ritm_ecg_p_07, and ritm_ecg_p_08 are mutually exclusive, i.e. all of these values represent ECG at the time of admission with varying heart rates. ritm_ecg_p_01 has a heart rate of 60-90 bpm. ritm_ecg_p_07 has a heart rate greater than 90 bpm while ritm_ecg_p_08 has a heart rate lower than 60 bpm.  Since I have all of the data for ritm_ecg_p_07 and ritm_ecg_p_08, I can use those columns to determine values for ritm_ecg_p_01."
   ]
  },
  {
   "cell_type": "code",
   "execution_count": 93,
   "metadata": {},
   "outputs": [],
   "source": [
    "# Estimate ritm_ecg_p_01 based on ritm_ecg_p_07 and ritm_ecg_p_08 \n",
    "# ritm_ecg_p_01 must be 0 if either ritm_ecg_p_07 or ritm_ecg_p_08 is 1, and ritm_ecg_p_01 must be 1 they are both 0\n",
    "mask_01_null = MI_df['ritm_ecg_p_01'].isnull()\n",
    "mask_07 = MI_df['ritm_ecg_p_07'] == 0\n",
    "mask_08 = MI_df['ritm_ecg_p_08'] == 0\n",
    "\n",
    "MI_df['ritm_ecg_p_01'] = np.where(mask_01_null & mask_07 & mask_08, 1, MI_df.ritm_ecg_p_01)\n",
    "mask_null = MI_df['ritm_ecg_p_01'].isnull()\n",
    "MI_df['ritm_ecg_p_01'] = np.where(mask_null, 0, MI_df.ritm_ecg_p_01)"
   ]
  },
  {
   "cell_type": "markdown",
   "metadata": {},
   "source": [
    "For the remaining features containing missing values, I use various strategies that make the most sense for each feature."
   ]
  },
  {
   "cell_type": "code",
   "execution_count": 94,
   "metadata": {},
   "outputs": [],
   "source": [
    "# INF_ANAM - only 4 missing values and majority of values are 0\n",
    "MI_df['INF_ANAM'].replace(np.nan,0,inplace=True)\n",
    "\n",
    "# NA_R_1_n/NA_R_2_n represent how many opioids were used in the first/second day at the hospital\n",
    "# Patients with high opioid use on day 2 likely had high use on day 1\n",
    "# Since there is no missing data for NA_R_2_n, I will guess NA_R_1_n to have the same value as NA_R_2_n\n",
    "MI_df['NA_R_1_n'] = np.where(MI_df['NA_R_1_n'].isnull(), MI_df.NA_R_2_n, MI_df.NA_R_1_n)\n",
    "\n",
    "# LID_S_n - over 70% are 0 so set missing values to 0\n",
    "MI_df['LID_S_n'].replace(np.nan,0,inplace=True)\n",
    "\n",
    "# NOT_NA_1_n - over 70% are 0 so set missing values to 0\n",
    "MI_df['NOT_NA_1_n'].replace(np.nan,0,inplace=True)\n",
    "\n",
    "# ANT_CA_S_n - over 65% are 1 so set missing values to 1\n",
    "MI_df['ANT_CA_S_n'].replace(np.nan,1,inplace=True)\n",
    "\n",
    "# ASP_S_n - over 70% are 1 so set missing values to 1\n",
    "MI_df['ASP_S_n'].replace(np.nan,1,inplace=True)\n",
    "\n",
    "# GEPAR_S_n - over 70% are 1 so set missing values to 1\n",
    "MI_df['GEPAR_S_n'].replace(np.nan,1,inplace=True)\n",
    "\n",
    "# The following features represent the presence of myocardial infarction on ECG\n",
    "# Since the values are missing, the hospital likely did not need to perform the test \n",
    "# Therefore, the value is likely 0 (no myocardial infarction on ECG)\n",
    "MI_df['ant_im'].replace(np.nan,0,inplace=True)\n",
    "MI_df['lat_im'].replace(np.nan,0,inplace=True)\n",
    "MI_df['inf_im'].replace(np.nan,0,inplace=True)\n",
    "\n",
    "# GIPO_K refers to the presence of hypokalemia, or low levels of potassium in the plasma\n",
    "# K_BLOOD, which does not have missing data, is the level of potassium in the plasma\n",
    "# Hypokalemia occurs with at a plasma concentration below 4 mmol/L\n",
    "# Therefore, I can use the known K_BLOOD levels to determine missing values of GIPO_K\n",
    "mask_null = MI_df['GIPO_K'].isnull()\n",
    "mask_KBLOOD1 = MI_df['K_BLOOD']<4\n",
    "mask_KBLOOD2 = MI_df['K_BLOOD']>=4\n",
    "MI_df['GIPO_K'] = np.where(mask_null & mask_KBLOOD1, 1, MI_df.GIPO_K)\n",
    "MI_df['GIPO_K'] = np.where(mask_null & mask_KBLOOD2, 0, MI_df.GIPO_K)\n",
    "\n",
    "# GB - only 9 missing values and majority have value 2\n",
    "MI_df['GB'].replace(np.nan,2,inplace=True)\n",
    "\n",
    "# DLIT_AG - represents duration of hypertension - most values are either 0 (no hypertension) or 7 (more than 10 years)\n",
    "# GB, which does not have missing data, represents the presence of hypertension\n",
    "# Therefore, for patients with GB=0, DLIT_AG should be 0\n",
    "# For patients with GB>0, guess DLIT_AG=7, since it is the most common for patients with hypertension\n",
    "mask_null = MI_df['DLIT_AG'].isnull()\n",
    "mask_GB1 = MI_df['GB']==0\n",
    "mask_GB2 = MI_df['GB']>0\n",
    "MI_df['DLIT_AG'] = np.where(mask_null & mask_GB1, 0, MI_df.DLIT_AG)\n",
    "MI_df['DLIT_AG'] = np.where(mask_null & mask_GB2, 7, MI_df.DLIT_AG)\n",
    "\n",
    "# STENOK_AN refers to a patient's history of angina pectoris, which is often associated with myocardial infarction\n",
    "# INF_ANAM, what has no missing data, refers to a patient's history of myocardial infarction\n",
    "# Therefore, if INF_ANAM=0 (0 MI), STENOK_AN is most likely 0\n",
    "# If INF_ANAM>0, STENOK_AN is most commonly a value of 6\n",
    "mask_null = MI_df['STENOK_AN'].isnull()\n",
    "mask_INFANAM1 = MI_df['INF_ANAM']==0\n",
    "mask_INFANAM2 = MI_df['INF_ANAM']>0\n",
    "MI_df['STENOK_AN'] = np.where(mask_null & mask_INFANAM1, 0, MI_df.DLIT_AG)\n",
    "MI_df['STENOK_AN'] = np.where(mask_null & mask_INFANAM2, 6, MI_df.DLIT_AG)\n",
    "\n",
    "# FK_STENOK represents the type of angina pectoris\n",
    "# Therefore, if a patient has STENOK_AN=0, FK_STENOK should be 0\n",
    "# If STENOK_AN>0, majority of FK_STENOK are 2\n",
    "mask_null = MI_df['FK_STENOK'].isnull()\n",
    "mask_STENOKAN1 = MI_df['STENOK_AN']==0\n",
    "mask_STENOKAN2 = MI_df['STENOK_AN']>0\n",
    "MI_df['FK_STENOK'] = np.where(mask_null & mask_STENOKAN1, 0, MI_df.DLIT_AG)\n",
    "MI_df['FK_STENOK'] = np.where(mask_null & mask_STENOKAN2, 2, MI_df.DLIT_AG)\n",
    "\n",
    "# IBS_POST - fairly evenly divided among three categories - guess most common category (2)\n",
    "MI_df['IBS_POST'].replace(np.nan,2,inplace=True)\n",
    "\n",
    "# TIME_B_S - fairly evenly divided among many categories - guess most common category (2)\n",
    "MI_df['TIME_B_S'].replace(np.nan,2,inplace=True)"
   ]
  },
  {
   "cell_type": "markdown",
   "metadata": {},
   "source": [
    "# Separate training and testing data"
   ]
  },
  {
   "cell_type": "markdown",
   "metadata": {},
   "source": [
    "I am interested in predicting whether a patient dies, which is the column labeled 'LET_IS.' This feature has eight possible values due to different causes of death.  I am only interested in whether a patient dies, so I will convert this category into a binary outcome."
   ]
  },
  {
   "cell_type": "code",
   "execution_count": 95,
   "metadata": {},
   "outputs": [],
   "source": [
    "Data_df = MI_df.drop(['ID','FIBR_PREDS','PREDS_TAH','JELUD_TAH','FIBR_JELUD','A_V_BLOK',\n",
    "                      'OTEK_LANC','RAZRIV','DRESSLER','ZSN','REC_IM','P_IM_STEN','LET_IS'],axis=1)\n",
    "\n",
    "Target_df = MI_df['LET_IS']\n",
    "mask = Target_df == 0\n",
    "Target_df = np.where(mask,0,1)\n",
    "\n",
    "X_train, X_test, y_train, y_test = train_test_split(Data_df,Target_df,test_size=0.2)"
   ]
  },
  {
   "cell_type": "markdown",
   "metadata": {},
   "source": [
    "# Scale numeric data and one-hot encode categorical data"
   ]
  },
  {
   "cell_type": "markdown",
   "metadata": {},
   "source": [
    "Before training models on the training data, I need to make sure the numeric data is properly scaled to a mean of 0 and standard deviation of 1. For categorical data, I need to one-hot encode so that the algorithms do not perceive any relationships among the possible values of each category."
   ]
  },
  {
   "cell_type": "code",
   "execution_count": 96,
   "metadata": {},
   "outputs": [],
   "source": [
    "Columns_num = []\n",
    "Columns_cat_one_hot = []\n",
    "for i in range(len(Data_df.columns)):\n",
    "    if len(Data_df[Data_df.columns[i]].value_counts()) > 10:\n",
    "        Columns_num.append(Data_df.columns[i])\n",
    "    elif len(Data_df[Data_df.columns[i]].value_counts()) > 2:\n",
    "        Columns_cat_one_hot.append(Data_df.columns[i])\n",
    "num_attribs = Columns_num\n",
    "cat_attribs = Columns_cat_one_hot\n",
    "\n",
    "full_pipeline = ColumnTransformer([\n",
    "    (\"num\", StandardScaler(), num_attribs), \n",
    "    (\"cat\", OneHotEncoder(), cat_attribs),\n",
    "])\n",
    "X_train_prepared = full_pipeline.fit_transform(X_train)"
   ]
  },
  {
   "cell_type": "markdown",
   "metadata": {},
   "source": [
    "# Train Models"
   ]
  },
  {
   "cell_type": "markdown",
   "metadata": {},
   "source": [
    "## K-Nearest Neighbors (KNN)"
   ]
  },
  {
   "cell_type": "markdown",
   "metadata": {},
   "source": [
    "The first model I will test is a K-nearest neighbors supervised learning classifier. I will use 10-fold cross-validation to fit the optimal parameters."
   ]
  },
  {
   "cell_type": "code",
   "execution_count": 37,
   "metadata": {},
   "outputs": [
    {
     "data": {
      "text/plain": [
       "0.9235294117647059"
      ]
     },
     "execution_count": 37,
     "metadata": {},
     "output_type": "execute_result"
    }
   ],
   "source": [
    "knn_clf = KNeighborsClassifier() \n",
    "knn_clf.fit(X_train_prepared, y_train)\n",
    "knn_clf.predict(X_train_prepared[24])\n",
    "\n",
    "X_test_prepared = full_pipeline.transform(X_test)\n",
    "knn_clf.score(X_test_prepared, y_test)"
   ]
  },
  {
   "cell_type": "markdown",
   "metadata": {},
   "source": [
    "This resulted in a seemingly high score but this could be due to a high accuracy of negative results with a low accuracy of positive results, so I need to explore this further.  For now, I will use a grid search with cross-validation to see if I can improve the model further."
   ]
  },
  {
   "cell_type": "code",
   "execution_count": 38,
   "metadata": {},
   "outputs": [],
   "source": [
    "scores = cross_val_score(knn_clf, X_train_prepared, y_train,\n",
    "                         scoring=\"neg_mean_squared_error\", cv=10) \n",
    "tree_rmse_scores = np.sqrt(-scores)"
   ]
  },
  {
   "cell_type": "code",
   "execution_count": 39,
   "metadata": {},
   "outputs": [
    {
     "name": "stdout",
     "output_type": "stream",
     "text": [
      "Scores:  [0.33210558 0.29704426 0.28439823 0.33210558 0.30917347 0.27116307\n",
      " 0.32084447 0.34299717 0.35355339 0.33333333]\n",
      "Mean:  0.3176718568190574\n",
      "Standard Deviation:  0.025236461059974652\n"
     ]
    }
   ],
   "source": [
    "def display_scores(scores):\n",
    "    print('Scores: ', scores)\n",
    "    print('Mean: ', scores.mean())\n",
    "    print('Standard Deviation: ', scores.std())\n",
    "\n",
    "display_scores(tree_rmse_scores) "
   ]
  },
  {
   "cell_type": "code",
   "execution_count": 58,
   "metadata": {},
   "outputs": [
    {
     "data": {
      "text/plain": [
       "{'n_neighbors': 5, 'p': 1, 'weights': 'uniform'}"
      ]
     },
     "execution_count": 58,
     "metadata": {},
     "output_type": "execute_result"
    }
   ],
   "source": [
    "param_grid = [\n",
    "    {'n_neighbors': [3, 5, 10, 20], 'weights': ['uniform','distance'], 'p': [1,2]},\n",
    "]\n",
    "\n",
    "clf_knn = KNeighborsClassifier()\n",
    "grid_search = GridSearchCV(clf_knn, param_grid, cv=5, scoring='neg_mean_squared_error',\n",
    "                           return_train_score=True) \n",
    "grid_search.fit(X_train_prepared, y_train)\n",
    "grid_search.best_params_"
   ]
  },
  {
   "cell_type": "code",
   "execution_count": 59,
   "metadata": {},
   "outputs": [
    {
     "name": "stdout",
     "output_type": "stream",
     "text": [
      "0.31867222362185316 {'n_neighbors': 3, 'p': 1, 'weights': 'uniform'}\n",
      "0.31867222362185316 {'n_neighbors': 3, 'p': 1, 'weights': 'distance'}\n",
      "0.3232498249284257 {'n_neighbors': 3, 'p': 2, 'weights': 'uniform'}\n",
      "0.3232498249284257 {'n_neighbors': 3, 'p': 2, 'weights': 'distance'}\n",
      "0.3081053594542285 {'n_neighbors': 5, 'p': 1, 'weights': 'uniform'}\n",
      "0.3081053594542285 {'n_neighbors': 5, 'p': 1, 'weights': 'distance'}\n",
      "0.3151964736756773 {'n_neighbors': 5, 'p': 2, 'weights': 'uniform'}\n",
      "0.3151964736756773 {'n_neighbors': 5, 'p': 2, 'weights': 'distance'}\n",
      "0.31636072944540544 {'n_neighbors': 10, 'p': 1, 'weights': 'uniform'}\n",
      "0.31402790146726595 {'n_neighbors': 10, 'p': 1, 'weights': 'distance'}\n",
      "0.32438935971503696 {'n_neighbors': 10, 'p': 2, 'weights': 'uniform'}\n",
      "0.32097129831714 {'n_neighbors': 10, 'p': 2, 'weights': 'distance'}\n",
      "0.3209755249326921 {'n_neighbors': 20, 'p': 1, 'weights': 'uniform'}\n",
      "0.3186764807301021 {'n_neighbors': 20, 'p': 1, 'weights': 'distance'}\n",
      "0.3288956467169285 {'n_neighbors': 20, 'p': 2, 'weights': 'uniform'}\n",
      "0.32552490546255514 {'n_neighbors': 20, 'p': 2, 'weights': 'distance'}\n"
     ]
    }
   ],
   "source": [
    "cvres = grid_search.cv_results_\n",
    "for mean_score, params in zip(cvres[\"mean_test_score\"], cvres[\"params\"]):\n",
    "    print(np.sqrt(-mean_score), params)"
   ]
  },
  {
   "cell_type": "code",
   "execution_count": 60,
   "metadata": {},
   "outputs": [
    {
     "data": {
      "text/plain": [
       "<sklearn.metrics._plot.confusion_matrix.ConfusionMatrixDisplay at 0x7fd477de9be0>"
      ]
     },
     "execution_count": 60,
     "metadata": {},
     "output_type": "execute_result"
    },
    {
     "data": {
      "image/png": "[encoded data removed]",
      "text/plain": [
       "<Figure size 432x288 with 2 Axes>"
      ]
     },
     "metadata": {
      "needs_background": "light"
     },
     "output_type": "display_data"
    }
   ],
   "source": [
    "clf_knn = KNeighborsClassifier(n_neighbors=5,p=1,weights='uniform')\n",
    "clf_knn.fit(X_train_prepared,y_train)\n",
    "plot_confusion_matrix(clf_knn, X_test_prepared, y_test, values_format='d', display_labels=['less than 50k','more than 50k'])"
   ]
  },
  {
   "cell_type": "code",
   "execution_count": 61,
   "metadata": {},
   "outputs": [
    {
     "name": "stdout",
     "output_type": "stream",
     "text": [
      "              precision    recall  f1-score   support\n",
      "\n",
      "           0       0.90      0.99      0.95      1136\n",
      "           1       0.94      0.45      0.61       223\n",
      "\n",
      "    accuracy                           0.91      1359\n",
      "   macro avg       0.92      0.72      0.78      1359\n",
      "weighted avg       0.91      0.91      0.89      1359\n",
      "\n"
     ]
    }
   ],
   "source": [
    "y_train_pred = cross_val_predict(clf_knn, X_train_prepared, y_train, cv=10)\n",
    "print(classification_report(y_train, y_train_pred))"
   ]
  },
  {
   "cell_type": "markdown",
   "metadata": {},
   "source": [
    "After determining the optimal fit with grid search, I used the optimal hyperparameters to fit the data and tested the fit with the test data.  As suggested earlier, the high score is due to extremely accurate predictions of survivors but low accuracy of people that died.  The recall is 0.45 with approximately only half of the people that died correctly classified."
   ]
  },
  {
   "cell_type": "markdown",
   "metadata": {},
   "source": [
    "## Random Forest"
   ]
  },
  {
   "cell_type": "markdown",
   "metadata": {},
   "source": [
    "To see if I can get a more accurate prediction for people that die, I decided to test a random forest algorithm with optimized hyperparameters using a grid search with cross-validation."
   ]
  },
  {
   "cell_type": "code",
   "execution_count": 97,
   "metadata": {},
   "outputs": [
    {
     "data": {
      "text/plain": [
       "0.8941176470588236"
      ]
     },
     "execution_count": 97,
     "metadata": {},
     "output_type": "execute_result"
    }
   ],
   "source": [
    "clf_forest = RandomForestClassifier()\n",
    "clf_forest.fit(X_train_prepared, y_train)\n",
    "X_test_prepared = full_pipeline.transform(X_test)\n",
    "clf_forest.score(X_test_prepared, y_test)"
   ]
  },
  {
   "cell_type": "code",
   "execution_count": 98,
   "metadata": {},
   "outputs": [
    {
     "data": {
      "text/plain": [
       "{'max_features': 20, 'n_estimators': 100}"
      ]
     },
     "execution_count": 98,
     "metadata": {},
     "output_type": "execute_result"
    }
   ],
   "source": [
    "param_grid = [\n",
    "    {'n_estimators': [50, 100, 150], 'max_features': [10, 15, 20]},\n",
    "    {'bootstrap': [False], 'n_estimators': [50, 100], 'max_features': [6, 10, 15]},\n",
    "]\n",
    "\n",
    "forest_reg = RandomForestClassifier()\n",
    "grid_search = GridSearchCV(forest_reg, param_grid, cv=5, scoring='neg_mean_squared_error',\n",
    "                           return_train_score=True) \n",
    "grid_search.fit(X_train_prepared, y_train)\n",
    "grid_search.best_params_"
   ]
  },
  {
   "cell_type": "code",
   "execution_count": 99,
   "metadata": {},
   "outputs": [
    {
     "name": "stdout",
     "output_type": "stream",
     "text": [
      "0.2766312590504351 {'max_features': 10, 'n_estimators': 50}\n",
      "0.27664106710443853 {'max_features': 10, 'n_estimators': 100}\n",
      "0.277971738471299 {'max_features': 10, 'n_estimators': 150}\n",
      "0.2726051074467137 {'max_features': 15, 'n_estimators': 50}\n",
      "0.27125311148148556 {'max_features': 15, 'n_estimators': 100}\n",
      "0.2699043958434054 {'max_features': 15, 'n_estimators': 150}\n",
      "0.26988428973522466 {'max_features': 20, 'n_estimators': 50}\n",
      "0.2643740534032637 {'max_features': 20, 'n_estimators': 100}\n",
      "0.2712581127834041 {'max_features': 20, 'n_estimators': 150}\n",
      "0.2779619773708317 {'bootstrap': False, 'max_features': 6, 'n_estimators': 50}\n",
      "0.27261506035229927 {'bootstrap': False, 'max_features': 6, 'n_estimators': 100}\n",
      "0.2712481100873525 {'bootstrap': False, 'max_features': 10, 'n_estimators': 50}\n",
      "0.27396033517378904 {'bootstrap': False, 'max_features': 10, 'n_estimators': 100}\n",
      "0.2726051074467137 {'bootstrap': False, 'max_features': 15, 'n_estimators': 50}\n",
      "0.26989936945677906 {'bootstrap': False, 'max_features': 15, 'n_estimators': 100}\n"
     ]
    }
   ],
   "source": [
    "cvres = grid_search.cv_results_\n",
    "for mean_score, params in zip(cvres[\"mean_test_score\"], cvres[\"params\"]):\n",
    "    print(np.sqrt(-mean_score), params)"
   ]
  },
  {
   "cell_type": "code",
   "execution_count": 43,
   "metadata": {},
   "outputs": [
    {
     "data": {
      "text/plain": [
       "<sklearn.metrics._plot.confusion_matrix.ConfusionMatrixDisplay at 0x7fd477a6eca0>"
      ]
     },
     "execution_count": 43,
     "metadata": {},
     "output_type": "execute_result"
    },
    {
     "data": {
      "image/png": "[encoded data removed]",
      "text/plain": [
       "<Figure size 432x288 with 2 Axes>"
      ]
     },
     "metadata": {
      "needs_background": "light"
     },
     "output_type": "display_data"
    }
   ],
   "source": [
    "forest_clf = RandomForestClassifier(n_estimators=50, max_features=15,bootstrap=False)\n",
    "forest_clf.fit(X_train_prepared,y_train)\n",
    "plot_confusion_matrix(forest_clf, X_test_prepared, y_test, values_format='d', display_labels=['less than 50k','more than 50k'])"
   ]
  },
  {
   "cell_type": "code",
   "execution_count": 47,
   "metadata": {},
   "outputs": [
    {
     "name": "stdout",
     "output_type": "stream",
     "text": [
      "              precision    recall  f1-score   support\n",
      "\n",
      "           0       0.92      0.99      0.95      1136\n",
      "           1       0.91      0.55      0.68       223\n",
      "\n",
      "    accuracy                           0.92      1359\n",
      "   macro avg       0.91      0.77      0.82      1359\n",
      "weighted avg       0.92      0.92      0.91      1359\n",
      "\n"
     ]
    }
   ],
   "source": [
    "y_train_pred = cross_val_predict(forest_clf, X_train_prepared, y_train, cv=10)\n",
    "print(classification_report(y_train, y_train_pred))"
   ]
  },
  {
   "cell_type": "markdown",
   "metadata": {},
   "source": [
    "The random forest classifier had similar results as KNN but with a slightly improved recall of 0.55."
   ]
  },
  {
   "cell_type": "markdown",
   "metadata": {},
   "source": [
    "## Support Vector Machines (SVM)"
   ]
  },
  {
   "cell_type": "markdown",
   "metadata": {},
   "source": [
    "Finally, I tested a support vector machine algorithm to see if it could more accuratly predict death than KNN and the random forest classifier."
   ]
  },
  {
   "cell_type": "code",
   "execution_count": 30,
   "metadata": {},
   "outputs": [
    {
     "data": {
      "text/plain": [
       "<sklearn.metrics._plot.confusion_matrix.ConfusionMatrixDisplay at 0x7fd4752a5ee0>"
      ]
     },
     "execution_count": 30,
     "metadata": {},
     "output_type": "execute_result"
    },
    {
     "data": {
      "image/png": "[encoded data removed]",
      "text/plain": [
       "<Figure size 432x288 with 2 Axes>"
      ]
     },
     "metadata": {
      "needs_background": "light"
     },
     "output_type": "display_data"
    }
   ],
   "source": [
    "clf_svm = SVC()\n",
    "clf_svm.fit(X_train_prepared,y_train)\n",
    "\n",
    "X_test_prepared = full_pipeline.transform(X_test)\n",
    "plot_confusion_matrix(clf_svm, X_test_prepared, y_test, values_format='d', display_labels=['less than 50k','more than 50k'])"
   ]
  },
  {
   "cell_type": "code",
   "execution_count": 31,
   "metadata": {},
   "outputs": [
    {
     "data": {
      "text/plain": [
       "{'C': 10, 'gamma': 0.01, 'kernel': 'rbf'}"
      ]
     },
     "execution_count": 31,
     "metadata": {},
     "output_type": "execute_result"
    }
   ],
   "source": [
    "param_grid = [\n",
    "    {'C': [0.5, 1, 10, 100], \n",
    "     'gamma': ['scale', 1, 0.1, 0.01, 0.001, 0.0001], \n",
    "     'kernel': ['rbf']},\n",
    "]\n",
    "\n",
    "clf_svm = SVC()\n",
    "grid_search = GridSearchCV(clf_svm, param_grid, cv=5, scoring='accuracy',\n",
    "                           return_train_score=True) \n",
    "grid_search.fit(X_train_prepared, y_train)\n",
    "grid_search.best_params_"
   ]
  },
  {
   "cell_type": "code",
   "execution_count": 32,
   "metadata": {},
   "outputs": [
    {
     "data": {
      "text/plain": [
       "<sklearn.metrics._plot.confusion_matrix.ConfusionMatrixDisplay at 0x7fd477aa8bb0>"
      ]
     },
     "execution_count": 32,
     "metadata": {},
     "output_type": "execute_result"
    },
    {
     "data": {
      "image/png": "[encoded data removed]",
      "text/plain": [
       "<Figure size 432x288 with 2 Axes>"
      ]
     },
     "metadata": {
      "needs_background": "light"
     },
     "output_type": "display_data"
    }
   ],
   "source": [
    "clf_svm = SVC(C=10, gamma=0.01, kernel='rbf')\n",
    "clf_svm.fit(X_train_prepared,y_train)\n",
    "plot_confusion_matrix(clf_svm, X_test_prepared, y_test, values_format='d', display_labels=['less than 50k','more than 50k'])"
   ]
  },
  {
   "cell_type": "code",
   "execution_count": 33,
   "metadata": {},
   "outputs": [
    {
     "name": "stdout",
     "output_type": "stream",
     "text": [
      "              precision    recall  f1-score   support\n",
      "\n",
      "           0       0.92      0.99      0.95      1136\n",
      "           1       0.91      0.57      0.70       223\n",
      "\n",
      "    accuracy                           0.92      1359\n",
      "   macro avg       0.91      0.78      0.83      1359\n",
      "weighted avg       0.92      0.92      0.91      1359\n",
      "\n"
     ]
    }
   ],
   "source": [
    "y_train_pred = cross_val_predict(clf_svm, X_train_prepared, y_train, cv=10)\n",
    "print(classification_report(y_train, y_train_pred))"
   ]
  },
  {
   "cell_type": "markdown",
   "metadata": {},
   "source": [
    "SVM resulted in a slightly better recall than the other algorithms at 0.57 (compared to 0.55 and 0.45).  Fortunately, the algorithms do a near perfect job predicting negatives.  Therefore, we can improve recall by changing the threshold used to classify predictions.  This will result in a lower precision but improved recall.  In the case of predicting death, it is certainly more important to have a higher recall than precision.  It is ok if the algorithm identifies survivors as people that are likely to die as long as it identifies every person who is at risk for death without further medical intervention.  I will plot the ROC curve to determine an optimal threshold for the algorithm."
   ]
  },
  {
   "cell_type": "code",
   "execution_count": 51,
   "metadata": {},
   "outputs": [
    {
     "data": {
      "image/png": "[encoded data removed]",
      "text/plain": [
       "<Figure size 432x288 with 1 Axes>"
      ]
     },
     "metadata": {
      "needs_background": "light"
     },
     "output_type": "display_data"
    }
   ],
   "source": [
    "y_scores = cross_val_predict(clf_svm, X_train_prepared, y_train, cv=5, method=\"decision_function\")\n",
    "precisions, recalls, thresholds = precision_recall_curve(y_train, y_scores)\n",
    "\n",
    "def plot_precision_recall_vs_threshold(precisions, recalls, thresholds): \n",
    "    plt.plot(thresholds, precisions[:-1], \"b--\", label=\"Precision\") \n",
    "    plt.plot(thresholds, recalls[:-1], \"g-\", label=\"Recall\")\n",
    "    \n",
    "plot_precision_recall_vs_threshold(precisions, recalls, thresholds) \n",
    "plt.show()  "
   ]
  },
  {
   "cell_type": "code",
   "execution_count": 36,
   "metadata": {},
   "outputs": [
    {
     "data": {
      "image/png": "[encoded data removed]",
      "text/plain": [
       "<Figure size 432x288 with 1 Axes>"
      ]
     },
     "metadata": {
      "needs_background": "light"
     },
     "output_type": "display_data"
    }
   ],
   "source": [
    "fpr, tpr, thresholds = roc_curve(y_train, y_scores)\n",
    "def plot_roc_curve(fpr, tpr, label=None): \n",
    "    plt.plot(fpr, tpr, linewidth=2, label=label) \n",
    "    plt.plot([0, 1], [0, 1], 'k--')\n",
    "    plt.xlabel('False Positive Rate')\n",
    "    plt.ylabel('True Positive Rate (Recall)')\n",
    "plot_roc_curve(fpr, tpr) \n",
    "plt.show() "
   ]
  },
  {
   "cell_type": "markdown",
   "metadata": {},
   "source": [
    "The ROC curve shows a fairly accurate model if the threshold is adjusted to a recall of about 0.75 while still maintaining a low false positive rate."
   ]
  },
  {
   "cell_type": "markdown",
   "metadata": {},
   "source": [
    "In conclusion, I explored an interesting dataset on myocardial infarction using my medical knowledge from graduate school.  I identified effective methods to remove some missing data and impute other ones based on known data. I used three different supervised learning algorithms that resulted in a low false positive rate and a moderate recall. I discovered from the ROC curve that adjusting the threshold can lead to a significantly more accurate model with a high recall and low fals positive rate."
   ]
  },
  {
   "cell_type": "code",
   "execution_count": null,
   "metadata": {},
   "outputs": [],
   "source": []
  }
 ],
 "metadata": {
  "kernelspec": {
   "display_name": "Python 3",
   "language": "python",
   "name": "python3"
  },
  "language_info": {
   "codemirror_mode": {
    "name": "ipython",
    "version": 3
   },
   "file_extension": ".py",
   "mimetype": "text/x-python",
   "name": "python",
   "nbconvert_exporter": "python",
   "pygments_lexer": "ipython3",
   "version": "3.8.5"
  }
 },
 "nbformat": 4,
 "nbformat_minor": 4
}
